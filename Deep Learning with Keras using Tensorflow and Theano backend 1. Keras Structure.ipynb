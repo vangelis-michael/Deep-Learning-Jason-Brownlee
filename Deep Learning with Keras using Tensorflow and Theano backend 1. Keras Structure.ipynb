{
 "cells": [
  {
   "cell_type": "markdown",
   "metadata": {},
   "source": [
    "## Concepts and Implementation of Deep learning in Python - Neural Networks"
   ]
  },
  {
   "cell_type": "markdown",
   "metadata": {},
   "source": [
    "Scipy >= 0.17.0\n",
    "\n",
    "Numpy >= 1.11.0\n",
    "\n",
    "Matplotlib >= 1.5.1\n",
    "\n",
    "Pandas >= 0.18.0\n",
    "\n",
    "Scikit-learn >= 0.17.1"
   ]
  },
  {
   "cell_type": "code",
   "execution_count": 1,
   "metadata": {},
   "outputs": [],
   "source": [
    "# importing modules\n",
    "import scipy as sc\n",
    "import pandas as pd\n",
    "import numpy as np\n",
    "import sklearn as sk\n",
    "import matplotlib as mpl"
   ]
  },
  {
   "cell_type": "code",
   "execution_count": 3,
   "metadata": {},
   "outputs": [
    {
     "name": "stdout",
     "output_type": "stream",
     "text": [
      "scipy == 1.4.1\n",
      "pandas == 0.25.3\n",
      "numpy == 1.16.2\n",
      "scikit-learn == 0.20.2\n",
      "matplotlib == 3.0.2\n"
     ]
    }
   ],
   "source": [
    "# Verifying the module versions\n",
    "print('scipy == {}'.format(sc.__version__))\n",
    "print('pandas == {}'.format(pd.__version__))\n",
    "print('numpy == {}'.format(np.__version__))\n",
    "print('scikit-learn == {}'.format(sk.__version__))\n",
    "print('matplotlib == {}'.format(mpl.__version__))"
   ]
  },
  {
   "cell_type": "code",
   "execution_count": 4,
   "metadata": {},
   "outputs": [
    {
     "name": "stdout",
     "output_type": "stream",
     "text": [
      "pip 20.0.2 from /home/michael/.local/lib/python3.7/site-packages/pip (python 3.7)\r\n"
     ]
    }
   ],
   "source": [
    "# Python version\n",
    "!pip3 --version"
   ]
  },
  {
   "cell_type": "code",
   "execution_count": null,
   "metadata": {},
   "outputs": [],
   "source": [
    "# Install theano for deep learning\n",
    "!pip install Theano"
   ]
  },
  {
   "cell_type": "code",
   "execution_count": 7,
   "metadata": {},
   "outputs": [],
   "source": [
    "# Example with theano library\n",
    "import theano\n",
    "from theano import tensor\n",
    "# declare two symbolic floating-point scalars\n",
    "a = tensor.dscalar()\n",
    "b = tensor.dscalar()"
   ]
  },
  {
   "cell_type": "code",
   "execution_count": 8,
   "metadata": {},
   "outputs": [
    {
     "name": "stdout",
     "output_type": "stream",
     "text": [
      "4.0\n"
     ]
    }
   ],
   "source": [
    "# Create a simple symbolic expression\n",
    "c = a + b\n",
    "# convert the expression into a callable object that takes a and b and computes c.\n",
    "f = theano.function([a, b], c)\n",
    "# create the inputs to calculate\n",
    "result = f(1.5, 2.5)\n",
    "print(result)"
   ]
  },
  {
   "cell_type": "code",
   "execution_count": 9,
   "metadata": {},
   "outputs": [
    {
     "data": {
      "text/plain": [
       "4.0"
      ]
     },
     "execution_count": 9,
     "metadata": {},
     "output_type": "execute_result"
    }
   ],
   "source": [
    "def f(a, b):\n",
    "    c = a + b\n",
    "    return c\n",
    "f(1.5, 2.5)"
   ]
  },
  {
   "cell_type": "code",
   "execution_count": 12,
   "metadata": {},
   "outputs": [
    {
     "data": {
      "text/plain": [
       "'2.1.0'"
      ]
     },
     "execution_count": 12,
     "metadata": {},
     "output_type": "execute_result"
    }
   ],
   "source": [
    "# import Tensorflow\n",
    "import tensorflow as tf\n",
    "tf.__version__"
   ]
  },
  {
   "cell_type": "code",
   "execution_count": null,
   "metadata": {},
   "outputs": [],
   "source": [
    "# Example using tensorflow library.\n",
    "# declare symbolic floating-point scalars\n",
    "a = tf.placeholder(tf.float32)\n",
    "b = tf.placeholder(tf.float32)\n",
    "# create a simple symbolic expression\n",
    "add = tf.add(a, b)\n",
    "# bind values to a and b\n",
    "sess = tf.Session()\n",
    "bind = {a: 1.5, b : 2.5}\n",
    "c = sess.run(add, feed_dict=bind)\n",
    "print(c)"
   ]
  },
  {
   "cell_type": "code",
   "execution_count": 1,
   "metadata": {},
   "outputs": [
    {
     "name": "stderr",
     "output_type": "stream",
     "text": [
      "Using TensorFlow backend.\n"
     ]
    },
    {
     "data": {
      "text/plain": [
       "'2.3.1'"
      ]
     },
     "execution_count": 1,
     "metadata": {},
     "output_type": "execute_result"
    }
   ],
   "source": [
    "import keras\n",
    "keras.__version__"
   ]
  },
  {
   "cell_type": "markdown",
   "metadata": {},
   "source": [
    "You can change the backend to any of Tensorflow or Theano to leverage on their computational properties while using the minimalist Keras API.\n",
    "\n",
    "Simply search for the directory ~/.keras/ and edit the backend property in the keras.json file."
   ]
  },
  {
   "cell_type": "markdown",
   "metadata": {},
   "source": [
    "y_pred = Activation(W0 + W1*X1 + .....+ Wn*Xn)\n",
    "\n",
    "initialize w0\n",
    "\n",
    "w0*X1 = yhat\n",
    "\n",
    "a = derivative(yhat-y)\n",
    "\n",
    "w1 = w - a*learn_rate\n",
    "\n",
    "w1*X2 = yhat2\n",
    "\n",
    ".\n",
    ".\n",
    ".\n",
    ".\n",
    "\n",
    "wn\n",
    "\n",
    "new test\n",
    "\n",
    "wn*X = y_predict"
   ]
  },
  {
   "cell_type": "markdown",
   "metadata": {},
   "source": [
    "Steps to design your Neural Network model\n",
    "1. Load Data.\n",
    "2. Define Model.\n",
    "3. Compile Model.\n",
    "4. Fit Model.\n",
    "5. Evaluate Model.\n",
    "6. Tie It All Together."
   ]
  },
  {
   "cell_type": "code",
   "execution_count": 5,
   "metadata": {
    "scrolled": true
   },
   "outputs": [
    {
     "name": "stdout",
     "output_type": "stream",
     "text": [
      "--2020-02-26 19:29:58--  https://raw.githubusercontent.com/jbrownlee/Datasets/master/pima-indians-diabetes.data.csv\n",
      "Resolving raw.githubusercontent.com (raw.githubusercontent.com)... 151.101.172.133\n",
      "Connecting to raw.githubusercontent.com (raw.githubusercontent.com)|151.101.172.133|:443... connected.\n",
      "HTTP request sent, awaiting response... 200 OK\n",
      "Length: 23278 (23K) [text/plain]\n",
      "Saving to: ‘pima-indians-diabetes.data.csv’\n",
      "\n",
      "pima-indians-diabet 100%[===================>]  22.73K  --.-KB/s    in 0.08s   \n",
      "\n",
      "2020-02-26 19:29:59 (279 KB/s) - ‘pima-indians-diabetes.data.csv’ saved [23278/23278]\n",
      "\n"
     ]
    }
   ],
   "source": [
    "# Let's get an already cleaned dataset from the github repo.\n",
    "!wget https://raw.githubusercontent.com/jbrownlee/Datasets/master/pima-indians-diabetes.data.csv"
   ]
  },
  {
   "cell_type": "code",
   "execution_count": 6,
   "metadata": {},
   "outputs": [
    {
     "name": "stdout",
     "output_type": "stream",
     "text": [
      "'Deep Learning With Tensorflow, Keras, Theano, Python.ipynb'\r\n",
      "'Linear Algebra and Basics Mathematics..ipynb'\r\n",
      " pima-indians-diabetes.data.csv\r\n"
     ]
    }
   ],
   "source": [
    "# List the files in your current directory\n",
    "!ls"
   ]
  },
  {
   "cell_type": "markdown",
   "metadata": {},
   "source": [
    "#### 1. Load data"
   ]
  },
  {
   "cell_type": "code",
   "execution_count": 7,
   "metadata": {},
   "outputs": [],
   "source": [
    "# Import useful modules for neural networks\n",
    "from keras.models import Sequential\n",
    "from keras.layers import Dense\n",
    "import numpy as np\n",
    "# fix random seed for reproducibility\n",
    "seed = 7\n",
    "np.random.seed(seed)"
   ]
  },
  {
   "cell_type": "markdown",
   "metadata": {},
   "source": [
    "1. Number of times pregnant.\n",
    "2. Plasma glucose concentration a 2 hours in an oral glucose tolerance test.\n",
    "3. Diastolic blood pressure (mm Hg).\n",
    "4. Triceps skin fold thickness (mm).\n",
    "5. 2-Hour serum insulin (mu U/ml).\n",
    "6. Body mass index.\n",
    "7. Diabetes pedigree function.\n",
    "8. Age (years).\n",
    "9. Class, onset of diabetes within five years."
   ]
  },
  {
   "cell_type": "code",
   "execution_count": 21,
   "metadata": {},
   "outputs": [
    {
     "data": {
      "text/plain": [
       "1"
      ]
     },
     "execution_count": 21,
     "metadata": {},
     "output_type": "execute_result"
    }
   ],
   "source": [
    "# Verify your random initialization\n",
    "np.random.randint(1, 12)"
   ]
  },
  {
   "cell_type": "code",
   "execution_count": 8,
   "metadata": {},
   "outputs": [
    {
     "data": {
      "text/plain": [
       "((768, 8), (768,))"
      ]
     },
     "execution_count": 8,
     "metadata": {},
     "output_type": "execute_result"
    }
   ],
   "source": [
    "# load the dataset\n",
    "dataset = np.loadtxt('pima-indians-diabetes.data.csv', delimiter = ',')\n",
    "# split into input(X) and output (Y) variables\n",
    "X = dataset[:,0:8]\n",
    "Y = dataset[:,8]\n",
    "X.shape, Y.shape"
   ]
  },
  {
   "cell_type": "markdown",
   "metadata": {},
   "source": [
    "#### 2. Define Model"
   ]
  },
  {
   "cell_type": "code",
   "execution_count": 11,
   "metadata": {},
   "outputs": [],
   "source": [
    "# Create model\n",
    "model = Sequential() # Call the keras sequential function, then add layers\n",
    "model.add(Dense(12, input_dim = 8, kernel_initializer='uniform', activation='relu'))\n",
    "model.add(Dense(8, kernel_initializer='uniform', activation='relu'))\n",
    "model.add(Dense(1, kernel_initializer='uniform', activation='sigmoid'))"
   ]
  },
  {
   "cell_type": "code",
   "execution_count": 13,
   "metadata": {},
   "outputs": [
    {
     "name": "stdout",
     "output_type": "stream",
     "text": [
      "Model: \"sequential_2\"\n",
      "_________________________________________________________________\n",
      "Layer (type)                 Output Shape              Param #   \n",
      "=================================================================\n",
      "dense_4 (Dense)              (None, 12)                108       \n",
      "_________________________________________________________________\n",
      "dense_5 (Dense)              (None, 8)                 104       \n",
      "_________________________________________________________________\n",
      "dense_6 (Dense)              (None, 1)                 9         \n",
      "=================================================================\n",
      "Total params: 221\n",
      "Trainable params: 221\n",
      "Non-trainable params: 0\n",
      "_________________________________________________________________\n"
     ]
    }
   ],
   "source": [
    "# Get the model summary\n",
    "model.summary()"
   ]
  },
  {
   "cell_type": "markdown",
   "metadata": {},
   "source": [
    "Number of trainable parameters:\n",
    "\n",
    "    = connections between layers + biases in every layer\n",
    "    = (8 * 12 + 12 * 8 + 8 * 1) + (12 + 8 + 1)\n",
    "    = 221"
   ]
  },
  {
   "cell_type": "code",
   "execution_count": 14,
   "metadata": {},
   "outputs": [
    {
     "data": {
      "image/png": "[encoded data removed]",
      "text/plain": [
       "<IPython.core.display.Image object>"
      ]
     },
     "execution_count": 14,
     "metadata": {},
     "output_type": "execute_result"
    }
   ],
   "source": [
    "# Plot the model we have designed\n",
    "from keras.utils.vis_utils import plot_model\n",
    "plot_model(model, to_file='model_plot.png', show_shapes=True, show_layer_names=True)"
   ]
  },
  {
   "cell_type": "markdown",
   "metadata": {},
   "source": [
    "#### 3. Compile Model"
   ]
  },
  {
   "cell_type": "code",
   "execution_count": 16,
   "metadata": {},
   "outputs": [],
   "source": [
    "# compile the model\n",
    "model.compile(loss = 'binary_crossentropy', optimizer='adam', metrics=['accuracy'])"
   ]
  },
  {
   "cell_type": "markdown",
   "metadata": {},
   "source": [
    "#### 4. Fit the Model"
   ]
  },
  {
   "cell_type": "code",
   "execution_count": 25,
   "metadata": {},
   "outputs": [
    {
     "name": "stdout",
     "output_type": "stream",
     "text": [
      "Epoch 1/200\n",
      "768/768 [==============================] - 0s 133us/step - loss: 0.4409 - accuracy: 0.7747\n",
      "Epoch 2/200\n",
      "330/768 [===========>..................] - ETA: 0s - loss: 0.4272 - accuracy: 0.8061"
     ]
    },
    {
     "name": "stderr",
     "output_type": "stream",
     "text": [
      "/usr/lib/python3/dist-packages/ipykernel_launcher.py:2: UserWarning: The `nb_epoch` argument in `fit` has been renamed `epochs`.\n",
      "  \n"
     ]
    },
    {
     "name": "stdout",
     "output_type": "stream",
     "text": [
      "768/768 [==============================] - 0s 150us/step - loss: 0.4453 - accuracy: 0.7865\n",
      "Epoch 3/200\n",
      "768/768 [==============================] - 0s 129us/step - loss: 0.4424 - accuracy: 0.7865\n",
      "Epoch 4/200\n",
      "768/768 [==============================] - 0s 132us/step - loss: 0.4394 - accuracy: 0.7773\n",
      "Epoch 5/200\n",
      "768/768 [==============================] - 0s 132us/step - loss: 0.4539 - accuracy: 0.7839\n",
      "Epoch 6/200\n",
      "768/768 [==============================] - 0s 116us/step - loss: 0.4392 - accuracy: 0.7943\n",
      "Epoch 7/200\n",
      "768/768 [==============================] - 0s 132us/step - loss: 0.4352 - accuracy: 0.7969\n",
      "Epoch 8/200\n",
      "768/768 [==============================] - 0s 122us/step - loss: 0.4373 - accuracy: 0.7891\n",
      "Epoch 9/200\n",
      "768/768 [==============================] - 0s 122us/step - loss: 0.4393 - accuracy: 0.7969\n",
      "Epoch 10/200\n",
      "768/768 [==============================] - 0s 120us/step - loss: 0.4385 - accuracy: 0.7891\n",
      "Epoch 11/200\n",
      "768/768 [==============================] - 0s 140us/step - loss: 0.4413 - accuracy: 0.7982\n",
      "Epoch 12/200\n",
      "768/768 [==============================] - 0s 119us/step - loss: 0.4395 - accuracy: 0.8047\n",
      "Epoch 13/200\n",
      "768/768 [==============================] - 0s 131us/step - loss: 0.4345 - accuracy: 0.8021\n",
      "Epoch 14/200\n",
      "768/768 [==============================] - 0s 100us/step - loss: 0.4405 - accuracy: 0.7904\n",
      "Epoch 15/200\n",
      "768/768 [==============================] - 0s 178us/step - loss: 0.4368 - accuracy: 0.8047\n",
      "Epoch 16/200\n",
      "768/768 [==============================] - 0s 107us/step - loss: 0.4371 - accuracy: 0.7982\n",
      "Epoch 17/200\n",
      "768/768 [==============================] - 0s 142us/step - loss: 0.4361 - accuracy: 0.7865\n",
      "Epoch 18/200\n",
      "768/768 [==============================] - 0s 137us/step - loss: 0.4403 - accuracy: 0.7943\n",
      "Epoch 19/200\n",
      "768/768 [==============================] - 0s 127us/step - loss: 0.4363 - accuracy: 0.7891\n",
      "Epoch 20/200\n",
      "768/768 [==============================] - 0s 102us/step - loss: 0.4201 - accuracy: 0.8060\n",
      "Epoch 21/200\n",
      "768/768 [==============================] - 0s 171us/step - loss: 0.4354 - accuracy: 0.8034\n",
      "Epoch 22/200\n",
      "768/768 [==============================] - 0s 131us/step - loss: 0.4277 - accuracy: 0.8008\n",
      "Epoch 23/200\n",
      "768/768 [==============================] - 0s 113us/step - loss: 0.4260 - accuracy: 0.8034\n",
      "Epoch 24/200\n",
      "768/768 [==============================] - 0s 97us/step - loss: 0.4282 - accuracy: 0.7930\n",
      "Epoch 25/200\n",
      "768/768 [==============================] - 0s 119us/step - loss: 0.4345 - accuracy: 0.8021\n",
      "Epoch 26/200\n",
      "768/768 [==============================] - 0s 114us/step - loss: 0.4295 - accuracy: 0.7917\n",
      "Epoch 27/200\n",
      "768/768 [==============================] - 0s 120us/step - loss: 0.4331 - accuracy: 0.7969\n",
      "Epoch 28/200\n",
      "768/768 [==============================] - 0s 96us/step - loss: 0.4305 - accuracy: 0.8086\n",
      "Epoch 29/200\n",
      "768/768 [==============================] - 0s 117us/step - loss: 0.4283 - accuracy: 0.7956\n",
      "Epoch 30/200\n",
      "768/768 [==============================] - 0s 137us/step - loss: 0.4430 - accuracy: 0.7852\n",
      "Epoch 31/200\n",
      "768/768 [==============================] - 0s 125us/step - loss: 0.4385 - accuracy: 0.7969\n",
      "Epoch 32/200\n",
      "768/768 [==============================] - 0s 131us/step - loss: 0.4273 - accuracy: 0.8073\n",
      "Epoch 33/200\n",
      "768/768 [==============================] - 0s 94us/step - loss: 0.4278 - accuracy: 0.7969\n",
      "Epoch 34/200\n",
      "768/768 [==============================] - 0s 104us/step - loss: 0.4204 - accuracy: 0.8099\n",
      "Epoch 35/200\n",
      "768/768 [==============================] - 0s 121us/step - loss: 0.4302 - accuracy: 0.8021\n",
      "Epoch 36/200\n",
      "768/768 [==============================] - 0s 116us/step - loss: 0.4275 - accuracy: 0.7812\n",
      "Epoch 37/200\n",
      "768/768 [==============================] - 0s 111us/step - loss: 0.4277 - accuracy: 0.7995\n",
      "Epoch 38/200\n",
      "768/768 [==============================] - 0s 131us/step - loss: 0.4251 - accuracy: 0.8060\n",
      "Epoch 39/200\n",
      "768/768 [==============================] - 0s 115us/step - loss: 0.4249 - accuracy: 0.7956\n",
      "Epoch 40/200\n",
      "768/768 [==============================] - 0s 99us/step - loss: 0.4199 - accuracy: 0.8034\n",
      "Epoch 41/200\n",
      "768/768 [==============================] - 0s 102us/step - loss: 0.4230 - accuracy: 0.8099\n",
      "Epoch 42/200\n",
      "768/768 [==============================] - 0s 132us/step - loss: 0.4222 - accuracy: 0.7969\n",
      "Epoch 43/200\n",
      "768/768 [==============================] - 0s 98us/step - loss: 0.4171 - accuracy: 0.8099\n",
      "Epoch 44/200\n",
      "768/768 [==============================] - 0s 125us/step - loss: 0.4244 - accuracy: 0.7982\n",
      "Epoch 45/200\n",
      "768/768 [==============================] - 0s 104us/step - loss: 0.4224 - accuracy: 0.8099\n",
      "Epoch 46/200\n",
      "768/768 [==============================] - 0s 102us/step - loss: 0.4185 - accuracy: 0.8073\n",
      "Epoch 47/200\n",
      "768/768 [==============================] - 0s 113us/step - loss: 0.4298 - accuracy: 0.7956\n",
      "Epoch 48/200\n",
      "768/768 [==============================] - 0s 103us/step - loss: 0.4284 - accuracy: 0.8021\n",
      "Epoch 49/200\n",
      "768/768 [==============================] - 0s 94us/step - loss: 0.4206 - accuracy: 0.8138\n",
      "Epoch 50/200\n",
      "768/768 [==============================] - 0s 119us/step - loss: 0.4168 - accuracy: 0.8034\n",
      "Epoch 51/200\n",
      "768/768 [==============================] - 0s 106us/step - loss: 0.4287 - accuracy: 0.7930\n",
      "Epoch 52/200\n",
      "768/768 [==============================] - 0s 144us/step - loss: 0.4227 - accuracy: 0.7930\n",
      "Epoch 53/200\n",
      "768/768 [==============================] - 0s 180us/step - loss: 0.4165 - accuracy: 0.8086\n",
      "Epoch 54/200\n",
      "768/768 [==============================] - 0s 224us/step - loss: 0.4273 - accuracy: 0.8047\n",
      "Epoch 55/200\n",
      "768/768 [==============================] - 0s 166us/step - loss: 0.4186 - accuracy: 0.8073\n",
      "Epoch 56/200\n",
      "768/768 [==============================] - 0s 242us/step - loss: 0.4210 - accuracy: 0.8060\n",
      "Epoch 57/200\n",
      "768/768 [==============================] - 0s 179us/step - loss: 0.4229 - accuracy: 0.8073\n",
      "Epoch 58/200\n",
      "768/768 [==============================] - 0s 147us/step - loss: 0.4143 - accuracy: 0.8086\n",
      "Epoch 59/200\n",
      "768/768 [==============================] - 0s 148us/step - loss: 0.4164 - accuracy: 0.8099\n",
      "Epoch 60/200\n",
      "768/768 [==============================] - 0s 120us/step - loss: 0.4141 - accuracy: 0.8177\n",
      "Epoch 61/200\n",
      "768/768 [==============================] - 0s 129us/step - loss: 0.4154 - accuracy: 0.8099\n",
      "Epoch 62/200\n",
      "768/768 [==============================] - 0s 129us/step - loss: 0.4146 - accuracy: 0.8203\n",
      "Epoch 63/200\n",
      "768/768 [==============================] - 0s 114us/step - loss: 0.4192 - accuracy: 0.8047\n",
      "Epoch 64/200\n",
      "768/768 [==============================] - 0s 95us/step - loss: 0.4197 - accuracy: 0.8086\n",
      "Epoch 65/200\n",
      "768/768 [==============================] - 0s 145us/step - loss: 0.4112 - accuracy: 0.8125\n",
      "Epoch 66/200\n",
      "768/768 [==============================] - 0s 131us/step - loss: 0.4318 - accuracy: 0.7904\n",
      "Epoch 67/200\n",
      "768/768 [==============================] - 0s 128us/step - loss: 0.4179 - accuracy: 0.8008\n",
      "Epoch 68/200\n",
      "768/768 [==============================] - 0s 118us/step - loss: 0.4101 - accuracy: 0.8112\n",
      "Epoch 69/200\n",
      "768/768 [==============================] - 0s 119us/step - loss: 0.4134 - accuracy: 0.8190\n",
      "Epoch 70/200\n",
      "768/768 [==============================] - 0s 99us/step - loss: 0.4096 - accuracy: 0.8073\n",
      "Epoch 71/200\n",
      "768/768 [==============================] - 0s 132us/step - loss: 0.4196 - accuracy: 0.8073\n",
      "Epoch 72/200\n",
      "768/768 [==============================] - 0s 131us/step - loss: 0.4153 - accuracy: 0.8008\n",
      "Epoch 73/200\n",
      "768/768 [==============================] - 0s 92us/step - loss: 0.4146 - accuracy: 0.8125\n",
      "Epoch 74/200\n",
      "768/768 [==============================] - 0s 115us/step - loss: 0.4098 - accuracy: 0.8125\n",
      "Epoch 75/200\n",
      "768/768 [==============================] - 0s 95us/step - loss: 0.4247 - accuracy: 0.7930\n",
      "Epoch 76/200\n",
      "768/768 [==============================] - 0s 139us/step - loss: 0.4128 - accuracy: 0.8177\n",
      "Epoch 77/200\n",
      "768/768 [==============================] - 0s 131us/step - loss: 0.4094 - accuracy: 0.8086\n",
      "Epoch 78/200\n",
      "768/768 [==============================] - 0s 136us/step - loss: 0.4037 - accuracy: 0.8125\n",
      "Epoch 79/200\n",
      "768/768 [==============================] - 0s 117us/step - loss: 0.4125 - accuracy: 0.8099\n",
      "Epoch 80/200\n",
      "768/768 [==============================] - 0s 130us/step - loss: 0.4062 - accuracy: 0.8203\n",
      "Epoch 81/200\n"
     ]
    },
    {
     "name": "stdout",
     "output_type": "stream",
     "text": [
      "768/768 [==============================] - 0s 100us/step - loss: 0.4167 - accuracy: 0.8112\n",
      "Epoch 82/200\n",
      "768/768 [==============================] - 0s 123us/step - loss: 0.4135 - accuracy: 0.8112\n",
      "Epoch 83/200\n",
      "768/768 [==============================] - 0s 123us/step - loss: 0.4113 - accuracy: 0.8099\n",
      "Epoch 84/200\n",
      "768/768 [==============================] - 0s 110us/step - loss: 0.4098 - accuracy: 0.8060\n",
      "Epoch 85/200\n",
      "768/768 [==============================] - 0s 108us/step - loss: 0.4188 - accuracy: 0.8060\n",
      "Epoch 86/200\n",
      "768/768 [==============================] - 0s 110us/step - loss: 0.4068 - accuracy: 0.8138\n",
      "Epoch 87/200\n",
      "768/768 [==============================] - 0s 120us/step - loss: 0.4066 - accuracy: 0.8125\n",
      "Epoch 88/200\n",
      "768/768 [==============================] - 0s 111us/step - loss: 0.4384 - accuracy: 0.7852\n",
      "Epoch 89/200\n",
      "768/768 [==============================] - 0s 110us/step - loss: 0.4202 - accuracy: 0.8034\n",
      "Epoch 90/200\n",
      "768/768 [==============================] - 0s 111us/step - loss: 0.4099 - accuracy: 0.8008\n",
      "Epoch 91/200\n",
      "768/768 [==============================] - 0s 110us/step - loss: 0.4064 - accuracy: 0.8125\n",
      "Epoch 92/200\n",
      "768/768 [==============================] - 0s 119us/step - loss: 0.4219 - accuracy: 0.8073\n",
      "Epoch 93/200\n",
      "768/768 [==============================] - 0s 115us/step - loss: 0.4111 - accuracy: 0.8086\n",
      "Epoch 94/200\n",
      "768/768 [==============================] - 0s 109us/step - loss: 0.4171 - accuracy: 0.7982\n",
      "Epoch 95/200\n",
      "768/768 [==============================] - 0s 113us/step - loss: 0.4114 - accuracy: 0.8047\n",
      "Epoch 96/200\n",
      "768/768 [==============================] - 0s 103us/step - loss: 0.4083 - accuracy: 0.8255\n",
      "Epoch 97/200\n",
      "768/768 [==============================] - 0s 96us/step - loss: 0.4002 - accuracy: 0.8086\n",
      "Epoch 98/200\n",
      "768/768 [==============================] - 0s 90us/step - loss: 0.4109 - accuracy: 0.8151\n",
      "Epoch 99/200\n",
      "768/768 [==============================] - 0s 86us/step - loss: 0.4173 - accuracy: 0.8112\n",
      "Epoch 100/200\n",
      "768/768 [==============================] - 0s 85us/step - loss: 0.4028 - accuracy: 0.8216\n",
      "Epoch 101/200\n",
      "768/768 [==============================] - 0s 83us/step - loss: 0.4004 - accuracy: 0.8151\n",
      "Epoch 102/200\n",
      "768/768 [==============================] - 0s 94us/step - loss: 0.4026 - accuracy: 0.8125\n",
      "Epoch 103/200\n",
      "768/768 [==============================] - 0s 89us/step - loss: 0.4030 - accuracy: 0.8099\n",
      "Epoch 104/200\n",
      "768/768 [==============================] - 0s 89us/step - loss: 0.4052 - accuracy: 0.8216\n",
      "Epoch 105/200\n",
      "768/768 [==============================] - 0s 82us/step - loss: 0.4069 - accuracy: 0.8164\n",
      "Epoch 106/200\n",
      "768/768 [==============================] - 0s 84us/step - loss: 0.4037 - accuracy: 0.8073\n",
      "Epoch 107/200\n",
      "768/768 [==============================] - 0s 88us/step - loss: 0.4035 - accuracy: 0.8060\n",
      "Epoch 108/200\n",
      "768/768 [==============================] - 0s 74us/step - loss: 0.4046 - accuracy: 0.8138\n",
      "Epoch 109/200\n",
      "768/768 [==============================] - 0s 74us/step - loss: 0.4129 - accuracy: 0.8177\n",
      "Epoch 110/200\n",
      "768/768 [==============================] - 0s 75us/step - loss: 0.4114 - accuracy: 0.7904\n",
      "Epoch 111/200\n",
      "768/768 [==============================] - 0s 104us/step - loss: 0.4138 - accuracy: 0.8086\n",
      "Epoch 112/200\n",
      "768/768 [==============================] - 0s 105us/step - loss: 0.4059 - accuracy: 0.8177\n",
      "Epoch 113/200\n",
      "768/768 [==============================] - 0s 119us/step - loss: 0.3994 - accuracy: 0.8099\n",
      "Epoch 114/200\n",
      "768/768 [==============================] - 0s 106us/step - loss: 0.4058 - accuracy: 0.8138\n",
      "Epoch 115/200\n",
      "768/768 [==============================] - 0s 98us/step - loss: 0.4031 - accuracy: 0.8047\n",
      "Epoch 116/200\n",
      "768/768 [==============================] - 0s 113us/step - loss: 0.4107 - accuracy: 0.8164\n",
      "Epoch 117/200\n",
      "768/768 [==============================] - 0s 138us/step - loss: 0.4039 - accuracy: 0.8151\n",
      "Epoch 118/200\n",
      "768/768 [==============================] - 0s 109us/step - loss: 0.4089 - accuracy: 0.8190\n",
      "Epoch 119/200\n",
      "768/768 [==============================] - 0s 107us/step - loss: 0.4018 - accuracy: 0.8164\n",
      "Epoch 120/200\n",
      "768/768 [==============================] - 0s 104us/step - loss: 0.4034 - accuracy: 0.8164\n",
      "Epoch 121/200\n",
      "768/768 [==============================] - 0s 103us/step - loss: 0.4035 - accuracy: 0.8086\n",
      "Epoch 122/200\n",
      "768/768 [==============================] - 0s 98us/step - loss: 0.4023 - accuracy: 0.8151\n",
      "Epoch 123/200\n",
      "768/768 [==============================] - 0s 99us/step - loss: 0.4167 - accuracy: 0.8060\n",
      "Epoch 124/200\n",
      "768/768 [==============================] - 0s 99us/step - loss: 0.4050 - accuracy: 0.8190\n",
      "Epoch 125/200\n",
      "768/768 [==============================] - 0s 118us/step - loss: 0.4142 - accuracy: 0.8073\n",
      "Epoch 126/200\n",
      "768/768 [==============================] - 0s 112us/step - loss: 0.4108 - accuracy: 0.8060\n",
      "Epoch 127/200\n",
      "768/768 [==============================] - 0s 121us/step - loss: 0.3927 - accuracy: 0.8177\n",
      "Epoch 128/200\n",
      "768/768 [==============================] - 0s 119us/step - loss: 0.3961 - accuracy: 0.8164\n",
      "Epoch 129/200\n",
      "768/768 [==============================] - 0s 109us/step - loss: 0.4001 - accuracy: 0.8229\n",
      "Epoch 130/200\n",
      "768/768 [==============================] - 0s 99us/step - loss: 0.4127 - accuracy: 0.8151\n",
      "Epoch 131/200\n",
      "768/768 [==============================] - 0s 88us/step - loss: 0.3940 - accuracy: 0.8164\n",
      "Epoch 132/200\n",
      "768/768 [==============================] - 0s 96us/step - loss: 0.3963 - accuracy: 0.8229\n",
      "Epoch 133/200\n",
      "768/768 [==============================] - 0s 112us/step - loss: 0.3979 - accuracy: 0.8164\n",
      "Epoch 134/200\n",
      "768/768 [==============================] - 0s 97us/step - loss: 0.3966 - accuracy: 0.8099\n",
      "Epoch 135/200\n",
      "768/768 [==============================] - 0s 86us/step - loss: 0.4011 - accuracy: 0.8164\n",
      "Epoch 136/200\n",
      "768/768 [==============================] - 0s 86us/step - loss: 0.3954 - accuracy: 0.8086\n",
      "Epoch 137/200\n",
      "768/768 [==============================] - 0s 103us/step - loss: 0.4011 - accuracy: 0.8099\n",
      "Epoch 138/200\n",
      "768/768 [==============================] - 0s 93us/step - loss: 0.3896 - accuracy: 0.8190\n",
      "Epoch 139/200\n",
      "768/768 [==============================] - 0s 93us/step - loss: 0.4056 - accuracy: 0.8151\n",
      "Epoch 140/200\n",
      "768/768 [==============================] - 0s 93us/step - loss: 0.4202 - accuracy: 0.7956\n",
      "Epoch 141/200\n",
      "768/768 [==============================] - 0s 94us/step - loss: 0.3962 - accuracy: 0.8060\n",
      "Epoch 142/200\n",
      "768/768 [==============================] - 0s 80us/step - loss: 0.4147 - accuracy: 0.8164\n",
      "Epoch 143/200\n",
      "768/768 [==============================] - 0s 76us/step - loss: 0.3991 - accuracy: 0.8151\n",
      "Epoch 144/200\n",
      "768/768 [==============================] - 0s 75us/step - loss: 0.4018 - accuracy: 0.8073\n",
      "Epoch 145/200\n",
      "768/768 [==============================] - 0s 77us/step - loss: 0.3992 - accuracy: 0.8203\n",
      "Epoch 146/200\n",
      "768/768 [==============================] - 0s 80us/step - loss: 0.3972 - accuracy: 0.8138\n",
      "Epoch 147/200\n",
      "768/768 [==============================] - 0s 80us/step - loss: 0.4004 - accuracy: 0.8216\n",
      "Epoch 148/200\n",
      "768/768 [==============================] - 0s 76us/step - loss: 0.4078 - accuracy: 0.8125\n",
      "Epoch 149/200\n",
      "768/768 [==============================] - 0s 74us/step - loss: 0.4088 - accuracy: 0.8099\n",
      "Epoch 150/200\n",
      "768/768 [==============================] - 0s 75us/step - loss: 0.4089 - accuracy: 0.8203\n",
      "Epoch 151/200\n",
      "768/768 [==============================] - 0s 75us/step - loss: 0.4008 - accuracy: 0.8060\n",
      "Epoch 152/200\n",
      "768/768 [==============================] - 0s 75us/step - loss: 0.3980 - accuracy: 0.8203\n",
      "Epoch 153/200\n",
      "768/768 [==============================] - 0s 79us/step - loss: 0.3959 - accuracy: 0.8216\n",
      "Epoch 154/200\n",
      "768/768 [==============================] - 0s 91us/step - loss: 0.3977 - accuracy: 0.8164\n",
      "Epoch 155/200\n",
      "768/768 [==============================] - 0s 78us/step - loss: 0.3977 - accuracy: 0.8112\n",
      "Epoch 156/200\n",
      "768/768 [==============================] - 0s 78us/step - loss: 0.3966 - accuracy: 0.8099\n",
      "Epoch 157/200\n",
      "768/768 [==============================] - 0s 78us/step - loss: 0.4005 - accuracy: 0.8177\n",
      "Epoch 158/200\n",
      "768/768 [==============================] - 0s 75us/step - loss: 0.3971 - accuracy: 0.8164\n",
      "Epoch 159/200\n",
      "768/768 [==============================] - 0s 73us/step - loss: 0.3940 - accuracy: 0.8203\n",
      "Epoch 160/200\n",
      "768/768 [==============================] - 0s 75us/step - loss: 0.4013 - accuracy: 0.8151\n",
      "Epoch 161/200\n",
      "768/768 [==============================] - 0s 75us/step - loss: 0.3969 - accuracy: 0.8190\n",
      "Epoch 162/200\n",
      "768/768 [==============================] - 0s 75us/step - loss: 0.4006 - accuracy: 0.8099\n",
      "Epoch 163/200\n",
      "768/768 [==============================] - 0s 76us/step - loss: 0.4026 - accuracy: 0.8047\n",
      "Epoch 164/200\n",
      "768/768 [==============================] - 0s 75us/step - loss: 0.3876 - accuracy: 0.8242\n",
      "Epoch 165/200\n",
      "768/768 [==============================] - 0s 115us/step - loss: 0.3966 - accuracy: 0.8151\n",
      "Epoch 166/200\n",
      "768/768 [==============================] - 0s 105us/step - loss: 0.3938 - accuracy: 0.8281\n",
      "Epoch 167/200\n",
      "768/768 [==============================] - 0s 98us/step - loss: 0.4148 - accuracy: 0.8151\n",
      "Epoch 168/200\n",
      "768/768 [==============================] - 0s 114us/step - loss: 0.3983 - accuracy: 0.8242\n",
      "Epoch 169/200\n",
      "768/768 [==============================] - 0s 103us/step - loss: 0.4006 - accuracy: 0.8125\n",
      "Epoch 170/200\n",
      "768/768 [==============================] - 0s 103us/step - loss: 0.3912 - accuracy: 0.8281\n",
      "Epoch 171/200\n",
      "768/768 [==============================] - 0s 101us/step - loss: 0.4001 - accuracy: 0.8151\n",
      "Epoch 172/200\n",
      "768/768 [==============================] - 0s 102us/step - loss: 0.3958 - accuracy: 0.8164\n",
      "Epoch 173/200\n",
      "768/768 [==============================] - 0s 101us/step - loss: 0.3965 - accuracy: 0.8151\n",
      "Epoch 174/200\n",
      "768/768 [==============================] - 0s 103us/step - loss: 0.3895 - accuracy: 0.8216\n",
      "Epoch 175/200\n",
      "768/768 [==============================] - 0s 132us/step - loss: 0.3973 - accuracy: 0.8255\n",
      "Epoch 176/200\n",
      "768/768 [==============================] - 0s 110us/step - loss: 0.3971 - accuracy: 0.8151\n",
      "Epoch 177/200\n",
      "768/768 [==============================] - 0s 99us/step - loss: 0.4080 - accuracy: 0.8229\n",
      "Epoch 178/200\n",
      "768/768 [==============================] - 0s 92us/step - loss: 0.3904 - accuracy: 0.8190\n",
      "Epoch 179/200\n",
      "768/768 [==============================] - 0s 83us/step - loss: 0.3946 - accuracy: 0.8151\n",
      "Epoch 180/200\n",
      "768/768 [==============================] - 0s 81us/step - loss: 0.3999 - accuracy: 0.8086\n",
      "Epoch 181/200\n",
      "768/768 [==============================] - 0s 151us/step - loss: 0.3937 - accuracy: 0.8177\n",
      "Epoch 182/200\n",
      "768/768 [==============================] - 0s 193us/step - loss: 0.3910 - accuracy: 0.8164\n",
      "Epoch 183/200\n",
      "768/768 [==============================] - 0s 168us/step - loss: 0.3967 - accuracy: 0.8138\n",
      "Epoch 184/200\n",
      "768/768 [==============================] - 0s 159us/step - loss: 0.4010 - accuracy: 0.8086\n",
      "Epoch 185/200\n",
      "768/768 [==============================] - 0s 209us/step - loss: 0.3997 - accuracy: 0.8164\n",
      "Epoch 186/200\n",
      "768/768 [==============================] - 0s 148us/step - loss: 0.3938 - accuracy: 0.8203\n",
      "Epoch 187/200\n",
      "768/768 [==============================] - 0s 93us/step - loss: 0.4069 - accuracy: 0.8060\n",
      "Epoch 188/200\n",
      "768/768 [==============================] - 0s 194us/step - loss: 0.3894 - accuracy: 0.8268\n",
      "Epoch 189/200\n",
      "768/768 [==============================] - 0s 163us/step - loss: 0.3935 - accuracy: 0.8268\n",
      "Epoch 190/200\n",
      "768/768 [==============================] - 0s 115us/step - loss: 0.4010 - accuracy: 0.8047\n",
      "Epoch 191/200\n",
      "768/768 [==============================] - 0s 250us/step - loss: 0.3944 - accuracy: 0.8112\n",
      "Epoch 192/200\n",
      "768/768 [==============================] - 0s 139us/step - loss: 0.3967 - accuracy: 0.8164\n",
      "Epoch 193/200\n",
      "768/768 [==============================] - 0s 127us/step - loss: 0.3901 - accuracy: 0.8242\n",
      "Epoch 194/200\n",
      "768/768 [==============================] - 0s 242us/step - loss: 0.3926 - accuracy: 0.8138\n",
      "Epoch 195/200\n",
      "768/768 [==============================] - 0s 145us/step - loss: 0.3894 - accuracy: 0.8216\n",
      "Epoch 196/200\n",
      "768/768 [==============================] - 0s 127us/step - loss: 0.3966 - accuracy: 0.8294\n",
      "Epoch 197/200\n",
      "768/768 [==============================] - 0s 185us/step - loss: 0.3976 - accuracy: 0.8177\n",
      "Epoch 198/200\n",
      "768/768 [==============================] - 0s 231us/step - loss: 0.4009 - accuracy: 0.8177\n",
      "Epoch 199/200\n",
      "768/768 [==============================] - 0s 137us/step - loss: 0.3952 - accuracy: 0.8112\n",
      "Epoch 200/200\n",
      "768/768 [==============================] - 0s 148us/step - loss: 0.3840 - accuracy: 0.8255\n"
     ]
    },
    {
     "data": {
      "text/plain": [
       "<keras.callbacks.callbacks.History at 0x7fc7983afcf8>"
      ]
     },
     "execution_count": 25,
     "metadata": {},
     "output_type": "execute_result"
    }
   ],
   "source": [
    "# Fit the model\n",
    "model.fit(X, Y, nb_epoch= 200, batch_size=10)"
   ]
  },
  {
   "cell_type": "markdown",
   "metadata": {},
   "source": [
    "#### 5. Evaluate Model."
   ]
  },
  {
   "cell_type": "code",
   "execution_count": 22,
   "metadata": {},
   "outputs": [
    {
     "data": {
      "text/plain": [
       "['loss', 'accuracy']"
      ]
     },
     "execution_count": 22,
     "metadata": {},
     "output_type": "execute_result"
    }
   ],
   "source": [
    "# These are the metrics our model with keep note of\n",
    "model.metrics_names"
   ]
  },
  {
   "cell_type": "code",
   "execution_count": 26,
   "metadata": {},
   "outputs": [
    {
     "data": {
      "text/plain": [
       "[0.4253038975099723, 0.80078125]"
      ]
     },
     "execution_count": 26,
     "metadata": {},
     "output_type": "execute_result"
    }
   ],
   "source": [
    "# These are the scores for the model metrics\n",
    "scores"
   ]
  },
  {
   "cell_type": "code",
   "execution_count": 24,
   "metadata": {},
   "outputs": [
    {
     "name": "stdout",
     "output_type": "stream",
     "text": [
      "768/768 [==============================] - 0s 14us/step\n",
      "accuracy: 80.08%\n"
     ]
    }
   ],
   "source": [
    "# evaluate the model\n",
    "scores = model.evaluate(X, Y)\n",
    "print(\"%s: %.2f%%\" %(model.metrics_names[1], scores[1]*100))"
   ]
  },
  {
   "cell_type": "markdown",
   "metadata": {},
   "source": [
    "#### 6.Tie It All Together."
   ]
  },
  {
   "cell_type": "code",
   "execution_count": null,
   "metadata": {},
   "outputs": [],
   "source": [
    "from keras.models import Sequential\n",
    "from keras.layers import Dense\n",
    "import numpy as np\n",
    "# fix random seed for reproducibility\n",
    "seed = 7\n",
    "np.random.seed(seed)\n",
    "\n",
    "# load the dataset\n",
    "dataset = np.loadtxt('pima-indians-diabetes.data.csv', delimiter = ',')\n",
    "# split into input(X) and output (Y) variables\n",
    "X = dataset[:,0:8]\n",
    "Y = dataset[:,8]\n",
    "X.shape, Y.shape\n",
    "\n",
    "# Create model\n",
    "model = Sequential()\n",
    "model.add(Dense(12, input_dim = 8, kernel_initializer='uniform', activation='relu'))\n",
    "model.add(Dense(8, kernel_initializer='uniform', activation='relu'))\n",
    "model.add(Dense(1, kernel_initializer='uniform', activation='sigmoid'))\n",
    "\n",
    "# compile the model\n",
    "model.compile(loss = 'binary_crossentropy', optimizer='adam', metrics=['accuracy'])\n",
    "\n",
    "# Fit the model\n",
    "model.fit(X, Y, nb_epoch= 150, batch_size=10)\n",
    "\n",
    "# evaluate the model\n",
    "scores = model.evaluate(X, Y)\n",
    "print(\"%s: %.2f%%\" %(model.metrics_names[1], scores[1]*100))"
   ]
  },
  {
   "cell_type": "code",
   "execution_count": null,
   "metadata": {},
   "outputs": [],
   "source": []
  },
  {
   "cell_type": "markdown",
   "metadata": {},
   "source": [
    "Now we have built a neural network for the Pima Indians Dataset, what's next?"
   ]
  },
  {
   "cell_type": "markdown",
   "metadata": {},
   "source": [
    "## Chapter 8: Evaluate the performance of Deep learning models."
   ]
  },
  {
   "cell_type": "markdown",
   "metadata": {},
   "source": [
    "Most of the decisions of network architecture must be resolved empirically through trial and error and evaluating them on real data."
   ]
  },
  {
   "cell_type": "markdown",
   "metadata": {},
   "source": [
    "#### 1. Automatic verification dataset"
   ]
  },
  {
   "cell_type": "code",
   "execution_count": 27,
   "metadata": {},
   "outputs": [
    {
     "name": "stderr",
     "output_type": "stream",
     "text": [
      "/usr/lib/python3/dist-packages/ipykernel_launcher.py:25: UserWarning: The `nb_epoch` argument in `fit` has been renamed `epochs`.\n"
     ]
    },
    {
     "name": "stdout",
     "output_type": "stream",
     "text": [
      "Train on 514 samples, validate on 254 samples\n",
      "Epoch 1/150\n",
      "514/514 [==============================] - 0s 266us/step - loss: 0.6792 - accuracy: 0.6265 - val_loss: 0.6570 - val_accuracy: 0.6732\n",
      "Epoch 2/150\n",
      "514/514 [==============================] - 0s 165us/step - loss: 0.6664 - accuracy: 0.6401 - val_loss: 0.6506 - val_accuracy: 0.6772\n",
      "Epoch 3/150\n",
      "514/514 [==============================] - 0s 200us/step - loss: 0.6570 - accuracy: 0.6420 - val_loss: 0.6423 - val_accuracy: 0.6772\n",
      "Epoch 4/150\n",
      "514/514 [==============================] - 0s 187us/step - loss: 0.6469 - accuracy: 0.6518 - val_loss: 0.6446 - val_accuracy: 0.6614\n",
      "Epoch 5/150\n",
      "514/514 [==============================] - 0s 149us/step - loss: 0.6481 - accuracy: 0.6693 - val_loss: 0.6328 - val_accuracy: 0.6772\n",
      "Epoch 6/150\n",
      "514/514 [==============================] - 0s 191us/step - loss: 0.6434 - accuracy: 0.6673 - val_loss: 0.6277 - val_accuracy: 0.6929\n",
      "Epoch 7/150\n",
      "514/514 [==============================] - 0s 219us/step - loss: 0.6349 - accuracy: 0.6634 - val_loss: 0.6216 - val_accuracy: 0.7008\n",
      "Epoch 8/150\n",
      "514/514 [==============================] - 0s 144us/step - loss: 0.6269 - accuracy: 0.6848 - val_loss: 0.6167 - val_accuracy: 0.6890\n",
      "Epoch 9/150\n",
      "514/514 [==============================] - 0s 296us/step - loss: 0.6301 - accuracy: 0.6634 - val_loss: 0.6076 - val_accuracy: 0.6929\n",
      "Epoch 10/150\n",
      "514/514 [==============================] - 0s 266us/step - loss: 0.6265 - accuracy: 0.6537 - val_loss: 0.6037 - val_accuracy: 0.6811\n",
      "Epoch 11/150\n",
      "514/514 [==============================] - 0s 335us/step - loss: 0.6131 - accuracy: 0.6829 - val_loss: 0.6070 - val_accuracy: 0.6575\n",
      "Epoch 12/150\n",
      "514/514 [==============================] - 0s 235us/step - loss: 0.6172 - accuracy: 0.6712 - val_loss: 0.5964 - val_accuracy: 0.6693\n",
      "Epoch 13/150\n",
      "514/514 [==============================] - 0s 219us/step - loss: 0.6186 - accuracy: 0.6673 - val_loss: 0.5912 - val_accuracy: 0.6772\n",
      "Epoch 14/150\n",
      "514/514 [==============================] - 0s 264us/step - loss: 0.6096 - accuracy: 0.7043 - val_loss: 0.5863 - val_accuracy: 0.6969\n",
      "Epoch 15/150\n",
      "514/514 [==============================] - 0s 302us/step - loss: 0.6045 - accuracy: 0.6887 - val_loss: 0.5778 - val_accuracy: 0.7126\n",
      "Epoch 16/150\n",
      "514/514 [==============================] - 0s 334us/step - loss: 0.6043 - accuracy: 0.6809 - val_loss: 0.5752 - val_accuracy: 0.7126\n",
      "Epoch 17/150\n",
      "514/514 [==============================] - 0s 262us/step - loss: 0.6016 - accuracy: 0.6887 - val_loss: 0.5754 - val_accuracy: 0.6850\n",
      "Epoch 18/150\n",
      "514/514 [==============================] - 0s 321us/step - loss: 0.5925 - accuracy: 0.7043 - val_loss: 0.5769 - val_accuracy: 0.7126\n",
      "Epoch 19/150\n",
      "514/514 [==============================] - 0s 301us/step - loss: 0.5827 - accuracy: 0.7160 - val_loss: 0.6112 - val_accuracy: 0.6890\n",
      "Epoch 20/150\n",
      "514/514 [==============================] - 0s 314us/step - loss: 0.6095 - accuracy: 0.6946 - val_loss: 0.5853 - val_accuracy: 0.7008\n",
      "Epoch 21/150\n",
      "514/514 [==============================] - 0s 362us/step - loss: 0.5978 - accuracy: 0.6965 - val_loss: 0.5690 - val_accuracy: 0.7047\n",
      "Epoch 22/150\n",
      "514/514 [==============================] - 0s 349us/step - loss: 0.5888 - accuracy: 0.7179 - val_loss: 0.5704 - val_accuracy: 0.7087\n",
      "Epoch 23/150\n",
      "514/514 [==============================] - 0s 312us/step - loss: 0.5872 - accuracy: 0.6965 - val_loss: 0.5739 - val_accuracy: 0.7008\n",
      "Epoch 24/150\n",
      "514/514 [==============================] - 0s 192us/step - loss: 0.5892 - accuracy: 0.7101 - val_loss: 0.5689 - val_accuracy: 0.6969\n",
      "Epoch 25/150\n",
      "514/514 [==============================] - 0s 156us/step - loss: 0.5959 - accuracy: 0.6907 - val_loss: 0.5727 - val_accuracy: 0.7008\n",
      "Epoch 26/150\n",
      "514/514 [==============================] - 0s 190us/step - loss: 0.5848 - accuracy: 0.7043 - val_loss: 0.5688 - val_accuracy: 0.7047\n",
      "Epoch 27/150\n",
      "514/514 [==============================] - 0s 151us/step - loss: 0.5723 - accuracy: 0.7257 - val_loss: 0.5751 - val_accuracy: 0.7047\n",
      "Epoch 28/150\n",
      "514/514 [==============================] - 0s 243us/step - loss: 0.5700 - accuracy: 0.7432 - val_loss: 0.5992 - val_accuracy: 0.6693\n",
      "Epoch 29/150\n",
      "514/514 [==============================] - 0s 340us/step - loss: 0.5730 - accuracy: 0.7257 - val_loss: 0.5595 - val_accuracy: 0.7126\n",
      "Epoch 30/150\n",
      "514/514 [==============================] - 0s 343us/step - loss: 0.5682 - accuracy: 0.6984 - val_loss: 0.5623 - val_accuracy: 0.7087\n",
      "Epoch 31/150\n",
      "514/514 [==============================] - 0s 308us/step - loss: 0.5737 - accuracy: 0.7160 - val_loss: 0.5668 - val_accuracy: 0.6969\n",
      "Epoch 32/150\n",
      "514/514 [==============================] - 0s 305us/step - loss: 0.5633 - accuracy: 0.7160 - val_loss: 0.5645 - val_accuracy: 0.7047\n",
      "Epoch 33/150\n",
      "514/514 [==============================] - 0s 320us/step - loss: 0.5620 - accuracy: 0.7218 - val_loss: 0.5742 - val_accuracy: 0.7008\n",
      "Epoch 34/150\n",
      "514/514 [==============================] - 0s 217us/step - loss: 0.5601 - accuracy: 0.7198 - val_loss: 0.5629 - val_accuracy: 0.7126\n",
      "Epoch 35/150\n",
      "514/514 [==============================] - 0s 186us/step - loss: 0.5676 - accuracy: 0.7237 - val_loss: 0.5645 - val_accuracy: 0.7008\n",
      "Epoch 36/150\n",
      "514/514 [==============================] - 0s 306us/step - loss: 0.5568 - accuracy: 0.7335 - val_loss: 0.5625 - val_accuracy: 0.7047\n",
      "Epoch 37/150\n",
      "514/514 [==============================] - 0s 344us/step - loss: 0.5553 - accuracy: 0.7237 - val_loss: 0.5624 - val_accuracy: 0.7008\n",
      "Epoch 38/150\n",
      "514/514 [==============================] - 0s 397us/step - loss: 0.5503 - accuracy: 0.7374 - val_loss: 0.5579 - val_accuracy: 0.6969\n",
      "Epoch 39/150\n",
      "514/514 [==============================] - 0s 353us/step - loss: 0.5548 - accuracy: 0.7374 - val_loss: 0.5519 - val_accuracy: 0.7047\n",
      "Epoch 40/150\n",
      "514/514 [==============================] - 0s 216us/step - loss: 0.5524 - accuracy: 0.7257 - val_loss: 0.5633 - val_accuracy: 0.6929\n",
      "Epoch 41/150\n",
      "514/514 [==============================] - 0s 169us/step - loss: 0.5524 - accuracy: 0.7393 - val_loss: 0.5544 - val_accuracy: 0.7047\n",
      "Epoch 42/150\n",
      "514/514 [==============================] - 0s 198us/step - loss: 0.5473 - accuracy: 0.7335 - val_loss: 0.5808 - val_accuracy: 0.6772\n",
      "Epoch 43/150\n",
      "514/514 [==============================] - 0s 337us/step - loss: 0.5529 - accuracy: 0.7335 - val_loss: 0.5727 - val_accuracy: 0.7047\n",
      "Epoch 44/150\n",
      "514/514 [==============================] - 0s 339us/step - loss: 0.5437 - accuracy: 0.7451 - val_loss: 0.5550 - val_accuracy: 0.7008\n",
      "Epoch 45/150\n",
      "514/514 [==============================] - 0s 310us/step - loss: 0.5451 - accuracy: 0.7315 - val_loss: 0.5524 - val_accuracy: 0.7008\n",
      "Epoch 46/150\n",
      "514/514 [==============================] - 0s 480us/step - loss: 0.5474 - accuracy: 0.7393 - val_loss: 0.5541 - val_accuracy: 0.7047\n",
      "Epoch 47/150\n",
      "514/514 [==============================] - 0s 216us/step - loss: 0.5419 - accuracy: 0.7393 - val_loss: 0.5667 - val_accuracy: 0.7205\n",
      "Epoch 48/150\n",
      "514/514 [==============================] - 0s 269us/step - loss: 0.5487 - accuracy: 0.7412 - val_loss: 0.5560 - val_accuracy: 0.6929\n",
      "Epoch 49/150\n",
      "514/514 [==============================] - 0s 190us/step - loss: 0.5389 - accuracy: 0.7432 - val_loss: 0.5895 - val_accuracy: 0.6732\n",
      "Epoch 50/150\n",
      "514/514 [==============================] - 0s 207us/step - loss: 0.5453 - accuracy: 0.7393 - val_loss: 0.5658 - val_accuracy: 0.7283\n",
      "Epoch 51/150\n",
      "514/514 [==============================] - 0s 220us/step - loss: 0.5346 - accuracy: 0.7471 - val_loss: 0.6094 - val_accuracy: 0.6339\n",
      "Epoch 52/150\n",
      "514/514 [==============================] - 0s 221us/step - loss: 0.5578 - accuracy: 0.7004 - val_loss: 0.5510 - val_accuracy: 0.7087\n",
      "Epoch 53/150\n",
      "514/514 [==============================] - 0s 214us/step - loss: 0.5362 - accuracy: 0.7451 - val_loss: 0.5498 - val_accuracy: 0.7205\n",
      "Epoch 54/150\n",
      "514/514 [==============================] - 0s 154us/step - loss: 0.5368 - accuracy: 0.7529 - val_loss: 0.5493 - val_accuracy: 0.7402\n",
      "Epoch 55/150\n",
      "514/514 [==============================] - 0s 162us/step - loss: 0.5347 - accuracy: 0.7315 - val_loss: 0.5518 - val_accuracy: 0.7126\n",
      "Epoch 56/150\n",
      "514/514 [==============================] - 0s 213us/step - loss: 0.5323 - accuracy: 0.7412 - val_loss: 0.5431 - val_accuracy: 0.7087\n"
     ]
    },
    {
     "name": "stdout",
     "output_type": "stream",
     "text": [
      "Epoch 57/150\n",
      "514/514 [==============================] - 0s 173us/step - loss: 0.5351 - accuracy: 0.7432 - val_loss: 0.5508 - val_accuracy: 0.7244\n",
      "Epoch 58/150\n",
      "514/514 [==============================] - 0s 218us/step - loss: 0.5355 - accuracy: 0.7237 - val_loss: 0.5480 - val_accuracy: 0.7165\n",
      "Epoch 59/150\n",
      "514/514 [==============================] - 0s 148us/step - loss: 0.5356 - accuracy: 0.7490 - val_loss: 0.5512 - val_accuracy: 0.7402\n",
      "Epoch 60/150\n",
      "514/514 [==============================] - 0s 217us/step - loss: 0.5321 - accuracy: 0.7374 - val_loss: 0.5875 - val_accuracy: 0.6732\n",
      "Epoch 61/150\n",
      "514/514 [==============================] - 0s 144us/step - loss: 0.5314 - accuracy: 0.7354 - val_loss: 0.5518 - val_accuracy: 0.7126\n",
      "Epoch 62/150\n",
      "514/514 [==============================] - 0s 189us/step - loss: 0.5301 - accuracy: 0.7354 - val_loss: 0.5602 - val_accuracy: 0.7047\n",
      "Epoch 63/150\n",
      "514/514 [==============================] - 0s 162us/step - loss: 0.5404 - accuracy: 0.7432 - val_loss: 0.5484 - val_accuracy: 0.7283\n",
      "Epoch 64/150\n",
      "514/514 [==============================] - 0s 161us/step - loss: 0.5273 - accuracy: 0.7588 - val_loss: 0.5443 - val_accuracy: 0.7441\n",
      "Epoch 65/150\n",
      "514/514 [==============================] - 0s 183us/step - loss: 0.5227 - accuracy: 0.7471 - val_loss: 0.5414 - val_accuracy: 0.7283\n",
      "Epoch 66/150\n",
      "514/514 [==============================] - 0s 149us/step - loss: 0.5305 - accuracy: 0.7588 - val_loss: 0.5483 - val_accuracy: 0.7283\n",
      "Epoch 67/150\n",
      "514/514 [==============================] - 0s 182us/step - loss: 0.5278 - accuracy: 0.7451 - val_loss: 0.5624 - val_accuracy: 0.7205\n",
      "Epoch 68/150\n",
      "514/514 [==============================] - 0s 113us/step - loss: 0.5233 - accuracy: 0.7471 - val_loss: 0.5493 - val_accuracy: 0.7323\n",
      "Epoch 69/150\n",
      "514/514 [==============================] - 0s 124us/step - loss: 0.5252 - accuracy: 0.7549 - val_loss: 0.5445 - val_accuracy: 0.7362\n",
      "Epoch 70/150\n",
      "514/514 [==============================] - 0s 171us/step - loss: 0.5197 - accuracy: 0.7393 - val_loss: 0.5497 - val_accuracy: 0.7283\n",
      "Epoch 71/150\n",
      "514/514 [==============================] - 0s 204us/step - loss: 0.5200 - accuracy: 0.7412 - val_loss: 0.5423 - val_accuracy: 0.7323\n",
      "Epoch 72/150\n",
      "514/514 [==============================] - 0s 147us/step - loss: 0.5246 - accuracy: 0.7588 - val_loss: 0.5408 - val_accuracy: 0.7283\n",
      "Epoch 73/150\n",
      "514/514 [==============================] - 0s 217us/step - loss: 0.5202 - accuracy: 0.7529 - val_loss: 0.5386 - val_accuracy: 0.7362\n",
      "Epoch 74/150\n",
      "514/514 [==============================] - 0s 188us/step - loss: 0.5138 - accuracy: 0.7588 - val_loss: 0.5446 - val_accuracy: 0.7362\n",
      "Epoch 75/150\n",
      "514/514 [==============================] - 0s 164us/step - loss: 0.5274 - accuracy: 0.7471 - val_loss: 0.5432 - val_accuracy: 0.7362\n",
      "Epoch 76/150\n",
      "514/514 [==============================] - 0s 188us/step - loss: 0.5213 - accuracy: 0.7490 - val_loss: 0.5562 - val_accuracy: 0.7323\n",
      "Epoch 77/150\n",
      "514/514 [==============================] - 0s 168us/step - loss: 0.5193 - accuracy: 0.7568 - val_loss: 0.5331 - val_accuracy: 0.7480\n",
      "Epoch 78/150\n",
      "514/514 [==============================] - 0s 212us/step - loss: 0.5127 - accuracy: 0.7646 - val_loss: 0.5345 - val_accuracy: 0.7520\n",
      "Epoch 79/150\n",
      "514/514 [==============================] - 0s 168us/step - loss: 0.5191 - accuracy: 0.7568 - val_loss: 0.5436 - val_accuracy: 0.7244\n",
      "Epoch 80/150\n",
      "514/514 [==============================] - 0s 209us/step - loss: 0.5161 - accuracy: 0.7549 - val_loss: 0.5372 - val_accuracy: 0.7480\n",
      "Epoch 81/150\n",
      "514/514 [==============================] - 0s 177us/step - loss: 0.5140 - accuracy: 0.7490 - val_loss: 0.5360 - val_accuracy: 0.7283\n",
      "Epoch 82/150\n",
      "514/514 [==============================] - ETA: 0s - loss: 0.4919 - accuracy: 0.76 - 0s 201us/step - loss: 0.5198 - accuracy: 0.7471 - val_loss: 0.5482 - val_accuracy: 0.7205\n",
      "Epoch 83/150\n",
      "514/514 [==============================] - 0s 181us/step - loss: 0.5091 - accuracy: 0.7646 - val_loss: 0.5419 - val_accuracy: 0.7205\n",
      "Epoch 84/150\n",
      "514/514 [==============================] - 0s 145us/step - loss: 0.5107 - accuracy: 0.7568 - val_loss: 0.5614 - val_accuracy: 0.6929\n",
      "Epoch 85/150\n",
      "514/514 [==============================] - 0s 166us/step - loss: 0.5222 - accuracy: 0.7471 - val_loss: 0.5416 - val_accuracy: 0.7362\n",
      "Epoch 86/150\n",
      "514/514 [==============================] - 0s 207us/step - loss: 0.5131 - accuracy: 0.7685 - val_loss: 0.5283 - val_accuracy: 0.7598\n",
      "Epoch 87/150\n",
      "514/514 [==============================] - 0s 154us/step - loss: 0.5126 - accuracy: 0.7685 - val_loss: 0.5478 - val_accuracy: 0.6969\n",
      "Epoch 88/150\n",
      "514/514 [==============================] - 0s 162us/step - loss: 0.5127 - accuracy: 0.7626 - val_loss: 0.5344 - val_accuracy: 0.7323\n",
      "Epoch 89/150\n",
      "514/514 [==============================] - 0s 203us/step - loss: 0.5118 - accuracy: 0.7646 - val_loss: 0.5707 - val_accuracy: 0.7283\n",
      "Epoch 90/150\n",
      "514/514 [==============================] - 0s 146us/step - loss: 0.5118 - accuracy: 0.7549 - val_loss: 0.5353 - val_accuracy: 0.7362\n",
      "Epoch 91/150\n",
      "514/514 [==============================] - 0s 213us/step - loss: 0.5016 - accuracy: 0.7665 - val_loss: 0.5365 - val_accuracy: 0.7244\n",
      "Epoch 92/150\n",
      "514/514 [==============================] - 0s 143us/step - loss: 0.5088 - accuracy: 0.7529 - val_loss: 0.5261 - val_accuracy: 0.7520\n",
      "Epoch 93/150\n",
      "514/514 [==============================] - 0s 187us/step - loss: 0.5128 - accuracy: 0.7374 - val_loss: 0.5308 - val_accuracy: 0.7559\n",
      "Epoch 94/150\n",
      "514/514 [==============================] - 0s 144us/step - loss: 0.5111 - accuracy: 0.7607 - val_loss: 0.5339 - val_accuracy: 0.7480\n",
      "Epoch 95/150\n",
      "514/514 [==============================] - 0s 181us/step - loss: 0.5027 - accuracy: 0.7549 - val_loss: 0.5442 - val_accuracy: 0.7323\n",
      "Epoch 96/150\n",
      "514/514 [==============================] - 0s 207us/step - loss: 0.5085 - accuracy: 0.7529 - val_loss: 0.5345 - val_accuracy: 0.7323\n",
      "Epoch 97/150\n",
      "514/514 [==============================] - 0s 135us/step - loss: 0.5038 - accuracy: 0.7704 - val_loss: 0.5255 - val_accuracy: 0.7480\n",
      "Epoch 98/150\n",
      "514/514 [==============================] - 0s 163us/step - loss: 0.5092 - accuracy: 0.7704 - val_loss: 0.5314 - val_accuracy: 0.7520\n",
      "Epoch 99/150\n",
      "514/514 [==============================] - 0s 206us/step - loss: 0.5007 - accuracy: 0.7549 - val_loss: 0.5321 - val_accuracy: 0.7362\n",
      "Epoch 100/150\n",
      "514/514 [==============================] - 0s 188us/step - loss: 0.5012 - accuracy: 0.7607 - val_loss: 0.5589 - val_accuracy: 0.7205\n",
      "Epoch 101/150\n",
      "514/514 [==============================] - 0s 119us/step - loss: 0.5133 - accuracy: 0.7510 - val_loss: 0.5394 - val_accuracy: 0.7402\n",
      "Epoch 102/150\n",
      "514/514 [==============================] - 0s 137us/step - loss: 0.5002 - accuracy: 0.7626 - val_loss: 0.5303 - val_accuracy: 0.7402\n",
      "Epoch 103/150\n",
      "514/514 [==============================] - 0s 167us/step - loss: 0.5051 - accuracy: 0.7510 - val_loss: 0.5192 - val_accuracy: 0.7638\n",
      "Epoch 104/150\n",
      "514/514 [==============================] - 0s 237us/step - loss: 0.5055 - accuracy: 0.7568 - val_loss: 0.5304 - val_accuracy: 0.7677\n",
      "Epoch 105/150\n",
      "514/514 [==============================] - 0s 162us/step - loss: 0.4983 - accuracy: 0.7568 - val_loss: 0.5178 - val_accuracy: 0.7835\n",
      "Epoch 106/150\n",
      "514/514 [==============================] - 0s 138us/step - loss: 0.4979 - accuracy: 0.7549 - val_loss: 0.5286 - val_accuracy: 0.7441\n",
      "Epoch 107/150\n",
      "514/514 [==============================] - 0s 196us/step - loss: 0.4963 - accuracy: 0.7607 - val_loss: 0.5277 - val_accuracy: 0.7323\n",
      "Epoch 108/150\n",
      "514/514 [==============================] - 0s 183us/step - loss: 0.5217 - accuracy: 0.7451 - val_loss: 0.5348 - val_accuracy: 0.7441\n",
      "Epoch 109/150\n",
      "514/514 [==============================] - 0s 148us/step - loss: 0.4984 - accuracy: 0.7568 - val_loss: 0.5418 - val_accuracy: 0.7323\n",
      "Epoch 110/150\n",
      "514/514 [==============================] - 0s 186us/step - loss: 0.5026 - accuracy: 0.7568 - val_loss: 0.5313 - val_accuracy: 0.7402\n",
      "Epoch 111/150\n",
      "514/514 [==============================] - 0s 117us/step - loss: 0.5010 - accuracy: 0.7549 - val_loss: 0.5255 - val_accuracy: 0.7559\n",
      "Epoch 112/150\n",
      "514/514 [==============================] - 0s 159us/step - loss: 0.4978 - accuracy: 0.7626 - val_loss: 0.5220 - val_accuracy: 0.7638\n"
     ]
    },
    {
     "name": "stdout",
     "output_type": "stream",
     "text": [
      "Epoch 113/150\n",
      "514/514 [==============================] - 0s 158us/step - loss: 0.4926 - accuracy: 0.7743 - val_loss: 0.5363 - val_accuracy: 0.7402\n",
      "Epoch 114/150\n",
      "514/514 [==============================] - 0s 179us/step - loss: 0.4960 - accuracy: 0.7432 - val_loss: 0.5310 - val_accuracy: 0.7402\n",
      "Epoch 115/150\n",
      "514/514 [==============================] - 0s 165us/step - loss: 0.5031 - accuracy: 0.7568 - val_loss: 0.5209 - val_accuracy: 0.7520\n",
      "Epoch 116/150\n",
      "514/514 [==============================] - 0s 219us/step - loss: 0.5043 - accuracy: 0.7568 - val_loss: 0.5212 - val_accuracy: 0.7244\n",
      "Epoch 117/150\n",
      "514/514 [==============================] - 0s 157us/step - loss: 0.4937 - accuracy: 0.7821 - val_loss: 0.5192 - val_accuracy: 0.7677\n",
      "Epoch 118/150\n",
      "514/514 [==============================] - 0s 186us/step - loss: 0.4927 - accuracy: 0.7626 - val_loss: 0.5310 - val_accuracy: 0.7402\n",
      "Epoch 119/150\n",
      "514/514 [==============================] - 0s 169us/step - loss: 0.4918 - accuracy: 0.7529 - val_loss: 0.5214 - val_accuracy: 0.7520\n",
      "Epoch 120/150\n",
      "514/514 [==============================] - 0s 207us/step - loss: 0.4944 - accuracy: 0.7568 - val_loss: 0.5279 - val_accuracy: 0.7362\n",
      "Epoch 121/150\n",
      "514/514 [==============================] - 0s 141us/step - loss: 0.4956 - accuracy: 0.7646 - val_loss: 0.5340 - val_accuracy: 0.7402\n",
      "Epoch 122/150\n",
      "514/514 [==============================] - 0s 210us/step - loss: 0.4958 - accuracy: 0.7626 - val_loss: 0.5214 - val_accuracy: 0.7638\n",
      "Epoch 123/150\n",
      "514/514 [==============================] - 0s 166us/step - loss: 0.4941 - accuracy: 0.7763 - val_loss: 0.5143 - val_accuracy: 0.7717\n",
      "Epoch 124/150\n",
      "514/514 [==============================] - 0s 200us/step - loss: 0.4975 - accuracy: 0.7588 - val_loss: 0.5373 - val_accuracy: 0.7441\n",
      "Epoch 125/150\n",
      "514/514 [==============================] - 0s 136us/step - loss: 0.4883 - accuracy: 0.7646 - val_loss: 0.5175 - val_accuracy: 0.7559\n",
      "Epoch 126/150\n",
      "514/514 [==============================] - 0s 212us/step - loss: 0.4937 - accuracy: 0.7626 - val_loss: 0.5446 - val_accuracy: 0.7480\n",
      "Epoch 127/150\n",
      "514/514 [==============================] - 0s 147us/step - loss: 0.4922 - accuracy: 0.7743 - val_loss: 0.5117 - val_accuracy: 0.7638\n",
      "Epoch 128/150\n",
      "514/514 [==============================] - 0s 202us/step - loss: 0.4897 - accuracy: 0.7549 - val_loss: 0.5181 - val_accuracy: 0.7441\n",
      "Epoch 129/150\n",
      "514/514 [==============================] - 0s 172us/step - loss: 0.4863 - accuracy: 0.7549 - val_loss: 0.5223 - val_accuracy: 0.7559\n",
      "Epoch 130/150\n",
      "514/514 [==============================] - 0s 199us/step - loss: 0.4916 - accuracy: 0.7802 - val_loss: 0.5324 - val_accuracy: 0.7559\n",
      "Epoch 131/150\n",
      "514/514 [==============================] - 0s 156us/step - loss: 0.4909 - accuracy: 0.7665 - val_loss: 0.5301 - val_accuracy: 0.7244\n",
      "Epoch 132/150\n",
      "514/514 [==============================] - 0s 188us/step - loss: 0.4964 - accuracy: 0.7607 - val_loss: 0.5326 - val_accuracy: 0.7441\n",
      "Epoch 133/150\n",
      "514/514 [==============================] - 0s 145us/step - loss: 0.4925 - accuracy: 0.7646 - val_loss: 0.5161 - val_accuracy: 0.7717\n",
      "Epoch 134/150\n",
      "514/514 [==============================] - 0s 235us/step - loss: 0.4885 - accuracy: 0.7646 - val_loss: 0.5164 - val_accuracy: 0.7559\n",
      "Epoch 135/150\n",
      "514/514 [==============================] - 0s 197us/step - loss: 0.4874 - accuracy: 0.7665 - val_loss: 0.5177 - val_accuracy: 0.7520\n",
      "Epoch 136/150\n",
      "514/514 [==============================] - 0s 160us/step - loss: 0.4807 - accuracy: 0.7646 - val_loss: 0.5199 - val_accuracy: 0.7677\n",
      "Epoch 137/150\n",
      "514/514 [==============================] - 0s 206us/step - loss: 0.4904 - accuracy: 0.7626 - val_loss: 0.5119 - val_accuracy: 0.7598\n",
      "Epoch 138/150\n",
      "514/514 [==============================] - 0s 165us/step - loss: 0.4939 - accuracy: 0.7646 - val_loss: 0.5135 - val_accuracy: 0.7638\n",
      "Epoch 139/150\n",
      "514/514 [==============================] - 0s 162us/step - loss: 0.4896 - accuracy: 0.7568 - val_loss: 0.5078 - val_accuracy: 0.7717\n",
      "Epoch 140/150\n",
      "514/514 [==============================] - 0s 209us/step - loss: 0.4827 - accuracy: 0.7607 - val_loss: 0.5316 - val_accuracy: 0.7362\n",
      "Epoch 141/150\n",
      "514/514 [==============================] - 0s 128us/step - loss: 0.4988 - accuracy: 0.7490 - val_loss: 0.5078 - val_accuracy: 0.7756\n",
      "Epoch 142/150\n",
      "514/514 [==============================] - 0s 123us/step - loss: 0.4898 - accuracy: 0.7665 - val_loss: 0.5102 - val_accuracy: 0.7756\n",
      "Epoch 143/150\n",
      "514/514 [==============================] - 0s 164us/step - loss: 0.4944 - accuracy: 0.7626 - val_loss: 0.5086 - val_accuracy: 0.7756\n",
      "Epoch 144/150\n",
      "514/514 [==============================] - 0s 136us/step - loss: 0.4873 - accuracy: 0.7724 - val_loss: 0.5070 - val_accuracy: 0.7756\n",
      "Epoch 145/150\n",
      "514/514 [==============================] - 0s 159us/step - loss: 0.4813 - accuracy: 0.7724 - val_loss: 0.5078 - val_accuracy: 0.7756\n",
      "Epoch 146/150\n",
      "514/514 [==============================] - 0s 207us/step - loss: 0.4803 - accuracy: 0.7802 - val_loss: 0.5050 - val_accuracy: 0.7874\n",
      "Epoch 147/150\n",
      "514/514 [==============================] - 0s 145us/step - loss: 0.4828 - accuracy: 0.7626 - val_loss: 0.5321 - val_accuracy: 0.7362\n",
      "Epoch 148/150\n",
      "514/514 [==============================] - 0s 208us/step - loss: 0.4801 - accuracy: 0.7568 - val_loss: 0.5091 - val_accuracy: 0.7717\n",
      "Epoch 149/150\n",
      "514/514 [==============================] - 0s 210us/step - loss: 0.4779 - accuracy: 0.7840 - val_loss: 0.5070 - val_accuracy: 0.7795\n",
      "Epoch 150/150\n",
      "514/514 [==============================] - 0s 163us/step - loss: 0.4795 - accuracy: 0.7588 - val_loss: 0.5252 - val_accuracy: 0.7638\n",
      "768/768 [==============================] - 0s 25us/step\n",
      "accuracy: 75.26%\n"
     ]
    }
   ],
   "source": [
    "# from keras.models import Sequential\n",
    "# from keras.layers import Dense\n",
    "# import numpy as np\n",
    "# fix random seed for reproducibility\n",
    "# seed = 7\n",
    "# np.random.seed(seed)\n",
    "\n",
    "# load the dataset\n",
    "dataset = np.loadtxt('pima-indians-diabetes.data.csv', delimiter = ',')\n",
    "# split into input(X) and output (Y) variables\n",
    "X = dataset[:,0:8]\n",
    "Y = dataset[:,8]\n",
    "# X.shape, Y.shape\n",
    "\n",
    "# Create sequential model\n",
    "model = Sequential()\n",
    "model.add(Dense(12, input_dim = 8, kernel_initializer='uniform', activation='relu'))\n",
    "model.add(Dense(8, kernel_initializer='uniform', activation='relu'))\n",
    "model.add(Dense(1, kernel_initializer='uniform', activation='sigmoid'))\n",
    "\n",
    "# compile the model\n",
    "model.compile(loss = 'binary_crossentropy', optimizer='adam', metrics=['accuracy'])\n",
    "\n",
    "# Fit the model using validation split\n",
    "model.fit(X, Y, validation_split=0.33, nb_epoch= 150, batch_size=10)\n",
    "\n",
    "# evaluate the model\n",
    "scores = model.evaluate(X, Y)\n",
    "print(\"%s: %.2f%%\" %(model.metrics_names[1], scores[1]*100))"
   ]
  },
  {
   "cell_type": "markdown",
   "metadata": {},
   "source": [
    "#### 2. Using manual validation set"
   ]
  },
  {
   "cell_type": "code",
   "execution_count": 29,
   "metadata": {},
   "outputs": [
    {
     "name": "stderr",
     "output_type": "stream",
     "text": [
      "/usr/lib/python3/dist-packages/ipykernel_launcher.py:29: UserWarning: The `nb_epoch` argument in `fit` has been renamed `epochs`.\n"
     ]
    },
    {
     "name": "stdout",
     "output_type": "stream",
     "text": [
      "Train on 514 samples, validate on 254 samples\n",
      "Epoch 1/150\n",
      "514/514 [==============================] - 0s 238us/step - loss: 0.6888 - accuracy: 0.6206 - val_loss: 0.6822 - val_accuracy: 0.6378\n",
      "Epoch 2/150\n",
      "514/514 [==============================] - 0s 86us/step - loss: 0.6710 - accuracy: 0.6576 - val_loss: 0.6720 - val_accuracy: 0.6378\n",
      "Epoch 3/150\n",
      "514/514 [==============================] - 0s 83us/step - loss: 0.6619 - accuracy: 0.6576 - val_loss: 0.6673 - val_accuracy: 0.6378\n",
      "Epoch 4/150\n",
      "514/514 [==============================] - 0s 96us/step - loss: 0.6573 - accuracy: 0.6576 - val_loss: 0.6589 - val_accuracy: 0.6378\n",
      "Epoch 5/150\n",
      "514/514 [==============================] - 0s 92us/step - loss: 0.6558 - accuracy: 0.6576 - val_loss: 0.6533 - val_accuracy: 0.6378\n",
      "Epoch 6/150\n",
      "514/514 [==============================] - 0s 81us/step - loss: 0.6456 - accuracy: 0.6576 - val_loss: 0.6466 - val_accuracy: 0.6378\n",
      "Epoch 7/150\n",
      "514/514 [==============================] - 0s 108us/step - loss: 0.6420 - accuracy: 0.6576 - val_loss: 0.6423 - val_accuracy: 0.6378\n",
      "Epoch 8/150\n",
      "514/514 [==============================] - 0s 122us/step - loss: 0.6362 - accuracy: 0.6576 - val_loss: 0.6359 - val_accuracy: 0.6378\n",
      "Epoch 9/150\n",
      "514/514 [==============================] - 0s 94us/step - loss: 0.6273 - accuracy: 0.6537 - val_loss: 0.6285 - val_accuracy: 0.6457\n",
      "Epoch 10/150\n",
      "514/514 [==============================] - 0s 94us/step - loss: 0.6183 - accuracy: 0.6576 - val_loss: 0.6258 - val_accuracy: 0.6457\n",
      "Epoch 11/150\n",
      "514/514 [==============================] - 0s 90us/step - loss: 0.6132 - accuracy: 0.6848 - val_loss: 0.6153 - val_accuracy: 0.6614\n",
      "Epoch 12/150\n",
      "514/514 [==============================] - 0s 87us/step - loss: 0.6075 - accuracy: 0.6907 - val_loss: 0.6090 - val_accuracy: 0.7126\n",
      "Epoch 13/150\n",
      "514/514 [==============================] - 0s 128us/step - loss: 0.6049 - accuracy: 0.6926 - val_loss: 0.6067 - val_accuracy: 0.7087\n",
      "Epoch 14/150\n",
      "514/514 [==============================] - 0s 164us/step - loss: 0.5974 - accuracy: 0.6848 - val_loss: 0.5969 - val_accuracy: 0.7008\n",
      "Epoch 15/150\n",
      "514/514 [==============================] - 0s 185us/step - loss: 0.5960 - accuracy: 0.6926 - val_loss: 0.6205 - val_accuracy: 0.6535\n",
      "Epoch 16/150\n",
      "514/514 [==============================] - 0s 183us/step - loss: 0.5905 - accuracy: 0.6965 - val_loss: 0.5936 - val_accuracy: 0.7008\n",
      "Epoch 17/150\n",
      "514/514 [==============================] - 0s 199us/step - loss: 0.5860 - accuracy: 0.6926 - val_loss: 0.6093 - val_accuracy: 0.6693\n",
      "Epoch 18/150\n",
      "514/514 [==============================] - 0s 203us/step - loss: 0.5795 - accuracy: 0.7043 - val_loss: 0.5890 - val_accuracy: 0.7047\n",
      "Epoch 19/150\n",
      "514/514 [==============================] - 0s 197us/step - loss: 0.5905 - accuracy: 0.6946 - val_loss: 0.5896 - val_accuracy: 0.7047\n",
      "Epoch 20/150\n",
      "514/514 [==============================] - 0s 191us/step - loss: 0.5779 - accuracy: 0.7023 - val_loss: 0.6069 - val_accuracy: 0.6575\n",
      "Epoch 21/150\n",
      "514/514 [==============================] - 0s 121us/step - loss: 0.5780 - accuracy: 0.7101 - val_loss: 0.5886 - val_accuracy: 0.6969\n",
      "Epoch 22/150\n",
      "514/514 [==============================] - 0s 110us/step - loss: 0.5688 - accuracy: 0.7004 - val_loss: 0.6127 - val_accuracy: 0.6850\n",
      "Epoch 23/150\n",
      "514/514 [==============================] - 0s 100us/step - loss: 0.5746 - accuracy: 0.7121 - val_loss: 0.5951 - val_accuracy: 0.6890\n",
      "Epoch 24/150\n",
      "514/514 [==============================] - 0s 84us/step - loss: 0.5727 - accuracy: 0.7140 - val_loss: 0.5913 - val_accuracy: 0.6969\n",
      "Epoch 25/150\n",
      "514/514 [==============================] - 0s 113us/step - loss: 0.5756 - accuracy: 0.7082 - val_loss: 0.5824 - val_accuracy: 0.7087\n",
      "Epoch 26/150\n",
      "514/514 [==============================] - 0s 129us/step - loss: 0.5648 - accuracy: 0.7140 - val_loss: 0.5976 - val_accuracy: 0.6811\n",
      "Epoch 27/150\n",
      "514/514 [==============================] - 0s 141us/step - loss: 0.5686 - accuracy: 0.7043 - val_loss: 0.5803 - val_accuracy: 0.7126\n",
      "Epoch 28/150\n",
      "514/514 [==============================] - 0s 174us/step - loss: 0.5617 - accuracy: 0.7082 - val_loss: 0.5794 - val_accuracy: 0.7205\n",
      "Epoch 29/150\n",
      "514/514 [==============================] - 0s 110us/step - loss: 0.5634 - accuracy: 0.7237 - val_loss: 0.5791 - val_accuracy: 0.7087\n",
      "Epoch 30/150\n",
      "514/514 [==============================] - 0s 116us/step - loss: 0.5687 - accuracy: 0.7082 - val_loss: 0.6063 - val_accuracy: 0.6772\n",
      "Epoch 31/150\n",
      "514/514 [==============================] - 0s 111us/step - loss: 0.5604 - accuracy: 0.7315 - val_loss: 0.5876 - val_accuracy: 0.7008\n",
      "Epoch 32/150\n",
      "514/514 [==============================] - 0s 133us/step - loss: 0.5587 - accuracy: 0.7276 - val_loss: 0.5799 - val_accuracy: 0.6929\n",
      "Epoch 33/150\n",
      "514/514 [==============================] - 0s 125us/step - loss: 0.5532 - accuracy: 0.7257 - val_loss: 0.5878 - val_accuracy: 0.7008\n",
      "Epoch 34/150\n",
      "514/514 [==============================] - 0s 123us/step - loss: 0.5518 - accuracy: 0.7237 - val_loss: 0.5805 - val_accuracy: 0.7126\n",
      "Epoch 35/150\n",
      "514/514 [==============================] - 0s 155us/step - loss: 0.5621 - accuracy: 0.7160 - val_loss: 0.5764 - val_accuracy: 0.7244\n",
      "Epoch 36/150\n",
      "514/514 [==============================] - 0s 153us/step - loss: 0.5477 - accuracy: 0.7354 - val_loss: 0.5868 - val_accuracy: 0.7047\n",
      "Epoch 37/150\n",
      "514/514 [==============================] - 0s 115us/step - loss: 0.5489 - accuracy: 0.7218 - val_loss: 0.5920 - val_accuracy: 0.6969\n",
      "Epoch 38/150\n",
      "514/514 [==============================] - 0s 106us/step - loss: 0.5618 - accuracy: 0.7082 - val_loss: 0.5828 - val_accuracy: 0.6969\n",
      "Epoch 39/150\n",
      "514/514 [==============================] - 0s 103us/step - loss: 0.5612 - accuracy: 0.7082 - val_loss: 0.5788 - val_accuracy: 0.7205\n",
      "Epoch 40/150\n",
      "514/514 [==============================] - 0s 103us/step - loss: 0.5497 - accuracy: 0.7121 - val_loss: 0.5719 - val_accuracy: 0.7323\n",
      "Epoch 41/150\n",
      "514/514 [==============================] - 0s 132us/step - loss: 0.5481 - accuracy: 0.7296 - val_loss: 0.5855 - val_accuracy: 0.7283\n",
      "Epoch 42/150\n",
      "514/514 [==============================] - 0s 133us/step - loss: 0.5417 - accuracy: 0.7276 - val_loss: 0.5709 - val_accuracy: 0.7165\n",
      "Epoch 43/150\n",
      "514/514 [==============================] - 0s 111us/step - loss: 0.5401 - accuracy: 0.7257 - val_loss: 0.5818 - val_accuracy: 0.7047\n",
      "Epoch 44/150\n",
      "514/514 [==============================] - 0s 94us/step - loss: 0.5469 - accuracy: 0.7198 - val_loss: 0.5771 - val_accuracy: 0.7008\n",
      "Epoch 45/150\n",
      "514/514 [==============================] - 0s 97us/step - loss: 0.5386 - accuracy: 0.7237 - val_loss: 0.5790 - val_accuracy: 0.7126\n",
      "Epoch 46/150\n",
      "514/514 [==============================] - 0s 94us/step - loss: 0.5430 - accuracy: 0.7374 - val_loss: 0.6103 - val_accuracy: 0.6811\n",
      "Epoch 47/150\n",
      "514/514 [==============================] - 0s 98us/step - loss: 0.5442 - accuracy: 0.7335 - val_loss: 0.5712 - val_accuracy: 0.7244\n",
      "Epoch 48/150\n",
      "514/514 [==============================] - 0s 100us/step - loss: 0.5366 - accuracy: 0.7335 - val_loss: 0.5702 - val_accuracy: 0.7244\n",
      "Epoch 49/150\n",
      "514/514 [==============================] - 0s 107us/step - loss: 0.5418 - accuracy: 0.7257 - val_loss: 0.5655 - val_accuracy: 0.7244\n",
      "Epoch 50/150\n",
      "514/514 [==============================] - 0s 104us/step - loss: 0.5364 - accuracy: 0.7296 - val_loss: 0.5720 - val_accuracy: 0.7362\n",
      "Epoch 51/150\n",
      "514/514 [==============================] - 0s 87us/step - loss: 0.5368 - accuracy: 0.7198 - val_loss: 0.5794 - val_accuracy: 0.7008\n",
      "Epoch 52/150\n",
      "514/514 [==============================] - 0s 93us/step - loss: 0.5351 - accuracy: 0.7374 - val_loss: 0.5730 - val_accuracy: 0.7165\n",
      "Epoch 53/150\n",
      "514/514 [==============================] - 0s 91us/step - loss: 0.5309 - accuracy: 0.7354 - val_loss: 0.5621 - val_accuracy: 0.7283\n",
      "Epoch 54/150\n",
      "514/514 [==============================] - 0s 92us/step - loss: 0.5374 - accuracy: 0.7451 - val_loss: 0.5817 - val_accuracy: 0.7008\n",
      "Epoch 55/150\n",
      "514/514 [==============================] - 0s 110us/step - loss: 0.5401 - accuracy: 0.7374 - val_loss: 0.5777 - val_accuracy: 0.7165\n",
      "Epoch 56/150\n",
      "514/514 [==============================] - 0s 98us/step - loss: 0.5312 - accuracy: 0.7432 - val_loss: 0.5713 - val_accuracy: 0.7126\n"
     ]
    },
    {
     "name": "stdout",
     "output_type": "stream",
     "text": [
      "Epoch 57/150\n",
      "514/514 [==============================] - 0s 104us/step - loss: 0.5226 - accuracy: 0.7393 - val_loss: 0.5711 - val_accuracy: 0.7047\n",
      "Epoch 58/150\n",
      "514/514 [==============================] - 0s 97us/step - loss: 0.5245 - accuracy: 0.7393 - val_loss: 0.5658 - val_accuracy: 0.7323\n",
      "Epoch 59/150\n",
      "514/514 [==============================] - 0s 99us/step - loss: 0.5291 - accuracy: 0.7412 - val_loss: 0.5611 - val_accuracy: 0.7244\n",
      "Epoch 60/150\n",
      "514/514 [==============================] - 0s 111us/step - loss: 0.5267 - accuracy: 0.7374 - val_loss: 0.5619 - val_accuracy: 0.7323\n",
      "Epoch 61/150\n",
      "514/514 [==============================] - 0s 116us/step - loss: 0.5332 - accuracy: 0.7374 - val_loss: 0.5716 - val_accuracy: 0.7165\n",
      "Epoch 62/150\n",
      "514/514 [==============================] - 0s 155us/step - loss: 0.5239 - accuracy: 0.7374 - val_loss: 0.5678 - val_accuracy: 0.7244\n",
      "Epoch 63/150\n",
      "514/514 [==============================] - 0s 103us/step - loss: 0.5232 - accuracy: 0.7471 - val_loss: 0.5580 - val_accuracy: 0.7244\n",
      "Epoch 64/150\n",
      "514/514 [==============================] - 0s 136us/step - loss: 0.5212 - accuracy: 0.7490 - val_loss: 0.5585 - val_accuracy: 0.7441\n",
      "Epoch 65/150\n",
      "514/514 [==============================] - 0s 119us/step - loss: 0.5214 - accuracy: 0.7451 - val_loss: 0.5791 - val_accuracy: 0.7126\n",
      "Epoch 66/150\n",
      "514/514 [==============================] - 0s 135us/step - loss: 0.5263 - accuracy: 0.7335 - val_loss: 0.5547 - val_accuracy: 0.7323\n",
      "Epoch 67/150\n",
      "514/514 [==============================] - 0s 124us/step - loss: 0.5162 - accuracy: 0.7529 - val_loss: 0.5636 - val_accuracy: 0.7283\n",
      "Epoch 68/150\n",
      "514/514 [==============================] - 0s 115us/step - loss: 0.5166 - accuracy: 0.7529 - val_loss: 0.5592 - val_accuracy: 0.7402\n",
      "Epoch 69/150\n",
      "514/514 [==============================] - 0s 108us/step - loss: 0.5391 - accuracy: 0.7218 - val_loss: 0.5588 - val_accuracy: 0.7283\n",
      "Epoch 70/150\n",
      "514/514 [==============================] - 0s 120us/step - loss: 0.5311 - accuracy: 0.7315 - val_loss: 0.5553 - val_accuracy: 0.7441\n",
      "Epoch 71/150\n",
      "514/514 [==============================] - 0s 95us/step - loss: 0.5217 - accuracy: 0.7588 - val_loss: 0.5590 - val_accuracy: 0.7283\n",
      "Epoch 72/150\n",
      "514/514 [==============================] - 0s 99us/step - loss: 0.5178 - accuracy: 0.7296 - val_loss: 0.5507 - val_accuracy: 0.7520\n",
      "Epoch 73/150\n",
      "514/514 [==============================] - 0s 107us/step - loss: 0.5133 - accuracy: 0.7529 - val_loss: 0.5521 - val_accuracy: 0.7402\n",
      "Epoch 74/150\n",
      "514/514 [==============================] - 0s 87us/step - loss: 0.5170 - accuracy: 0.7432 - val_loss: 0.5509 - val_accuracy: 0.7283\n",
      "Epoch 75/150\n",
      "514/514 [==============================] - 0s 87us/step - loss: 0.5138 - accuracy: 0.7432 - val_loss: 0.5519 - val_accuracy: 0.7441\n",
      "Epoch 76/150\n",
      "514/514 [==============================] - 0s 110us/step - loss: 0.5060 - accuracy: 0.7490 - val_loss: 0.5544 - val_accuracy: 0.7362\n",
      "Epoch 77/150\n",
      "514/514 [==============================] - 0s 113us/step - loss: 0.5112 - accuracy: 0.7393 - val_loss: 0.5510 - val_accuracy: 0.7402\n",
      "Epoch 78/150\n",
      "514/514 [==============================] - 0s 106us/step - loss: 0.5059 - accuracy: 0.7451 - val_loss: 0.5672 - val_accuracy: 0.7126\n",
      "Epoch 79/150\n",
      "514/514 [==============================] - 0s 148us/step - loss: 0.5100 - accuracy: 0.7529 - val_loss: 0.5884 - val_accuracy: 0.6929\n",
      "Epoch 80/150\n",
      "514/514 [==============================] - 0s 113us/step - loss: 0.5163 - accuracy: 0.7451 - val_loss: 0.5499 - val_accuracy: 0.7480\n",
      "Epoch 81/150\n",
      "514/514 [==============================] - 0s 114us/step - loss: 0.4983 - accuracy: 0.7646 - val_loss: 0.5672 - val_accuracy: 0.7402\n",
      "Epoch 82/150\n",
      "514/514 [==============================] - 0s 89us/step - loss: 0.5098 - accuracy: 0.7490 - val_loss: 0.5557 - val_accuracy: 0.7323\n",
      "Epoch 83/150\n",
      "514/514 [==============================] - 0s 89us/step - loss: 0.5040 - accuracy: 0.7529 - val_loss: 0.5563 - val_accuracy: 0.7283\n",
      "Epoch 84/150\n",
      "514/514 [==============================] - 0s 90us/step - loss: 0.5058 - accuracy: 0.7471 - val_loss: 0.5611 - val_accuracy: 0.7087\n",
      "Epoch 85/150\n",
      "514/514 [==============================] - 0s 79us/step - loss: 0.4992 - accuracy: 0.7529 - val_loss: 0.5440 - val_accuracy: 0.7480\n",
      "Epoch 86/150\n",
      "514/514 [==============================] - 0s 116us/step - loss: 0.5028 - accuracy: 0.7412 - val_loss: 0.5504 - val_accuracy: 0.7323\n",
      "Epoch 87/150\n",
      "514/514 [==============================] - 0s 102us/step - loss: 0.5035 - accuracy: 0.7646 - val_loss: 0.5497 - val_accuracy: 0.7323\n",
      "Epoch 88/150\n",
      "514/514 [==============================] - 0s 111us/step - loss: 0.4974 - accuracy: 0.7432 - val_loss: 0.5545 - val_accuracy: 0.7283\n",
      "Epoch 89/150\n",
      "514/514 [==============================] - 0s 113us/step - loss: 0.5021 - accuracy: 0.7568 - val_loss: 0.5475 - val_accuracy: 0.7323\n",
      "Epoch 90/150\n",
      "514/514 [==============================] - 0s 108us/step - loss: 0.4992 - accuracy: 0.7549 - val_loss: 0.5451 - val_accuracy: 0.7480\n",
      "Epoch 91/150\n",
      "514/514 [==============================] - 0s 111us/step - loss: 0.4990 - accuracy: 0.7646 - val_loss: 0.5644 - val_accuracy: 0.7008\n",
      "Epoch 92/150\n",
      "514/514 [==============================] - 0s 78us/step - loss: 0.5033 - accuracy: 0.7529 - val_loss: 0.5426 - val_accuracy: 0.7402\n",
      "Epoch 93/150\n",
      "514/514 [==============================] - 0s 85us/step - loss: 0.5169 - accuracy: 0.7549 - val_loss: 0.5480 - val_accuracy: 0.7283\n",
      "Epoch 94/150\n",
      "514/514 [==============================] - 0s 97us/step - loss: 0.5006 - accuracy: 0.7568 - val_loss: 0.5422 - val_accuracy: 0.7441\n",
      "Epoch 95/150\n",
      "514/514 [==============================] - 0s 93us/step - loss: 0.4972 - accuracy: 0.7490 - val_loss: 0.5395 - val_accuracy: 0.7441\n",
      "Epoch 96/150\n",
      "514/514 [==============================] - 0s 108us/step - loss: 0.4872 - accuracy: 0.7529 - val_loss: 0.5438 - val_accuracy: 0.7441\n",
      "Epoch 97/150\n",
      "514/514 [==============================] - 0s 90us/step - loss: 0.4961 - accuracy: 0.7510 - val_loss: 0.5428 - val_accuracy: 0.7402\n",
      "Epoch 98/150\n",
      "514/514 [==============================] - 0s 101us/step - loss: 0.4911 - accuracy: 0.7588 - val_loss: 0.5400 - val_accuracy: 0.7362\n",
      "Epoch 99/150\n",
      "514/514 [==============================] - 0s 104us/step - loss: 0.4882 - accuracy: 0.7568 - val_loss: 0.5492 - val_accuracy: 0.7008\n",
      "Epoch 100/150\n",
      "514/514 [==============================] - 0s 85us/step - loss: 0.4982 - accuracy: 0.7607 - val_loss: 0.5371 - val_accuracy: 0.7441\n",
      "Epoch 101/150\n",
      "514/514 [==============================] - 0s 93us/step - loss: 0.4879 - accuracy: 0.7607 - val_loss: 0.5348 - val_accuracy: 0.7559\n",
      "Epoch 102/150\n",
      "514/514 [==============================] - 0s 90us/step - loss: 0.4877 - accuracy: 0.7626 - val_loss: 0.5420 - val_accuracy: 0.7323\n",
      "Epoch 103/150\n",
      "514/514 [==============================] - 0s 93us/step - loss: 0.4881 - accuracy: 0.7529 - val_loss: 0.5379 - val_accuracy: 0.7520\n",
      "Epoch 104/150\n",
      "514/514 [==============================] - 0s 100us/step - loss: 0.4918 - accuracy: 0.7626 - val_loss: 0.5334 - val_accuracy: 0.7520\n",
      "Epoch 105/150\n",
      "514/514 [==============================] - 0s 97us/step - loss: 0.4893 - accuracy: 0.7704 - val_loss: 0.5326 - val_accuracy: 0.7598\n",
      "Epoch 106/150\n",
      "514/514 [==============================] - 0s 94us/step - loss: 0.4821 - accuracy: 0.7685 - val_loss: 0.5417 - val_accuracy: 0.7205\n",
      "Epoch 107/150\n",
      "514/514 [==============================] - 0s 97us/step - loss: 0.4784 - accuracy: 0.7568 - val_loss: 0.5571 - val_accuracy: 0.7323\n",
      "Epoch 108/150\n",
      "514/514 [==============================] - 0s 84us/step - loss: 0.4834 - accuracy: 0.7665 - val_loss: 0.5540 - val_accuracy: 0.7126\n",
      "Epoch 109/150\n",
      "514/514 [==============================] - 0s 79us/step - loss: 0.4794 - accuracy: 0.7763 - val_loss: 0.5659 - val_accuracy: 0.7402\n",
      "Epoch 110/150\n",
      "514/514 [==============================] - 0s 77us/step - loss: 0.4882 - accuracy: 0.7685 - val_loss: 0.5339 - val_accuracy: 0.7598\n",
      "Epoch 111/150\n",
      "514/514 [==============================] - 0s 82us/step - loss: 0.4768 - accuracy: 0.7607 - val_loss: 0.5359 - val_accuracy: 0.7402\n",
      "Epoch 112/150\n",
      "514/514 [==============================] - 0s 85us/step - loss: 0.4859 - accuracy: 0.7626 - val_loss: 0.5381 - val_accuracy: 0.7205\n",
      "Epoch 113/150\n",
      "514/514 [==============================] - 0s 87us/step - loss: 0.4763 - accuracy: 0.7646 - val_loss: 0.5280 - val_accuracy: 0.7677\n",
      "Epoch 114/150\n",
      "514/514 [==============================] - 0s 84us/step - loss: 0.4731 - accuracy: 0.7782 - val_loss: 0.5440 - val_accuracy: 0.7559\n",
      "Epoch 115/150\n",
      "514/514 [==============================] - 0s 85us/step - loss: 0.4740 - accuracy: 0.7782 - val_loss: 0.5553 - val_accuracy: 0.7126\n",
      "Epoch 116/150\n",
      "514/514 [==============================] - 0s 75us/step - loss: 0.4769 - accuracy: 0.7626 - val_loss: 0.5334 - val_accuracy: 0.7480\n",
      "Epoch 117/150\n",
      "514/514 [==============================] - 0s 80us/step - loss: 0.4748 - accuracy: 0.7743 - val_loss: 0.5328 - val_accuracy: 0.7441\n",
      "Epoch 118/150\n",
      "514/514 [==============================] - 0s 87us/step - loss: 0.4756 - accuracy: 0.7685 - val_loss: 0.5465 - val_accuracy: 0.7205\n",
      "Epoch 119/150\n",
      "514/514 [==============================] - 0s 101us/step - loss: 0.4728 - accuracy: 0.7607 - val_loss: 0.5262 - val_accuracy: 0.7717\n",
      "Epoch 120/150\n",
      "514/514 [==============================] - 0s 104us/step - loss: 0.4723 - accuracy: 0.7743 - val_loss: 0.5317 - val_accuracy: 0.7520\n",
      "Epoch 121/150\n",
      "514/514 [==============================] - 0s 88us/step - loss: 0.4669 - accuracy: 0.7860 - val_loss: 0.5311 - val_accuracy: 0.7165\n",
      "Epoch 122/150\n",
      "514/514 [==============================] - 0s 90us/step - loss: 0.4674 - accuracy: 0.7840 - val_loss: 0.5314 - val_accuracy: 0.7323\n",
      "Epoch 123/150\n",
      "514/514 [==============================] - 0s 89us/step - loss: 0.4696 - accuracy: 0.7646 - val_loss: 0.5265 - val_accuracy: 0.7677\n",
      "Epoch 124/150\n",
      "514/514 [==============================] - 0s 86us/step - loss: 0.4760 - accuracy: 0.7549 - val_loss: 0.5271 - val_accuracy: 0.7717\n",
      "Epoch 125/150\n",
      "514/514 [==============================] - 0s 113us/step - loss: 0.4657 - accuracy: 0.7743 - val_loss: 0.5239 - val_accuracy: 0.7559\n",
      "Epoch 126/150\n",
      "514/514 [==============================] - 0s 86us/step - loss: 0.4644 - accuracy: 0.7704 - val_loss: 0.5271 - val_accuracy: 0.7402\n",
      "Epoch 127/150\n",
      "514/514 [==============================] - 0s 102us/step - loss: 0.4658 - accuracy: 0.7704 - val_loss: 0.5239 - val_accuracy: 0.7598\n",
      "Epoch 128/150\n",
      "514/514 [==============================] - 0s 96us/step - loss: 0.4621 - accuracy: 0.7899 - val_loss: 0.5441 - val_accuracy: 0.7638\n",
      "Epoch 129/150\n",
      "514/514 [==============================] - 0s 94us/step - loss: 0.4734 - accuracy: 0.7588 - val_loss: 0.5273 - val_accuracy: 0.7441\n",
      "Epoch 130/150\n",
      "514/514 [==============================] - 0s 79us/step - loss: 0.4618 - accuracy: 0.7763 - val_loss: 0.5328 - val_accuracy: 0.7598\n",
      "Epoch 131/150\n",
      "514/514 [==============================] - 0s 101us/step - loss: 0.4624 - accuracy: 0.7529 - val_loss: 0.5277 - val_accuracy: 0.7638\n",
      "Epoch 132/150\n",
      "514/514 [==============================] - 0s 90us/step - loss: 0.4615 - accuracy: 0.7763 - val_loss: 0.5248 - val_accuracy: 0.7795\n",
      "Epoch 133/150\n",
      "514/514 [==============================] - 0s 87us/step - loss: 0.4661 - accuracy: 0.7763 - val_loss: 0.5256 - val_accuracy: 0.7677\n",
      "Epoch 134/150\n",
      "514/514 [==============================] - 0s 88us/step - loss: 0.4613 - accuracy: 0.7840 - val_loss: 0.5367 - val_accuracy: 0.7441\n",
      "Epoch 135/150\n",
      "514/514 [==============================] - 0s 87us/step - loss: 0.4595 - accuracy: 0.7743 - val_loss: 0.5268 - val_accuracy: 0.7480\n",
      "Epoch 136/150\n",
      "514/514 [==============================] - 0s 106us/step - loss: 0.4590 - accuracy: 0.7938 - val_loss: 0.5262 - val_accuracy: 0.7362\n",
      "Epoch 137/150\n",
      "514/514 [==============================] - 0s 127us/step - loss: 0.4579 - accuracy: 0.7782 - val_loss: 0.5424 - val_accuracy: 0.7323\n",
      "Epoch 138/150\n",
      "514/514 [==============================] - 0s 120us/step - loss: 0.4594 - accuracy: 0.7685 - val_loss: 0.5249 - val_accuracy: 0.7480\n",
      "Epoch 139/150\n",
      "514/514 [==============================] - 0s 122us/step - loss: 0.4565 - accuracy: 0.7879 - val_loss: 0.5474 - val_accuracy: 0.7244\n",
      "Epoch 140/150\n",
      "514/514 [==============================] - 0s 111us/step - loss: 0.4599 - accuracy: 0.7724 - val_loss: 0.5400 - val_accuracy: 0.7677\n",
      "Epoch 141/150\n",
      "514/514 [==============================] - 0s 76us/step - loss: 0.4549 - accuracy: 0.7840 - val_loss: 0.5236 - val_accuracy: 0.7638\n",
      "Epoch 142/150\n",
      "514/514 [==============================] - 0s 97us/step - loss: 0.4576 - accuracy: 0.7840 - val_loss: 0.5303 - val_accuracy: 0.7480\n",
      "Epoch 143/150\n",
      "514/514 [==============================] - 0s 81us/step - loss: 0.4563 - accuracy: 0.7802 - val_loss: 0.5241 - val_accuracy: 0.7835\n",
      "Epoch 144/150\n",
      "514/514 [==============================] - 0s 85us/step - loss: 0.4562 - accuracy: 0.7802 - val_loss: 0.5241 - val_accuracy: 0.7520\n",
      "Epoch 145/150\n",
      "514/514 [==============================] - 0s 110us/step - loss: 0.4499 - accuracy: 0.7860 - val_loss: 0.5252 - val_accuracy: 0.7677\n",
      "Epoch 146/150\n",
      "514/514 [==============================] - 0s 84us/step - loss: 0.4666 - accuracy: 0.7549 - val_loss: 0.5250 - val_accuracy: 0.7677\n",
      "Epoch 147/150\n",
      "514/514 [==============================] - 0s 71us/step - loss: 0.4524 - accuracy: 0.7821 - val_loss: 0.5253 - val_accuracy: 0.7677\n",
      "Epoch 148/150\n",
      "514/514 [==============================] - 0s 96us/step - loss: 0.4484 - accuracy: 0.7977 - val_loss: 0.5258 - val_accuracy: 0.7362\n",
      "Epoch 149/150\n",
      "514/514 [==============================] - 0s 92us/step - loss: 0.4505 - accuracy: 0.7782 - val_loss: 0.5190 - val_accuracy: 0.7520\n",
      "Epoch 150/150\n",
      "514/514 [==============================] - 0s 89us/step - loss: 0.4531 - accuracy: 0.7840 - val_loss: 0.5205 - val_accuracy: 0.7835\n",
      "768/768 [==============================] - 0s 11us/step\n",
      "accuracy: 78.39%\n"
     ]
    }
   ],
   "source": [
    "# from keras.models import Sequential\n",
    "# from keras.layers import Dense\n",
    "# import numpy as np\n",
    "from sklearn.model_selection import train_test_split\n",
    "# fix random seed for reproducibility\n",
    "# seed = 7\n",
    "# np.random.seed(seed)\n",
    "\n",
    "# load the dataset\n",
    "dataset = np.loadtxt('pima-indians-diabetes.data.csv', delimiter = ',')\n",
    "# split into input(X) and output (Y) variables\n",
    "X = dataset[:,0:8]\n",
    "Y = dataset[:,8]\n",
    "# X.shape, Y.shape\n",
    "\n",
    "# Split data into 67% train and 33% test\n",
    "X_train, X_test, y_train, y_test = train_test_split(X,Y, test_size = 0.33, random_state = seed)\n",
    "\n",
    "# Create sequential model\n",
    "model = Sequential()\n",
    "model.add(Dense(12, input_dim = 8, kernel_initializer='uniform', activation='relu'))\n",
    "model.add(Dense(8, kernel_initializer='uniform', activation='relu'))\n",
    "model.add(Dense(1, kernel_initializer='uniform', activation='sigmoid'))\n",
    "\n",
    "# compile the model\n",
    "model.compile(loss = 'binary_crossentropy', optimizer='adam', metrics=['accuracy'])\n",
    "\n",
    "# Fit the model using validation split\n",
    "model.fit(X_train, y_train,  validation_data = (X_test, y_test), nb_epoch= 150, batch_size=10)\n",
    "\n",
    "# evaluate the model\n",
    "scores = model.evaluate(X, Y)\n",
    "print(\"%s: %.2f%%\" %(model.metrics_names[1], scores[1]*100))"
   ]
  },
  {
   "cell_type": "code",
   "execution_count": 30,
   "metadata": {},
   "outputs": [
    {
     "data": {
      "text/plain": [
       "['loss', 'accuracy']"
      ]
     },
     "execution_count": 30,
     "metadata": {},
     "output_type": "execute_result"
    }
   ],
   "source": [
    "# These are the metrics our model with keep note of\n",
    "model.metrics_names"
   ]
  },
  {
   "cell_type": "code",
   "execution_count": 31,
   "metadata": {},
   "outputs": [
    {
     "data": {
      "text/plain": [
       "[0.46860550840695697, 0.7838541865348816]"
      ]
     },
     "execution_count": 31,
     "metadata": {},
     "output_type": "execute_result"
    }
   ],
   "source": [
    "# These are the scores for the model metrics\n",
    "scores"
   ]
  },
  {
   "cell_type": "markdown",
   "metadata": {},
   "source": [
    "#### 3. Manual K-Fold cross validation"
   ]
  },
  {
   "cell_type": "code",
   "execution_count": 32,
   "metadata": {},
   "outputs": [],
   "source": [
    "# from keras.models import Sequential\n",
    "# from keras.layers import Dense\n",
    "# import numpy as np\n",
    "from sklearn.model_selection import StratifiedKFold\n",
    "# fix random seed for reproducibility\n",
    "# seed = 7\n",
    "# np.random.seed(seed)\n",
    "\n",
    "# load the dataset\n",
    "dataset = np.loadtxt('pima-indians-diabetes.data.csv', delimiter = ',')\n",
    "# split into input(X) and output (Y) variables\n",
    "X = dataset[:,0:8]\n",
    "Y = dataset[:,8]\n",
    "# X.shape, Y.shape"
   ]
  },
  {
   "cell_type": "code",
   "execution_count": 35,
   "metadata": {},
   "outputs": [
    {
     "data": {
      "text/plain": [
       "(768, 8)"
      ]
     },
     "execution_count": 35,
     "metadata": {},
     "output_type": "execute_result"
    }
   ],
   "source": [
    "X.shape"
   ]
  },
  {
   "cell_type": "code",
   "execution_count": 37,
   "metadata": {},
   "outputs": [
    {
     "name": "stdout",
     "output_type": "stream",
     "text": [
      "accuracy: 76.62%\n",
      "accuracy: 74.03%\n",
      "accuracy: 72.73%\n",
      "accuracy: 85.71%\n",
      "accuracy: 76.62%\n",
      "accuracy: 79.22%\n",
      "accuracy: 71.43%\n",
      "accuracy: 70.13%\n",
      "accuracy: 73.68%\n",
      "accuracy: 77.63%\n",
      "75.78% (+/- 4.28%)\n"
     ]
    }
   ],
   "source": [
    "# Define 10-fold cross validation test harness\n",
    "kfold = StratifiedKFold(n_splits=10, shuffle=True, random_state=seed)\n",
    "# Create a list to store cross validation scores\n",
    "cvscores = []\n",
    "for train, test in kfold.split(X,Y):\n",
    "    # Create sequential model\n",
    "    model = Sequential()\n",
    "    model.add(Dense(12, input_dim = 8, kernel_initializer='uniform', activation='relu'))\n",
    "    model.add(Dense(8, kernel_initializer='uniform', activation='relu'))\n",
    "    model.add(Dense(1, kernel_initializer='uniform', activation='sigmoid'))\n",
    "    \n",
    "    # compile the model\n",
    "    model.compile(loss = 'binary_crossentropy', optimizer='adam', metrics=['accuracy'])\n",
    "    \n",
    "    # Fit the model using validation split\n",
    "    model.fit(X[train], Y[train], epochs= 150, batch_size=10, verbose=0)\n",
    "\n",
    "    # evaluate the model\n",
    "    scores = model.evaluate(X[test], Y[test], verbose=0)\n",
    "    print(\"%s: %.2f%%\" %(model.metrics_names[1], scores[1]*100))\n",
    "    cvscores.append(scores[1]*100)\n",
    "    \n",
    "print(\"%.2f%% (+/- %.2f%%)\" %(np.mean(cvscores), np.std(cvscores)))"
   ]
  },
  {
   "cell_type": "markdown",
   "metadata": {},
   "source": [
    "## Chapter 9: Keras Models with Scikit-Learn"
   ]
  },
  {
   "cell_type": "markdown",
   "metadata": {},
   "source": [
    "#### Using the Keras Classifier"
   ]
  },
  {
   "cell_type": "code",
   "execution_count": 40,
   "metadata": {},
   "outputs": [
    {
     "name": "stdout",
     "output_type": "stream",
     "text": [
      "0.7539131879806519\n"
     ]
    }
   ],
   "source": [
    "# import modules. for cross-val and keras wrappers\n",
    "from keras.wrappers.scikit_learn import KerasClassifier\n",
    "from sklearn.model_selection import StratifiedKFold, cross_val_score\n",
    "\n",
    "def create_model():\n",
    "    # create model\n",
    "    model = Sequential()\n",
    "    model.add(Dense(12, input_dim = 8, kernel_initializer='uniform', activation='relu'))\n",
    "    model.add(Dense(8, kernel_initializer='uniform', activation='relu'))\n",
    "    model.add(Dense(1, kernel_initializer='uniform', activation='sigmoid'))    \n",
    "    # compile model\n",
    "    model.compile(loss = 'binary_crossentropy', optimizer='adam', metrics=['accuracy'])\n",
    "    return model\n",
    "\n",
    "# Set random seed\n",
    "# Load data\n",
    "# Split data into X and Y\n",
    "# Create model\n",
    "model = KerasClassifier(build_fn=create_model, epochs=150, batch_size=10, verbose=0)\n",
    "\n",
    "# Evaluate using 10 fold cross validation\n",
    "kfold = StratifiedKFold(n_splits=10, shuffle=True, random_state=seed)\n",
    "results = cross_val_score(model, X, Y, cv=kfold)\n",
    "\n",
    "print(results.mean())"
   ]
  },
  {
   "cell_type": "markdown",
   "metadata": {},
   "source": [
    "#### Hyperparameter search for deep learning models"
   ]
  },
  {
   "cell_type": "code",
   "execution_count": 49,
   "metadata": {},
   "outputs": [
    {
     "name": "stdout",
     "output_type": "stream",
     "text": [
      "Time taken in minutes: 13.137764040629069\n",
      "Best: 0.748698 using {'batch_size': 5, 'epochs': 150, 'kernel_initializer': 'uniform', 'optimizer': 'adam'}\n"
     ]
    },
    {
     "ename": "ValueError",
     "evalue": "too many values to unpack (expected 3)",
     "output_type": "error",
     "traceback": [
      "\u001b[0;31m---------------------------------------------------------------------------\u001b[0m",
      "\u001b[0;31mValueError\u001b[0m                                Traceback (most recent call last)",
      "\u001b[0;32m<ipython-input-49-9b6553bf0eb4>\u001b[0m in \u001b[0;36m<module>\u001b[0;34m()\u001b[0m\n\u001b[1;32m     37\u001b[0m \u001b[0;31m# summarize results\u001b[0m\u001b[0;34m\u001b[0m\u001b[0;34m\u001b[0m\u001b[0;34m\u001b[0m\u001b[0m\n\u001b[1;32m     38\u001b[0m \u001b[0mprint\u001b[0m\u001b[0;34m(\u001b[0m\u001b[0;34m\"Best: %f using %s\"\u001b[0m \u001b[0;34m%\u001b[0m \u001b[0;34m(\u001b[0m\u001b[0mgrid_results\u001b[0m\u001b[0;34m.\u001b[0m\u001b[0mbest_score_\u001b[0m\u001b[0;34m,\u001b[0m \u001b[0mgrid_results\u001b[0m\u001b[0;34m.\u001b[0m\u001b[0mbest_params_\u001b[0m\u001b[0;34m)\u001b[0m\u001b[0;34m)\u001b[0m\u001b[0;34m\u001b[0m\u001b[0;34m\u001b[0m\u001b[0m\n\u001b[0;32m---> 39\u001b[0;31m \u001b[0;32mfor\u001b[0m \u001b[0mparams\u001b[0m\u001b[0;34m,\u001b[0m \u001b[0mmean_score\u001b[0m\u001b[0;34m,\u001b[0m \u001b[0mscores\u001b[0m \u001b[0;32min\u001b[0m \u001b[0mgrid_results\u001b[0m\u001b[0;34m.\u001b[0m\u001b[0mcv_results_\u001b[0m\u001b[0;34m:\u001b[0m\u001b[0;34m\u001b[0m\u001b[0;34m\u001b[0m\u001b[0m\n\u001b[0m\u001b[1;32m     40\u001b[0m     \u001b[0mprint\u001b[0m\u001b[0;34m(\u001b[0m\u001b[0;34m\"%f (%f) with %r\"\u001b[0m \u001b[0;34m%\u001b[0m\u001b[0;34m(\u001b[0m\u001b[0mscores\u001b[0m\u001b[0;34m.\u001b[0m\u001b[0mmean\u001b[0m\u001b[0;34m(\u001b[0m\u001b[0;34m)\u001b[0m\u001b[0;34m,\u001b[0m \u001b[0mscores\u001b[0m\u001b[0;34m.\u001b[0m\u001b[0mstd\u001b[0m\u001b[0;34m(\u001b[0m\u001b[0;34m)\u001b[0m\u001b[0;34m,\u001b[0m \u001b[0mparams\u001b[0m\u001b[0;34m)\u001b[0m\u001b[0;34m)\u001b[0m\u001b[0;34m\u001b[0m\u001b[0;34m\u001b[0m\u001b[0m\n",
      "\u001b[0;31mValueError\u001b[0m: too many values to unpack (expected 3)"
     ]
    }
   ],
   "source": [
    "# import useful modules\n",
    "import time\n",
    "from sklearn.model_selection import GridSearchCV\n",
    "start = time.time()\n",
    "# Use our defined model create_model() but create defaults so our grid search can change parameters.\n",
    "def create_model(kernel_initializer= 'uniform', optimizer = 'adam'):\n",
    "    # create model\n",
    "    model = Sequential()\n",
    "    model.add(Dense(12, input_dim = 8, kernel_initializer=kernel_initializer, activation='relu'))\n",
    "    model.add(Dense(8, kernel_initializer='uniform', activation='relu'))\n",
    "    model.add(Dense(1, kernel_initializer='uniform', activation='sigmoid'))    \n",
    "    # compile model\n",
    "    model.compile(loss = 'binary_crossentropy', optimizer=optimizer, metrics=['accuracy'])\n",
    "    return model\n",
    "\n",
    "\n",
    "\n",
    "# Set random seed\n",
    "# Load data\n",
    "# Split data into X and Y\n",
    "# Create model\n",
    "model = KerasClassifier(build_fn=create_model, verbose = 0)\n",
    "\n",
    "# Grid search epochs, batch_size, and optimizer\n",
    "optimizers = ['rmsprop', 'adam']\n",
    "init = ['glorot_uniform', 'normal', 'uniform']\n",
    "epoch = np.array([50, 100, 150])\n",
    "batches = np.array([5, 10, 20])\n",
    "# Grid parameters\n",
    "param_grid = dict(optimizer= optimizers, epochs = epoch, batch_size = batches, kernel_initializer=init)\n",
    "grid = GridSearchCV(estimator=model, param_grid=param_grid, cv=3)\n",
    "grid_results = grid.fit(X, Y)\n",
    "\n",
    "end = time.time()\n",
    "print(\"Time taken in minutes: %s\"%((end-start)/60))\n",
    "\n",
    "# summarize results \n",
    "print(\"Best: %f using %s\" % (grid_results.best_score_, grid_results.best_params_))\n",
    "# for params, mean_score, scores in grid_results.cv_results_:\n",
    "#     print(\"%f (%f) with %r\" %(scores.mean(), scores.std(), params))"
   ]
  },
  {
   "cell_type": "code",
   "execution_count": null,
   "metadata": {},
   "outputs": [],
   "source": [
    "# Print the parameters and their results\n",
    "for i in ['mean_test_score', 'std_test_score', 'params']:\n",
    "    print(i,\" : \",grid_results.cv_results_[i])"
   ]
  },
  {
   "cell_type": "markdown",
   "metadata": {},
   "source": [
    "Now that we have gotten the results from our grid searching, we can use these parameters to design a better network and evaluate on it.\n",
    "\n",
    "Best: 0.748698 using {'batch_size': 5, 'epochs': 150, 'kernel_initializer': 'uniform', 'optimizer': 'adam'}"
   ]
  },
  {
   "cell_type": "code",
   "execution_count": null,
   "metadata": {},
   "outputs": [],
   "source": []
  }
 ],
 "metadata": {
  "kernelspec": {
   "display_name": "Python 3",
   "language": "python",
   "name": "python3"
  },
  "language_info": {
   "codemirror_mode": {
    "name": "ipython",
    "version": 3
   },
   "file_extension": ".py",
   "mimetype": "text/x-python",
   "name": "python",
   "nbconvert_exporter": "python",
   "pygments_lexer": "ipython3",
   "version": "3.7.3"
  }
 },
 "nbformat": 4,
 "nbformat_minor": 2
}
