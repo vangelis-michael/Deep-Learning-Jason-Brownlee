{
 "cells": [
  {
   "cell_type": "markdown",
   "metadata": {},
   "source": [
    "# Chapter 16:\n",
    "    Reduce Overfitting with Dropout Regularization"
   ]
  },
  {
   "cell_type": "code",
   "execution_count": 1,
   "metadata": {},
   "outputs": [
    {
     "name": "stderr",
     "output_type": "stream",
     "text": [
      "Using TensorFlow backend.\n"
     ]
    }
   ],
   "source": [
    "# Import modules\n",
    "import numpy as np\n",
    "import pandas as pd\n",
    "from keras.models import Sequential\n",
    "from keras.layers import Dense, Dropout\n",
    "from keras.wrappers.scikit_learn import KerasClassifier\n",
    "from keras.constraints import maxnorm\n",
    "from keras.optimizers import SGD\n",
    "from sklearn.model_selection import cross_val_score, StratifiedKFold\n",
    "from sklearn.preprocessing import StandardScaler, LabelEncoder\n",
    "from sklearn.pipeline import Pipeline\n",
    "# fix random seed for reproducibility\n",
    "seed = 7 \n",
    "np.random.seed(seed)"
   ]
  },
  {
   "cell_type": "code",
   "execution_count": 2,
   "metadata": {},
   "outputs": [
    {
     "name": "stdout",
     "output_type": "stream",
     "text": [
      " AMMI_Models.py\r\n",
      " baseline_model_plot.png\r\n",
      "'Deep Learning using Keras with Tensorflow and Theano Backend 4. Dropout.ipynb'\r\n",
      "'Deep Learning with Keras using Tensorflow and Theano backend 2. Models..ipynb'\r\n",
      "'Deep learning with Keras, using Tensorflow and Theano backend 3. Model checkpointing.ipynb'\r\n",
      "'Deep Learning with Keras using Tensorflow and Theano backend, Python 1. Keras Structure..ipynb'\r\n",
      " iris.data\r\n",
      "'Linear Algebra and Basics Mathematics..ipynb'\r\n",
      " model_plot.png\r\n",
      " Models\r\n",
      " Models_Boston_Data\r\n",
      " pima-indians-diabetes.data\r\n",
      " __pycache__\r\n",
      " sonar.all-data\r\n",
      " Weights\r\n"
     ]
    }
   ],
   "source": [
    "!ls"
   ]
  },
  {
   "cell_type": "code",
   "execution_count": 3,
   "metadata": {},
   "outputs": [],
   "source": [
    "# Load Sonar dataset\n",
    "data = pd.read_csv('sonar.all-data', header = None)\n",
    "dataset = data.values\n",
    "# split data into X and Y\n",
    "X = dataset[:, :60].astype(float)\n",
    "Y = dataset[:,60]"
   ]
  },
  {
   "cell_type": "code",
   "execution_count": 4,
   "metadata": {},
   "outputs": [],
   "source": [
    "# Encode class values as integers\n",
    "encoder = LabelEncoder()\n",
    "encoder.fit(Y)\n",
    "encoded_Y = encoder.transform(Y)"
   ]
  },
  {
   "cell_type": "code",
   "execution_count": 5,
   "metadata": {},
   "outputs": [],
   "source": [
    "# Create baseline model\n",
    "def baseline():\n",
    "    model = Sequential()\n",
    "    model.add(Dense(60, input_dim=60, kernel_initializer='uniform', activation='relu'))\n",
    "    model.add(Dense(30, kernel_initializer='uniform', activation = 'relu'))\n",
    "    model.add(Dense(1, kernel_initializer='uniform', activation = 'sigmoid'))\n",
    "    # Compile the model\n",
    "    sgd = SGD(learning_rate=0.01, momentum=0.8, decay =0.0, nesterov = False)\n",
    "    model.compile(loss = 'binary_crossentropy', optimizer = sgd, metrics = ['accuracy'])\n",
    "    return model"
   ]
  },
  {
   "cell_type": "code",
   "execution_count": 6,
   "metadata": {},
   "outputs": [
    {
     "name": "stdout",
     "output_type": "stream",
     "text": [
      "Baseline: 85.56% (8.65%)\n"
     ]
    }
   ],
   "source": [
    "estimator = []\n",
    "estimator.append(('standardize', StandardScaler()))\n",
    "estimator.append(('mlp', KerasClassifier(build_fn=baseline, epochs=300, batch_size=16, verbose=0)))\n",
    "pipeline = Pipeline(estimator)\n",
    "kfold = StratifiedKFold(n_splits=10, shuffle=True, random_state=seed)\n",
    "results = cross_val_score(pipeline, X, encoded_Y, cv = kfold)\n",
    "print('Baseline: %.2f%% (%.2f%%)' % (results.mean()*100, results.std()*100))"
   ]
  },
  {
   "cell_type": "markdown",
   "metadata": {},
   "source": [
    "#### Using Dropout on the visible layer"
   ]
  },
  {
   "cell_type": "code",
   "execution_count": 7,
   "metadata": {},
   "outputs": [],
   "source": [
    "# Define model\n",
    "def baseline2_dp():\n",
    "    model = Sequential()\n",
    "    model.add(Dropout(0.2, input_shape=(60, )))\n",
    "    model.add(Dense(60, kernel_initializer='uniform', activation='relu', W_constraint=maxnorm(3)))\n",
    "    model.add(Dense(30, kernel_initializer='uniform', activation = 'relu', W_constraint = maxnorm(3)))\n",
    "    model.add(Dense(1, kernel_initializer='uniform', activation = 'sigmoid'))\n",
    "    # Compile the model\n",
    "    sgd = SGD(learning_rate=0.1, momentum=0.9, decay =0.0, nesterov = False)\n",
    "    model.compile(loss = 'binary_crossentropy', optimizer = sgd, metrics = ['accuracy'])\n",
    "    return model"
   ]
  },
  {
   "cell_type": "code",
   "execution_count": 8,
   "metadata": {},
   "outputs": [
    {
     "name": "stdout",
     "output_type": "stream",
     "text": [
      "Baseline: 85.09% (5.87%)\n"
     ]
    }
   ],
   "source": [
    "estimator = []\n",
    "estimator.append(('standardize', StandardScaler()))\n",
    "estimator.append(('mlp', KerasClassifier(build_fn=baseline_dp, epochs=300, batch_size=16, verbose=0)))\n",
    "pipeline = Pipeline(estimator)\n",
    "kfold = StratifiedKFold(n_splits=10, shuffle=True, random_state=seed)\n",
    "results = cross_val_score(pipeline, X, encoded_Y, cv = kfold)\n",
    "print('Baseline: %.2f%% (%.2f%%)' % (results.mean()*100, results.std()*100))"
   ]
  },
  {
   "cell_type": "code",
   "execution_count": 9,
   "metadata": {},
   "outputs": [
    {
     "data": {
      "text/plain": [
       "'2.3.1'"
      ]
     },
     "execution_count": 9,
     "metadata": {},
     "output_type": "execute_result"
    }
   ],
   "source": [
    "import keras\n",
    "keras.__version__"
   ]
  },
  {
   "cell_type": "markdown",
   "metadata": {},
   "source": [
    "#### Dropout in the hidden layers"
   ]
  },
  {
   "cell_type": "code",
   "execution_count": 13,
   "metadata": {},
   "outputs": [],
   "source": [
    "# Define model\n",
    "def baseline3_dp():\n",
    "    model = Sequential()\n",
    "    model.add(Dense(60, input_dim = 60, kernel_initializer='uniform', activation='relu', kernel_constraint=maxnorm(3)))\n",
    "    model.add(Dropout(0.2))\n",
    "    model.add(Dense(30, kernel_initializer='uniform', activation = 'relu', kernel_constraint = maxnorm(3)))\n",
    "    model.add(Dropout(0.2))\n",
    "    model.add(Dense(1, kernel_initializer='uniform', activation = 'sigmoid'))\n",
    "    # Compile the model\n",
    "    sgd = SGD(learning_rate=0.1, momentum=0.9, decay =0.0, nesterov = False)\n",
    "    model.compile(loss = 'binary_crossentropy', optimizer = sgd, metrics = ['accuracy'])\n",
    "    return model"
   ]
  },
  {
   "cell_type": "code",
   "execution_count": 14,
   "metadata": {},
   "outputs": [
    {
     "name": "stdout",
     "output_type": "stream",
     "text": [
      "Baseline: 84.59% (6.01%)\n"
     ]
    }
   ],
   "source": [
    "estimator = []\n",
    "estimator.append(('standardize', StandardScaler()))\n",
    "estimator.append(('mlp', KerasClassifier(build_fn=baseline3_dp, epochs=300, batch_size=16, verbose=0)))\n",
    "pipeline = Pipeline(estimator)\n",
    "kfold = StratifiedKFold(n_splits=10, shuffle=True, random_state=seed)\n",
    "results = cross_val_score(pipeline, X, encoded_Y, cv = kfold)\n",
    "print('Baseline: %.2f%% (%.2f%%)' % (results.mean()*100, results.std()*100))"
   ]
  },
  {
   "cell_type": "markdown",
   "metadata": {},
   "source": [
    "Notes on using dropouts:\n",
    "    1. Generally use a small dropout value of 20%-50% of neurons with 20% providing a good starting point. A probability too low has minimal effect and a value too high results in under-learning by the network.\n",
    "    2. Use a larger network. You are likely to get better performance when dropout is used on a larger network, giving the model more of an opportunity to learn independent representations.\n",
    "    3. Use dropout on input (visible) as well as hidden layers. Application of dropout at each layer of the network has shown good results.\n",
    "    4. Use a large learning rate with decay and a large momentum. Increase your learning rate by a factor of 10 to 100 and use a high momentum value of 0.9 or 0.99.\n",
    "    5. Constrain the size of network weights. A large learning rate can result in very large network weights. Imposing a constraint on the size of network weights such as max-norm regularization with a size of 4 or 5 has been shown to improve results."
   ]
  },
  {
   "cell_type": "markdown",
   "metadata": {},
   "source": [
    "# Chapter 17:\n",
    "    Lift performance with learning rate schedules"
   ]
  },
  {
   "cell_type": "code",
   "execution_count": 31,
   "metadata": {},
   "outputs": [
    {
     "name": "stdout",
     "output_type": "stream",
     "text": [
      "--2020-03-01 16:08:02--  http://archive.ics.uci.edu/ml/machine-learning-databases/ionosphere/ionosphere.data\n",
      "Resolving archive.ics.uci.edu (archive.ics.uci.edu)... 128.195.10.252\n",
      "Connecting to archive.ics.uci.edu (archive.ics.uci.edu)|128.195.10.252|:80... connected.\n",
      "HTTP request sent, awaiting response... 200 OK\n",
      "Length: 76467 (75K) [application/x-httpd-php]\n",
      "Saving to: ‘ionosphere.data’\n",
      "\n",
      "ionosphere.data     100%[===================>]  74.67K  32.9KB/s    in 2.3s    \n",
      "\n",
      "2020-03-01 16:08:06 (32.9 KB/s) - ‘ionosphere.data’ saved [76467/76467]\n",
      "\n"
     ]
    }
   ],
   "source": [
    "# Downlod ionosphere data\n",
    "!wget http://archive.ics.uci.edu/ml/machine-learning-databases/ionosphere/ionosphere.data"
   ]
  },
  {
   "cell_type": "markdown",
   "metadata": {},
   "source": [
    "#### Understanding Learning rate schedulers"
   ]
  },
  {
   "cell_type": "code",
   "execution_count": 28,
   "metadata": {},
   "outputs": [
    {
     "data": {
      "text/plain": [
       "(50, 50)"
      ]
     },
     "execution_count": 28,
     "metadata": {},
     "output_type": "execute_result"
    }
   ],
   "source": [
    "# Set decay constant, lr and starting epoch \n",
    "decay = 0.001\n",
    "lr = 0.01\n",
    "epoch = 0\n",
    "# collect lr and epoch values\n",
    "lr_list = []\n",
    "epoch_list = []\n",
    "# setup while loop for learning rate update\n",
    "while epoch < 50:\n",
    "    lr = lr * (1/(1+decay*epoch))\n",
    "    epoch_list.append(epoch)\n",
    "    lr_list.append(lr)\n",
    "    epoch += 1    \n",
    "    # print(lr)\n",
    "# Verify the length of the lists.\n",
    "len(epoch_list), len(lr_list)"
   ]
  },
  {
   "cell_type": "code",
   "execution_count": 24,
   "metadata": {},
   "outputs": [],
   "source": [
    "# Import module to plot\n",
    "import matplotlib.pyplot as plt"
   ]
  },
  {
   "cell_type": "code",
   "execution_count": 29,
   "metadata": {},
   "outputs": [
    {
     "data": {
      "image/png": "[encoded data removed]",
      "text/plain": [
       "<Figure size 432x288 with 1 Axes>"
      ]
     },
     "metadata": {
      "needs_background": "light"
     },
     "output_type": "display_data"
    }
   ],
   "source": [
    "# plot epochs and learning rate\n",
    "plt.plot(epoch_list, lr_list)\n",
    "plt.show()"
   ]
  },
  {
   "cell_type": "code",
   "execution_count": null,
   "metadata": {},
   "outputs": [],
   "source": [
    "Set a reducing decay using \n",
    "decay = lr/Number of epochs\n",
    "\n",
    "\n",
    "# Set decay constant, lr and starting epoch \n",
    "decay = 0.001\n",
    "lr = 0.01\n",
    "epoch = 0\n",
    "# collect lr and epoch values\n",
    "lr_list = []\n",
    "epoch_list = []\n",
    "# setup while loop for learning rate update\n",
    "while epoch < 50:\n",
    "    lr = lr * (1/(1+decay*epoch))\n",
    "    epoch_list.append(epoch)\n",
    "    lr_list.append(lr)\n",
    "    epoch += 1    \n",
    "    # print(lr)\n",
    "# Verify the length of the lists.\n",
    "len(epoch_list), len(lr_list)"
   ]
  },
  {
   "cell_type": "code",
   "execution_count": 2,
   "metadata": {},
   "outputs": [],
   "source": [
    "# Import modules useful to working\n",
    "# Fix random seed\n",
    "# Load dataset\n",
    "dataset = pd.read_csv('ionosphere.data')\n",
    "dataset = dataset.values\n",
    "# split into X and Y\n",
    "X = dataset[:,0:34].astype(float)\n",
    "Y = dataset[:,34]"
   ]
  },
  {
   "cell_type": "code",
   "execution_count": 3,
   "metadata": {},
   "outputs": [],
   "source": [
    "# Encode class values as integers\n",
    "encoder = LabelEncoder()\n",
    "encoder.fit(Y)\n",
    "encoded_Y = encoder.transform(Y)"
   ]
  },
  {
   "cell_type": "code",
   "execution_count": 34,
   "metadata": {},
   "outputs": [
    {
     "name": "stdout",
     "output_type": "stream",
     "text": [
      "Train on 234 samples, validate on 116 samples\n",
      "Epoch 1/50\n",
      " - 0s - loss: 0.6906 - accuracy: 0.6026 - val_loss: 0.6814 - val_accuracy: 0.6983\n",
      "Epoch 2/50\n",
      " - 0s - loss: 0.6742 - accuracy: 0.6795 - val_loss: 0.6072 - val_accuracy: 0.8621\n",
      "Epoch 3/50\n",
      " - 0s - loss: 0.6245 - accuracy: 0.7735 - val_loss: 0.4987 - val_accuracy: 0.8879\n",
      "Epoch 4/50\n",
      " - 0s - loss: 0.5472 - accuracy: 0.8162 - val_loss: 0.4475 - val_accuracy: 0.9569\n",
      "Epoch 5/50\n",
      " - 0s - loss: 0.4528 - accuracy: 0.8291 - val_loss: 0.3826 - val_accuracy: 0.9224\n",
      "Epoch 6/50\n",
      " - 0s - loss: 0.3764 - accuracy: 0.8632 - val_loss: 0.3780 - val_accuracy: 0.8879\n",
      "Epoch 7/50\n",
      " - 0s - loss: 0.3312 - accuracy: 0.8718 - val_loss: 0.2983 - val_accuracy: 0.9224\n",
      "Epoch 8/50\n",
      " - 0s - loss: 0.2838 - accuracy: 0.8932 - val_loss: 0.2615 - val_accuracy: 0.9224\n",
      "Epoch 9/50\n",
      " - 0s - loss: 0.2490 - accuracy: 0.9017 - val_loss: 0.2027 - val_accuracy: 0.9397\n",
      "Epoch 10/50\n",
      " - 0s - loss: 0.2259 - accuracy: 0.9188 - val_loss: 0.1915 - val_accuracy: 0.9569\n",
      "Epoch 11/50\n",
      " - 0s - loss: 0.2116 - accuracy: 0.9145 - val_loss: 0.2080 - val_accuracy: 0.9310\n",
      "Epoch 12/50\n",
      " - 0s - loss: 0.2143 - accuracy: 0.9188 - val_loss: 0.1519 - val_accuracy: 0.9569\n",
      "Epoch 13/50\n",
      " - 0s - loss: 0.1831 - accuracy: 0.9274 - val_loss: 0.1727 - val_accuracy: 0.9569\n",
      "Epoch 14/50\n",
      " - 0s - loss: 0.1650 - accuracy: 0.9402 - val_loss: 0.2557 - val_accuracy: 0.9052\n",
      "Epoch 15/50\n",
      " - 0s - loss: 0.1999 - accuracy: 0.9188 - val_loss: 0.1385 - val_accuracy: 0.9655\n",
      "Epoch 16/50\n",
      " - 0s - loss: 0.1545 - accuracy: 0.9444 - val_loss: 0.1468 - val_accuracy: 0.9569\n",
      "Epoch 17/50\n",
      " - 0s - loss: 0.1457 - accuracy: 0.9487 - val_loss: 0.1059 - val_accuracy: 0.9741\n",
      "Epoch 18/50\n",
      " - 0s - loss: 0.1359 - accuracy: 0.9573 - val_loss: 0.1902 - val_accuracy: 0.9483\n",
      "Epoch 19/50\n",
      " - 0s - loss: 0.1386 - accuracy: 0.9487 - val_loss: 0.0877 - val_accuracy: 0.9741\n",
      "Epoch 20/50\n",
      " - 0s - loss: 0.1304 - accuracy: 0.9573 - val_loss: 0.1612 - val_accuracy: 0.9483\n",
      "Epoch 21/50\n",
      " - 0s - loss: 0.1206 - accuracy: 0.9487 - val_loss: 0.0837 - val_accuracy: 0.9741\n",
      "Epoch 22/50\n",
      " - 0s - loss: 0.1300 - accuracy: 0.9573 - val_loss: 0.1846 - val_accuracy: 0.9483\n",
      "Epoch 23/50\n",
      " - 0s - loss: 0.1274 - accuracy: 0.9573 - val_loss: 0.1078 - val_accuracy: 0.9828\n",
      "Epoch 24/50\n",
      " - 0s - loss: 0.1179 - accuracy: 0.9658 - val_loss: 0.0945 - val_accuracy: 0.9741\n",
      "Epoch 25/50\n",
      " - 0s - loss: 0.1089 - accuracy: 0.9615 - val_loss: 0.1069 - val_accuracy: 0.9741\n",
      "Epoch 26/50\n",
      " - 0s - loss: 0.1052 - accuracy: 0.9658 - val_loss: 0.0901 - val_accuracy: 0.9828\n",
      "Epoch 27/50\n",
      " - 0s - loss: 0.1032 - accuracy: 0.9701 - val_loss: 0.1054 - val_accuracy: 0.9741\n",
      "Epoch 28/50\n",
      " - 0s - loss: 0.1003 - accuracy: 0.9658 - val_loss: 0.0840 - val_accuracy: 0.9828\n",
      "Epoch 29/50\n",
      " - 0s - loss: 0.0993 - accuracy: 0.9744 - val_loss: 0.1076 - val_accuracy: 0.9741\n",
      "Epoch 30/50\n",
      " - 0s - loss: 0.0942 - accuracy: 0.9701 - val_loss: 0.1214 - val_accuracy: 0.9741\n",
      "Epoch 31/50\n",
      " - 0s - loss: 0.0913 - accuracy: 0.9701 - val_loss: 0.0861 - val_accuracy: 0.9828\n",
      "Epoch 32/50\n",
      " - 0s - loss: 0.0890 - accuracy: 0.9744 - val_loss: 0.0932 - val_accuracy: 0.9828\n",
      "Epoch 33/50\n",
      " - 0s - loss: 0.0851 - accuracy: 0.9744 - val_loss: 0.0878 - val_accuracy: 0.9828\n",
      "Epoch 34/50\n",
      " - 0s - loss: 0.0873 - accuracy: 0.9786 - val_loss: 0.1308 - val_accuracy: 0.9655\n",
      "Epoch 35/50\n",
      " - 0s - loss: 0.0885 - accuracy: 0.9786 - val_loss: 0.0963 - val_accuracy: 0.9828\n",
      "Epoch 36/50\n",
      " - 0s - loss: 0.0824 - accuracy: 0.9744 - val_loss: 0.0864 - val_accuracy: 0.9828\n",
      "Epoch 37/50\n",
      " - 0s - loss: 0.0782 - accuracy: 0.9744 - val_loss: 0.0857 - val_accuracy: 0.9828\n",
      "Epoch 38/50\n",
      " - 0s - loss: 0.0766 - accuracy: 0.9744 - val_loss: 0.0749 - val_accuracy: 0.9828\n",
      "Epoch 39/50\n",
      " - 0s - loss: 0.0786 - accuracy: 0.9786 - val_loss: 0.0904 - val_accuracy: 0.9828\n",
      "Epoch 40/50\n",
      " - 0s - loss: 0.0753 - accuracy: 0.9829 - val_loss: 0.0829 - val_accuracy: 0.9828\n",
      "Epoch 41/50\n",
      " - 0s - loss: 0.0721 - accuracy: 0.9829 - val_loss: 0.0873 - val_accuracy: 0.9828\n",
      "Epoch 42/50\n",
      " - 0s - loss: 0.0703 - accuracy: 0.9829 - val_loss: 0.0845 - val_accuracy: 0.9828\n",
      "Epoch 43/50\n",
      " - 0s - loss: 0.0701 - accuracy: 0.9872 - val_loss: 0.0700 - val_accuracy: 0.9828\n",
      "Epoch 44/50\n",
      " - 0s - loss: 0.0748 - accuracy: 0.9786 - val_loss: 0.0917 - val_accuracy: 0.9828\n",
      "Epoch 45/50\n",
      " - 0s - loss: 0.0665 - accuracy: 0.9872 - val_loss: 0.0790 - val_accuracy: 0.9828\n",
      "Epoch 46/50\n",
      " - 0s - loss: 0.0646 - accuracy: 0.9829 - val_loss: 0.0779 - val_accuracy: 0.9828\n",
      "Epoch 47/50\n",
      " - 0s - loss: 0.0654 - accuracy: 0.9872 - val_loss: 0.0837 - val_accuracy: 0.9828\n",
      "Epoch 48/50\n",
      " - 0s - loss: 0.0659 - accuracy: 0.9829 - val_loss: 0.0887 - val_accuracy: 0.9828\n",
      "Epoch 49/50\n",
      " - 0s - loss: 0.0653 - accuracy: 0.9786 - val_loss: 0.0717 - val_accuracy: 0.9828\n",
      "Epoch 50/50\n",
      " - 0s - loss: 0.0662 - accuracy: 0.9786 - val_loss: 0.0883 - val_accuracy: 0.9741\n"
     ]
    },
    {
     "data": {
      "text/plain": [
       "<keras.callbacks.callbacks.History at 0x7fa2c02c79b0>"
      ]
     },
     "execution_count": 34,
     "metadata": {},
     "output_type": "execute_result"
    }
   ],
   "source": [
    "# Create model\n",
    "model = Sequential()\n",
    "model.add(Dense(34, input_dim=34, kernel_initializer='uniform', activation='relu'))\n",
    "model.add(Dense(1, kernel_initializer='uniform', activation='sigmoid'))\n",
    "# compile model\n",
    "epochs = 50\n",
    "learning_rate = 0.1\n",
    "decay_rate = learning_rate / epochs\n",
    "momentum = 0.8\n",
    "sgd = SGD(learning_rate=learning_rate, momentum=momentum, decay=decay_rate, nesterov=False)\n",
    "model.compile(loss = 'binary_crossentropy', optimizer= sgd, metrics = ['accuracy'])\n",
    "# Fit the model\n",
    "model.fit(X, encoded_Y, validation_split=0.33, epochs = epochs, batch_size=28, verbose=2)"
   ]
  },
  {
   "cell_type": "code",
   "execution_count": null,
   "metadata": {},
   "outputs": [],
   "source": [
    "# DO NOT RUN\n",
    "# Set decay constant, lr and starting epoch \n",
    "decay = 0.001\n",
    "lr = 0.01\n",
    "epoch = 0\n",
    "# collect lr and epoch values\n",
    "lr_list = []\n",
    "epoch_list = []\n",
    "# setup while loop for learning rate update\n",
    "\n",
    "while epoch < 50:\n",
    "    if epoch%10 == 0:\n",
    "        lr = lr * (1/(1+decay*epoch))\n",
    "        epoch_list.append(epoch)\n",
    "        lr_list.append(lr)\n",
    "    else:\n",
    "        epoch += 1    \n",
    "    # print(lr)\n",
    "# Verify the length of the lists.\n",
    "len(epoch_list), len(lr_list)"
   ]
  },
  {
   "cell_type": "code",
   "execution_count": null,
   "metadata": {},
   "outputs": [],
   "source": [
    "LearningRate = InitialLearningRate * DropRate ^ (floor((1+epoch)/epochDrop))"
   ]
  },
  {
   "cell_type": "code",
   "execution_count": null,
   "metadata": {},
   "outputs": [],
   "source": []
  },
  {
   "cell_type": "code",
   "execution_count": 6,
   "metadata": {},
   "outputs": [],
   "source": [
    "# Learning rate schedule using the learning rate scheduler\n",
    "import math\n",
    "from keras.callbacks import LearningRateScheduler\n",
    "# define learning rate schedule\n",
    "def step_decay(epoch):\n",
    "    initial_lrate = 0.1\n",
    "    drop = 0.5\n",
    "    epochs_drop = 100.0\n",
    "    lrate = initial_lrate * math.pow(drop, math.floor((1 + epoch)/epochs_drop))\n",
    "    return lrate\n",
    "\n",
    "# Set random seed\n",
    "seed = 7\n",
    "np.random.seed(seed)\n",
    "# Load dataset\n",
    "# Split dataset\n",
    "# Encode Y variable\n",
    "# Create model\n",
    "model = Sequential()\n",
    "model.add(Dense(34, input_dim=34, kernel_initializer='uniform', activation = 'relu'))\n",
    "model.add(Dense(1, kernel_initializer='normal', activation = 'sigmoid'))\n",
    "\n",
    "# compile the model\n",
    "sgd = SGD(lr=0.0, momentum=0.9, decay=0.0, nesterov = False)\n",
    "model.compile(loss= 'binary_crossentropy', optimizer=sgd, metrics=['accuracy'])\n",
    "\n",
    "# learning schedule callback\n",
    "lrate = LearningRateScheduler(step_decay)\n",
    "callbacks_list = [lrate]"
   ]
  },
  {
   "cell_type": "code",
   "execution_count": 8,
   "metadata": {
    "scrolled": true
   },
   "outputs": [
    {
     "name": "stdout",
     "output_type": "stream",
     "text": [
      "Train on 234 samples, validate on 116 samples\n",
      "Epoch 1/50\n",
      " - 0s - loss: 0.6883 - accuracy: 0.6282 - val_loss: 0.6523 - val_accuracy: 0.7328\n",
      "Epoch 2/50\n",
      " - 0s - loss: 0.6500 - accuracy: 0.6111 - val_loss: 0.4649 - val_accuracy: 0.9310\n",
      "Epoch 3/50\n",
      " - 0s - loss: 0.5678 - accuracy: 0.7650 - val_loss: 0.5561 - val_accuracy: 0.7155\n",
      "Epoch 4/50\n",
      " - 0s - loss: 0.4541 - accuracy: 0.7821 - val_loss: 0.1963 - val_accuracy: 0.9569\n",
      "Epoch 5/50\n",
      " - 0s - loss: 0.3832 - accuracy: 0.8504 - val_loss: 0.3187 - val_accuracy: 0.9310\n",
      "Epoch 6/50\n",
      " - 0s - loss: 0.2853 - accuracy: 0.8932 - val_loss: 0.2564 - val_accuracy: 0.9224\n",
      "Epoch 7/50\n",
      " - 0s - loss: 0.2462 - accuracy: 0.8889 - val_loss: 0.2705 - val_accuracy: 0.9052\n",
      "Epoch 8/50\n",
      " - 0s - loss: 0.2234 - accuracy: 0.9274 - val_loss: 0.1568 - val_accuracy: 0.9569\n",
      "Epoch 9/50\n",
      " - 0s - loss: 0.1753 - accuracy: 0.9316 - val_loss: 0.1612 - val_accuracy: 0.9397\n",
      "Epoch 10/50\n",
      " - 0s - loss: 0.1642 - accuracy: 0.9402 - val_loss: 0.2050 - val_accuracy: 0.9569\n",
      "Epoch 11/50\n",
      " - 0s - loss: 0.1496 - accuracy: 0.9487 - val_loss: 0.1242 - val_accuracy: 0.9655\n",
      "Epoch 12/50\n",
      " - 0s - loss: 0.1597 - accuracy: 0.9359 - val_loss: 0.0804 - val_accuracy: 0.9741\n",
      "Epoch 13/50\n",
      " - 0s - loss: 0.1394 - accuracy: 0.9487 - val_loss: 0.2328 - val_accuracy: 0.9483\n",
      "Epoch 14/50\n",
      " - 0s - loss: 0.1370 - accuracy: 0.9530 - val_loss: 0.0897 - val_accuracy: 0.9828\n",
      "Epoch 15/50\n",
      " - 0s - loss: 0.1072 - accuracy: 0.9658 - val_loss: 0.0933 - val_accuracy: 0.9741\n",
      "Epoch 16/50\n",
      " - 0s - loss: 0.0940 - accuracy: 0.9658 - val_loss: 0.0794 - val_accuracy: 0.9828\n",
      "Epoch 17/50\n",
      " - 0s - loss: 0.0916 - accuracy: 0.9658 - val_loss: 0.0703 - val_accuracy: 0.9828\n",
      "Epoch 18/50\n",
      " - 0s - loss: 0.0824 - accuracy: 0.9786 - val_loss: 0.0862 - val_accuracy: 0.9828\n",
      "Epoch 19/50\n",
      " - 0s - loss: 0.0770 - accuracy: 0.9786 - val_loss: 0.0741 - val_accuracy: 0.9914\n",
      "Epoch 20/50\n",
      " - 0s - loss: 0.0681 - accuracy: 0.9786 - val_loss: 0.0906 - val_accuracy: 0.9914\n",
      "Epoch 21/50\n",
      " - 0s - loss: 0.0659 - accuracy: 0.9829 - val_loss: 0.0571 - val_accuracy: 0.9828\n",
      "Epoch 22/50\n",
      " - 0s - loss: 0.0628 - accuracy: 0.9829 - val_loss: 0.0938 - val_accuracy: 0.9914\n",
      "Epoch 23/50\n",
      " - 0s - loss: 0.0572 - accuracy: 0.9872 - val_loss: 0.0580 - val_accuracy: 0.9914\n",
      "Epoch 24/50\n",
      " - 0s - loss: 0.0562 - accuracy: 0.9829 - val_loss: 0.0889 - val_accuracy: 0.9914\n",
      "Epoch 25/50\n",
      " - 0s - loss: 0.0548 - accuracy: 0.9872 - val_loss: 0.0523 - val_accuracy: 0.9914\n",
      "Epoch 26/50\n",
      " - 0s - loss: 0.0535 - accuracy: 0.9872 - val_loss: 0.0576 - val_accuracy: 0.9914\n",
      "Epoch 27/50\n",
      " - 0s - loss: 0.0475 - accuracy: 0.9872 - val_loss: 0.0607 - val_accuracy: 0.9914\n",
      "Epoch 28/50\n",
      " - 0s - loss: 0.0440 - accuracy: 0.9872 - val_loss: 0.0689 - val_accuracy: 0.9914\n",
      "Epoch 29/50\n",
      " - 0s - loss: 0.0432 - accuracy: 0.9872 - val_loss: 0.0630 - val_accuracy: 0.9914\n",
      "Epoch 30/50\n",
      " - 0s - loss: 0.0406 - accuracy: 0.9915 - val_loss: 0.0625 - val_accuracy: 0.9914\n",
      "Epoch 31/50\n",
      " - 0s - loss: 0.0408 - accuracy: 0.9915 - val_loss: 0.0771 - val_accuracy: 0.9741\n",
      "Epoch 32/50\n",
      " - 0s - loss: 0.0506 - accuracy: 0.9915 - val_loss: 0.0514 - val_accuracy: 0.9828\n",
      "Epoch 33/50\n",
      " - 0s - loss: 0.0425 - accuracy: 0.9872 - val_loss: 0.1021 - val_accuracy: 0.9828\n",
      "Epoch 34/50\n",
      " - 0s - loss: 0.0458 - accuracy: 0.9915 - val_loss: 0.0538 - val_accuracy: 0.9828\n",
      "Epoch 35/50\n",
      " - 0s - loss: 0.0447 - accuracy: 0.9872 - val_loss: 0.0737 - val_accuracy: 0.9914\n",
      "Epoch 36/50\n",
      " - 0s - loss: 0.0358 - accuracy: 0.9957 - val_loss: 0.0542 - val_accuracy: 0.9828\n",
      "Epoch 37/50\n",
      " - 0s - loss: 0.0343 - accuracy: 0.9957 - val_loss: 0.0738 - val_accuracy: 0.9914\n",
      "Epoch 38/50\n",
      " - 0s - loss: 0.0328 - accuracy: 0.9957 - val_loss: 0.0563 - val_accuracy: 0.9828\n",
      "Epoch 39/50\n",
      " - 0s - loss: 0.0312 - accuracy: 0.9915 - val_loss: 0.0755 - val_accuracy: 0.9828\n",
      "Epoch 40/50\n",
      " - 0s - loss: 0.0295 - accuracy: 0.9957 - val_loss: 0.0590 - val_accuracy: 0.9914\n",
      "Epoch 41/50\n",
      " - 0s - loss: 0.0315 - accuracy: 0.9957 - val_loss: 0.0681 - val_accuracy: 0.9914\n",
      "Epoch 42/50\n",
      " - 0s - loss: 0.0282 - accuracy: 0.9957 - val_loss: 0.0628 - val_accuracy: 0.9914\n",
      "Epoch 43/50\n",
      " - 0s - loss: 0.0264 - accuracy: 0.9957 - val_loss: 0.0594 - val_accuracy: 0.9914\n",
      "Epoch 44/50\n",
      " - 0s - loss: 0.0292 - accuracy: 0.9957 - val_loss: 0.0713 - val_accuracy: 0.9828\n",
      "Epoch 45/50\n",
      " - 0s - loss: 0.0268 - accuracy: 0.9957 - val_loss: 0.0595 - val_accuracy: 0.9828\n",
      "Epoch 46/50\n",
      " - 0s - loss: 0.0285 - accuracy: 0.9957 - val_loss: 0.0681 - val_accuracy: 0.9914\n",
      "Epoch 47/50\n",
      " - 0s - loss: 0.0249 - accuracy: 0.9957 - val_loss: 0.0647 - val_accuracy: 0.9828\n",
      "Epoch 48/50\n",
      " - 0s - loss: 0.0241 - accuracy: 0.9957 - val_loss: 0.0690 - val_accuracy: 0.9828\n",
      "Epoch 49/50\n",
      " - 0s - loss: 0.0268 - accuracy: 0.9957 - val_loss: 0.0603 - val_accuracy: 0.9828\n",
      "Epoch 50/50\n",
      " - 0s - loss: 0.0257 - accuracy: 0.9957 - val_loss: 0.0659 - val_accuracy: 0.9828\n"
     ]
    },
    {
     "data": {
      "text/plain": [
       "<keras.callbacks.callbacks.History at 0x7f628c7359e8>"
      ]
     },
     "execution_count": 8,
     "metadata": {},
     "output_type": "execute_result"
    }
   ],
   "source": [
    "# Fit the model\n",
    "model.fit(X, encoded_Y, validation_split=0.33, epochs=50, batch_size=28, callbacks=callbacks_list, verbose=2)"
   ]
  },
  {
   "cell_type": "code",
   "execution_count": null,
   "metadata": {},
   "outputs": [],
   "source": [
    "# Exponential Learning rate decay\n",
    "def exp_decay(epoch):\n",
    "    initial_lrate = 0.1\n",
    "    k = 0.1\n",
    "    lrate = initial_lrate * exp(-k*t)\n",
    "    return lrate\n",
    "\n",
    "# Implement with LearningRateScheduler"
   ]
  },
  {
   "cell_type": "markdown",
   "metadata": {},
   "source": [
    "Learning Rate Schedule Tips:\n",
    "    \n",
    "    1. Increase the initial learning rate. Because the learning rate will decrease, start with a larger value to decrease from. A larger learning rate will result in a lot larger changes to the weights, at least in the beginning, allowing you to benefit from fine tuning later.\n",
    "    2. Use a large momentum. Using a larger momentum value will help the optimization algorithm to continue to make updates in the right direction when your learning rate shrinks to small values.\n",
    "    3. Experiment with different schedules. It will not be clear which learning rate schedule to use so try a few with di↵erent configuration options and see what works best on your problem. Also try schedules that change exponentially and even schedules that respond to the accuracy of your model on the training or test datasets."
   ]
  },
  {
   "cell_type": "code",
   "execution_count": null,
   "metadata": {},
   "outputs": [],
   "source": []
  }
 ],
 "metadata": {
  "kernelspec": {
   "display_name": "Python 3",
   "language": "python",
   "name": "python3"
  },
  "language_info": {
   "codemirror_mode": {
    "name": "ipython",
    "version": 3
   },
   "file_extension": ".py",
   "mimetype": "text/x-python",
   "name": "python",
   "nbconvert_exporter": "python",
   "pygments_lexer": "ipython3",
   "version": "3.7.3"
  }
 },
 "nbformat": 4,
 "nbformat_minor": 2
}
