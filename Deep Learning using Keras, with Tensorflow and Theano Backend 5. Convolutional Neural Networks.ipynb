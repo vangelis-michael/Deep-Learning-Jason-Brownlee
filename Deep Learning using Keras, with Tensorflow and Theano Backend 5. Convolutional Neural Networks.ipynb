{
 "cells": [
  {
   "cell_type": "markdown",
   "metadata": {},
   "source": [
    "# Chapter 19:\n",
    "    Handwritten Digit Recognition"
   ]
  },
  {
   "cell_type": "markdown",
   "metadata": {},
   "source": [
    "Using the popular handwritten digits dataset http://yann.lecun.com/exdb/mnist/"
   ]
  },
  {
   "cell_type": "markdown",
   "metadata": {},
   "source": [
    "We'll Learn:\n",
    "\n",
    "How to load the MNIST dataset in Keras and develop a baseline neural network model for the problem.\n",
    "\n",
    "How to implement and evaluate a simple Convolutional Neural Network for MNIST.\n",
    "\n",
    "How to implement a close to state-of-the-art deep learning model for MNIST."
   ]
  },
  {
   "cell_type": "code",
   "execution_count": 1,
   "metadata": {},
   "outputs": [],
   "source": [
    "# Load modules\n",
    "from keras.datasets import mnist\n",
    "import matplotlib.pyplot as plt"
   ]
  },
  {
   "cell_type": "code",
   "execution_count": 13,
   "metadata": {},
   "outputs": [
    {
     "data": {
      "text/plain": [
       "(2, 2)"
      ]
     },
     "execution_count": 13,
     "metadata": {},
     "output_type": "execute_result"
    }
   ],
   "source": [
    "train, test = mnist.load_data()\n",
    "len(train), len(test)"
   ]
  },
  {
   "cell_type": "code",
   "execution_count": 14,
   "metadata": {},
   "outputs": [
    {
     "data": {
      "text/plain": [
       "(array([[[0, 0, 0, ..., 0, 0, 0],\n",
       "         [0, 0, 0, ..., 0, 0, 0],\n",
       "         [0, 0, 0, ..., 0, 0, 0],\n",
       "         ...,\n",
       "         [0, 0, 0, ..., 0, 0, 0],\n",
       "         [0, 0, 0, ..., 0, 0, 0],\n",
       "         [0, 0, 0, ..., 0, 0, 0]],\n",
       " \n",
       "        [[0, 0, 0, ..., 0, 0, 0],\n",
       "         [0, 0, 0, ..., 0, 0, 0],\n",
       "         [0, 0, 0, ..., 0, 0, 0],\n",
       "         ...,\n",
       "         [0, 0, 0, ..., 0, 0, 0],\n",
       "         [0, 0, 0, ..., 0, 0, 0],\n",
       "         [0, 0, 0, ..., 0, 0, 0]],\n",
       " \n",
       "        [[0, 0, 0, ..., 0, 0, 0],\n",
       "         [0, 0, 0, ..., 0, 0, 0],\n",
       "         [0, 0, 0, ..., 0, 0, 0],\n",
       "         ...,\n",
       "         [0, 0, 0, ..., 0, 0, 0],\n",
       "         [0, 0, 0, ..., 0, 0, 0],\n",
       "         [0, 0, 0, ..., 0, 0, 0]],\n",
       " \n",
       "        ...,\n",
       " \n",
       "        [[0, 0, 0, ..., 0, 0, 0],\n",
       "         [0, 0, 0, ..., 0, 0, 0],\n",
       "         [0, 0, 0, ..., 0, 0, 0],\n",
       "         ...,\n",
       "         [0, 0, 0, ..., 0, 0, 0],\n",
       "         [0, 0, 0, ..., 0, 0, 0],\n",
       "         [0, 0, 0, ..., 0, 0, 0]],\n",
       " \n",
       "        [[0, 0, 0, ..., 0, 0, 0],\n",
       "         [0, 0, 0, ..., 0, 0, 0],\n",
       "         [0, 0, 0, ..., 0, 0, 0],\n",
       "         ...,\n",
       "         [0, 0, 0, ..., 0, 0, 0],\n",
       "         [0, 0, 0, ..., 0, 0, 0],\n",
       "         [0, 0, 0, ..., 0, 0, 0]],\n",
       " \n",
       "        [[0, 0, 0, ..., 0, 0, 0],\n",
       "         [0, 0, 0, ..., 0, 0, 0],\n",
       "         [0, 0, 0, ..., 0, 0, 0],\n",
       "         ...,\n",
       "         [0, 0, 0, ..., 0, 0, 0],\n",
       "         [0, 0, 0, ..., 0, 0, 0],\n",
       "         [0, 0, 0, ..., 0, 0, 0]]], dtype=uint8),\n",
       " array([5, 0, 4, ..., 5, 6, 8], dtype=uint8))"
      ]
     },
     "execution_count": 14,
     "metadata": {},
     "output_type": "execute_result"
    }
   ],
   "source": [
    "train"
   ]
  },
  {
   "cell_type": "code",
   "execution_count": 18,
   "metadata": {},
   "outputs": [],
   "source": [
    "# Load (download if needed) the MNIST dataset\n",
    "(X_train, y_train), (X_test, y_test) = mnist.load_data()"
   ]
  },
  {
   "cell_type": "code",
   "execution_count": 19,
   "metadata": {},
   "outputs": [
    {
     "data": {
      "image/png": "[encoded data removed]",
      "text/plain": [
       "<Figure size 432x288 with 4 Axes>"
      ]
     },
     "metadata": {
      "needs_background": "light"
     },
     "output_type": "display_data"
    }
   ],
   "source": [
    "# Plot 4 images as gray scale\n",
    "plt.subplot(221)\n",
    "plt.imshow(X_train[0], cmap=plt.get_cmap('gray'))\n",
    "plt.subplot(222)\n",
    "plt.imshow(X_train[1], cmap=plt.get_cmap('gray'))\n",
    "plt.subplot(223)\n",
    "plt.imshow(X_train[2], cmap=plt.get_cmap('gray'))\n",
    "plt.subplot(224)\n",
    "plt.imshow(X_train[3], cmap=plt.get_cmap('gray'))\n",
    "# Show the plot\n",
    "plt.show()"
   ]
  },
  {
   "cell_type": "markdown",
   "metadata": {},
   "source": [
    "#### Build a baseline model for the classification of the dataset"
   ]
  },
  {
   "cell_type": "code",
   "execution_count": 4,
   "metadata": {},
   "outputs": [],
   "source": [
    "# import modules\n",
    "import numpy as np\n",
    "#from keras.datasets import mnist\n",
    "from keras.models import Sequential\n",
    "from keras.layers import Dense, Dropout\n",
    "from keras.utils import np_utils\n",
    "# fix random seed for reproducibility\n",
    "seed = 7\n",
    "np.random.seed(seed)"
   ]
  },
  {
   "cell_type": "code",
   "execution_count": 5,
   "metadata": {},
   "outputs": [],
   "source": [
    "# Data is already loaded. See cells above for loading the MNIST data"
   ]
  },
  {
   "cell_type": "code",
   "execution_count": 6,
   "metadata": {},
   "outputs": [
    {
     "data": {
      "text/plain": [
       "((60000, 28, 28), (60000,))"
      ]
     },
     "execution_count": 6,
     "metadata": {},
     "output_type": "execute_result"
    }
   ],
   "source": [
    "# Check the shape of images\n",
    "X_train.shape, y_train.shape"
   ]
  },
  {
   "cell_type": "code",
   "execution_count": 23,
   "metadata": {},
   "outputs": [
    {
     "data": {
      "text/plain": [
       "784"
      ]
     },
     "execution_count": 23,
     "metadata": {},
     "output_type": "execute_result"
    }
   ],
   "source": [
    "X_train.shape[1] * X_train.shape[2]"
   ]
  },
  {
   "cell_type": "code",
   "execution_count": 24,
   "metadata": {},
   "outputs": [],
   "source": [
    "# Flatten 28 * 28 images to a 784 vector for each image\n",
    "num_pixels = X_train.shape[1] * X_train.shape[2]\n",
    "# Reshape the input images\n",
    "X_train = X_train.reshape(X_train.shape[0], num_pixels).astype('float32')\n",
    "X_test = X_test.reshape(X_test.shape[0], num_pixels).astype('float32')"
   ]
  },
  {
   "cell_type": "code",
   "execution_count": 35,
   "metadata": {},
   "outputs": [
    {
     "data": {
      "text/plain": [
       "255.0"
      ]
     },
     "execution_count": 35,
     "metadata": {},
     "output_type": "execute_result"
    }
   ],
   "source": [
    "max(X_train[5])"
   ]
  },
  {
   "cell_type": "code",
   "execution_count": 36,
   "metadata": {},
   "outputs": [],
   "source": [
    "# Normalize inputs from 0 - 255 to 0 - 1\n",
    "X_train = X_train / 255\n",
    "X_test = X_test / 255"
   ]
  },
  {
   "cell_type": "code",
   "execution_count": 37,
   "metadata": {},
   "outputs": [],
   "source": [
    "# One-hot encode outputs\n",
    "y_train = np_utils.to_categorical(y_train)\n",
    "y_test = np_utils.to_categorical(y_test)\n",
    "num_classes = y_test.shape[1]"
   ]
  },
  {
   "cell_type": "code",
   "execution_count": 38,
   "metadata": {},
   "outputs": [
    {
     "data": {
      "text/plain": [
       "10"
      ]
     },
     "execution_count": 38,
     "metadata": {},
     "output_type": "execute_result"
    }
   ],
   "source": [
    "num_classes"
   ]
  },
  {
   "cell_type": "code",
   "execution_count": 39,
   "metadata": {},
   "outputs": [],
   "source": [
    "# Define baseline MLP model\n",
    "def baseline():\n",
    "    # Create model\n",
    "    model = Sequential()\n",
    "    model.add(Dense(num_pixels, input_dim=num_pixels, kernel_initializer='normal', activation='relu'))\n",
    "    model.add(Dense(num_classes, kernel_initializer='normal', activation='softmax'))\n",
    "    # Compile model\n",
    "    model.compile(loss='categorical_crossentropy', optimizer='adam', metrics=['accuracy'])\n",
    "    return model"
   ]
  },
  {
   "cell_type": "code",
   "execution_count": 40,
   "metadata": {},
   "outputs": [
    {
     "name": "stdout",
     "output_type": "stream",
     "text": [
      "Model: \"sequential_1\"\n",
      "_________________________________________________________________\n",
      "Layer (type)                 Output Shape              Param #   \n",
      "=================================================================\n",
      "dense_1 (Dense)              (None, 784)               615440    \n",
      "_________________________________________________________________\n",
      "dense_2 (Dense)              (None, 10)                7850      \n",
      "=================================================================\n",
      "Total params: 623,290\n",
      "Trainable params: 623,290\n",
      "Non-trainable params: 0\n",
      "_________________________________________________________________\n"
     ]
    }
   ],
   "source": [
    "var = baseline()\n",
    "var.summary()"
   ]
  },
  {
   "cell_type": "code",
   "execution_count": 41,
   "metadata": {},
   "outputs": [
    {
     "name": "stdout",
     "output_type": "stream",
     "text": [
      "Train on 60000 samples, validate on 10000 samples\n",
      "Epoch 1/10\n",
      " - 4s - loss: 0.2716 - accuracy: 0.9228 - val_loss: 0.1396 - val_accuracy: 0.9596\n",
      "Epoch 2/10\n",
      " - 3s - loss: 0.1100 - accuracy: 0.9681 - val_loss: 0.0964 - val_accuracy: 0.9701\n",
      "Epoch 3/10\n",
      " - 3s - loss: 0.0698 - accuracy: 0.9800 - val_loss: 0.0733 - val_accuracy: 0.9769\n",
      "Epoch 4/10\n",
      " - 3s - loss: 0.0490 - accuracy: 0.9861 - val_loss: 0.0695 - val_accuracy: 0.9790\n",
      "Epoch 5/10\n",
      " - 3s - loss: 0.0357 - accuracy: 0.9899 - val_loss: 0.0663 - val_accuracy: 0.9792\n",
      "Epoch 6/10\n",
      " - 3s - loss: 0.0261 - accuracy: 0.9931 - val_loss: 0.0672 - val_accuracy: 0.9785\n",
      "Epoch 7/10\n",
      " - 3s - loss: 0.0197 - accuracy: 0.9953 - val_loss: 0.0601 - val_accuracy: 0.9808\n",
      "Epoch 8/10\n",
      " - 3s - loss: 0.0150 - accuracy: 0.9965 - val_loss: 0.0594 - val_accuracy: 0.9807\n",
      "Epoch 9/10\n",
      " - 3s - loss: 0.0102 - accuracy: 0.9981 - val_loss: 0.0637 - val_accuracy: 0.9799\n",
      "Epoch 10/10\n",
      " - 3s - loss: 0.0074 - accuracy: 0.9986 - val_loss: 0.0602 - val_accuracy: 0.9807\n",
      "Baseline Error: 1.93%\n"
     ]
    }
   ],
   "source": [
    "# build the model\n",
    "model = baseline()\n",
    "# fit the model\n",
    "model.fit(X_train, y_train, validation_data = (X_test, y_test), epochs=10, batch_size=200, verbose=2)\n",
    "# Final evaluation of the model\n",
    "scores = model.evaluate(X_test, y_test, verbose = 0)\n",
    "print('Baseline Error: %.2f%%' %(100-scores[1]*100))"
   ]
  },
  {
   "cell_type": "code",
   "execution_count": null,
   "metadata": {},
   "outputs": [],
   "source": []
  },
  {
   "cell_type": "markdown",
   "metadata": {},
   "source": [
    "### Simple ConvNet for MNIST"
   ]
  },
  {
   "cell_type": "code",
   "execution_count": 42,
   "metadata": {},
   "outputs": [],
   "source": [
    "# Import modules for convolutions\n",
    "from keras.layers import Flatten\n",
    "from keras.layers.convolutional import Convolution2D, MaxPooling2D"
   ]
  },
  {
   "cell_type": "code",
   "execution_count": 49,
   "metadata": {},
   "outputs": [],
   "source": [
    "# Fix random seed for reproducibility\n",
    "# Load data\n",
    "(X_train, y_train), (X_test, y_test) = mnist.load_data()"
   ]
  },
  {
   "cell_type": "code",
   "execution_count": 50,
   "metadata": {},
   "outputs": [
    {
     "data": {
      "text/plain": [
       "((10000, 28, 28, 1), (60000, 28, 28, 1))"
      ]
     },
     "execution_count": 50,
     "metadata": {},
     "output_type": "execute_result"
    }
   ],
   "source": [
    "# Reshape data to (Samples, channels, width, height) \n",
    "# for tensorflow, this should be  (samples, height, width, channels)\n",
    "# for theano, this should be (samples, channels, height, width)\n",
    "X_train = X_train.reshape(X_train.shape[0], X_train.shape[1], X_train.shape[2], 1).astype('float32')\n",
    "X_test = X_test.reshape(X_test.shape[0], X_test.shape[1], X_test.shape[2], 1).astype('float32')\n",
    "X_test.shape, X_train.shape"
   ]
  },
  {
   "cell_type": "code",
   "execution_count": null,
   "metadata": {},
   "outputs": [],
   "source": [
    "# Import modules to fix data format\n",
    "from keras import backend as K\n",
    "#K.set_image_dim_ordering('th')\n",
    "\n",
    "# set image dimensions\n",
    "img_cols,img_rows = X_train.shape[1], X_train.shape[2]\n",
    "# If statement to fix data format\n",
    "def dim_check():\n",
    "    if K.image_data_format=='channels_first':\n",
    "        x_train = x_train.reshape(x_train.shape[0], 1,img_cols,img_rows)\n",
    "        x_test = x_test.reshape(x_test.shape[0], 1,img_cols,img_rows)\n",
    "        input_shape = (1,img_cols,img_rows)\n",
    "    else:\n",
    "        x_train = x_train.reshape(x_train.shape[0],img_cols,img_rows,1)\n",
    "        x_test = x_test.reshape(x_test.shape[0],img_cols,img_rows,1)\n",
    "        input_shape = (img_cols,img_rows,1)\n",
    "    return\n"
   ]
  },
  {
   "cell_type": "code",
   "execution_count": 51,
   "metadata": {},
   "outputs": [],
   "source": [
    "# Normalize inputs from 0 - 255 to 0 - 1\n",
    "X_train = X_train/255\n",
    "X_test = X_test/255"
   ]
  },
  {
   "cell_type": "code",
   "execution_count": 52,
   "metadata": {},
   "outputs": [],
   "source": [
    "# One-hot encode the outputs\n",
    "y_train = np_utils.to_categorical(y_train)\n",
    "y_test = np_utils.to_categorical(y_test)\n",
    "num_classes = y_test.shape[1]"
   ]
  },
  {
   "cell_type": "code",
   "execution_count": 55,
   "metadata": {},
   "outputs": [],
   "source": [
    "def baseline_conv():\n",
    "    model = Sequential()\n",
    "    # (samples, height, width, channels)\n",
    "    model.add(Convolution2D(32, (5, 5), input_shape=(28, 28, 1), activation = 'relu', border_mode = 'valid'))\n",
    "    model.add(MaxPooling2D(pool_size=(2, 2))) # maxpool of 2 x 2\n",
    "    model.add(Dropout(0.2)) # Dropout of 20%\n",
    "    model.add(Flatten()) # Flatten all conv ops\n",
    "    model.add(Dense(128, activation='relu')) # Dense connection of flattened conv operation\n",
    "    model.add(Dense(num_classes, activation= 'softmax'))\n",
    "    # Compile model\n",
    "    model.compile(loss = 'categorical_crossentropy', optimizer='adam', metrics = ['accuracy']) # Compile model\n",
    "    return model"
   ]
  },
  {
   "cell_type": "code",
   "execution_count": 56,
   "metadata": {},
   "outputs": [
    {
     "name": "stderr",
     "output_type": "stream",
     "text": [
      "/usr/lib/python3/dist-packages/ipykernel_launcher.py:4: UserWarning: Update your `Conv2D` call to the Keras 2 API: `Conv2D(32, (5, 5), input_shape=(28, 28, 1..., activation=\"relu\", padding=\"valid\")`\n",
      "  after removing the cwd from sys.path.\n"
     ]
    },
    {
     "name": "stdout",
     "output_type": "stream",
     "text": [
      "Train on 60000 samples, validate on 10000 samples\n",
      "Epoch 1/10\n",
      " - 13s - loss: 0.2441 - accuracy: 0.9305 - val_loss: 0.0858 - val_accuracy: 0.9730\n",
      "Epoch 2/10\n",
      " - 14s - loss: 0.0745 - accuracy: 0.9781 - val_loss: 0.0498 - val_accuracy: 0.9841\n",
      "Epoch 3/10\n",
      " - 13s - loss: 0.0519 - accuracy: 0.9849 - val_loss: 0.0437 - val_accuracy: 0.9849\n",
      "Epoch 4/10\n",
      " - 13s - loss: 0.0402 - accuracy: 0.9882 - val_loss: 0.0370 - val_accuracy: 0.9877\n",
      "Epoch 5/10\n",
      " - 13s - loss: 0.0338 - accuracy: 0.9895 - val_loss: 0.0419 - val_accuracy: 0.9863\n",
      "Epoch 6/10\n",
      " - 13s - loss: 0.0273 - accuracy: 0.9913 - val_loss: 0.0392 - val_accuracy: 0.9872\n",
      "Epoch 7/10\n",
      " - 13s - loss: 0.0234 - accuracy: 0.9924 - val_loss: 0.0386 - val_accuracy: 0.9874\n",
      "Epoch 8/10\n",
      " - 13s - loss: 0.0207 - accuracy: 0.9931 - val_loss: 0.0316 - val_accuracy: 0.9901\n",
      "Epoch 9/10\n",
      " - 13s - loss: 0.0172 - accuracy: 0.9947 - val_loss: 0.0338 - val_accuracy: 0.9897\n",
      "Epoch 10/10\n",
      " - 13s - loss: 0.0133 - accuracy: 0.9959 - val_loss: 0.0353 - val_accuracy: 0.9890\n"
     ]
    },
    {
     "data": {
      "text/plain": [
       "<keras.callbacks.callbacks.History at 0x7f37ac09c2b0>"
      ]
     },
     "execution_count": 56,
     "metadata": {},
     "output_type": "execute_result"
    }
   ],
   "source": [
    "# Build the model\n",
    "model = baseline_conv()\n",
    "# fit the model\n",
    "model.fit(X_train, y_train, validation_data=(X_test, y_test), epochs = 10, batch_size=200, verbose = 2)"
   ]
  },
  {
   "cell_type": "code",
   "execution_count": 57,
   "metadata": {},
   "outputs": [
    {
     "name": "stdout",
     "output_type": "stream",
     "text": [
      "CNN Error: 1.10%\n"
     ]
    }
   ],
   "source": [
    "scores = model.evaluate(X_test, y_test, verbose=0)\n",
    "print('CNN Error: %.2f%%' % (100-scores[1]*100))"
   ]
  },
  {
   "cell_type": "code",
   "execution_count": 58,
   "metadata": {},
   "outputs": [
    {
     "name": "stdout",
     "output_type": "stream",
     "text": [
      "Model: \"sequential_5\"\n",
      "_________________________________________________________________\n",
      "Layer (type)                 Output Shape              Param #   \n",
      "=================================================================\n",
      "conv2d_3 (Conv2D)            (None, 24, 24, 32)        832       \n",
      "_________________________________________________________________\n",
      "max_pooling2d_2 (MaxPooling2 (None, 12, 12, 32)        0         \n",
      "_________________________________________________________________\n",
      "dropout_2 (Dropout)          (None, 12, 12, 32)        0         \n",
      "_________________________________________________________________\n",
      "flatten_2 (Flatten)          (None, 4608)              0         \n",
      "_________________________________________________________________\n",
      "dense_6 (Dense)              (None, 128)               589952    \n",
      "_________________________________________________________________\n",
      "dense_7 (Dense)              (None, 10)                1290      \n",
      "=================================================================\n",
      "Total params: 592,074\n",
      "Trainable params: 592,074\n",
      "Non-trainable params: 0\n",
      "_________________________________________________________________\n"
     ]
    }
   ],
   "source": [
    "model.summary()"
   ]
  },
  {
   "cell_type": "markdown",
   "metadata": {},
   "source": [
    "### Larger ConvNet for MNIST"
   ]
  },
  {
   "cell_type": "code",
   "execution_count": 135,
   "metadata": {},
   "outputs": [],
   "source": [
    "# Import modules\n",
    "# Import the backend and change the image ordering to either tensorflow or theano. This should affect how the \n",
    "# image is ordered\n",
    "from keras import backend as K\n",
    "#K.set_image_dim_format('channel_first')\n",
    "K.set_image_data_format('channels_last')"
   ]
  },
  {
   "cell_type": "code",
   "execution_count": 59,
   "metadata": {},
   "outputs": [],
   "source": [
    "# Fix random seed\n",
    "# Load data\n",
    "# Reshape data based on 'tf' or 'th' ordering\n",
    "# Normalize inputs from 0 - 255 to 0 - 1\n",
    "# One-hot encode outputs\n",
    "# Define the larger model\n",
    "def baseline_conv_larger():\n",
    "    # Create model\n",
    "    model = Sequential()\n",
    "    model.add(Convolution2D(30, (5,5), input_shape=(28, 28, 1), activation='relu'))\n",
    "    model.add(MaxPooling2D(pool_size=(2, 2)))\n",
    "    model.add(Convolution2D(15, (3,3), activation='relu'))\n",
    "    model.add(MaxPooling2D(pool_size=(2, 2)))\n",
    "    model.add(Dropout(0.2))\n",
    "    model.add(Flatten())\n",
    "    model.add(Dense(128, activation='relu'))\n",
    "    model.add(Dense(50, activation = 'relu'))\n",
    "    model.add(Dense(num_classes, activation='softmax'))\n",
    "    \n",
    "    # compile model\n",
    "    model.compile(loss = 'categorical_crossentropy', optimizer='adam', metrics = ['accuracy'])\n",
    "    return model"
   ]
  },
  {
   "cell_type": "code",
   "execution_count": 60,
   "metadata": {},
   "outputs": [
    {
     "name": "stdout",
     "output_type": "stream",
     "text": [
      "Train on 60000 samples, validate on 10000 samples\n",
      "Epoch 1/10\n",
      " - 12s - loss: 0.3694 - accuracy: 0.8902 - val_loss: 0.0818 - val_accuracy: 0.9747\n",
      "Epoch 2/10\n",
      " - 12s - loss: 0.1008 - accuracy: 0.9685 - val_loss: 0.0523 - val_accuracy: 0.9836\n",
      "Epoch 3/10\n",
      " - 12s - loss: 0.0705 - accuracy: 0.9785 - val_loss: 0.0435 - val_accuracy: 0.9865\n",
      "Epoch 4/10\n",
      " - 13s - loss: 0.0587 - accuracy: 0.9816 - val_loss: 0.0351 - val_accuracy: 0.9884\n",
      "Epoch 5/10\n",
      " - 12s - loss: 0.0503 - accuracy: 0.9842 - val_loss: 0.0289 - val_accuracy: 0.9897\n",
      "Epoch 6/10\n",
      " - 12s - loss: 0.0439 - accuracy: 0.9861 - val_loss: 0.0320 - val_accuracy: 0.9894\n",
      "Epoch 7/10\n",
      " - 12s - loss: 0.0409 - accuracy: 0.9868 - val_loss: 0.0303 - val_accuracy: 0.9895\n",
      "Epoch 8/10\n",
      " - 13s - loss: 0.0351 - accuracy: 0.9890 - val_loss: 0.0330 - val_accuracy: 0.9887\n",
      "Epoch 9/10\n",
      " - 13s - loss: 0.0320 - accuracy: 0.9894 - val_loss: 0.0275 - val_accuracy: 0.9909\n",
      "Epoch 10/10\n",
      " - 13s - loss: 0.0302 - accuracy: 0.9906 - val_loss: 0.0243 - val_accuracy: 0.9911\n"
     ]
    },
    {
     "data": {
      "text/plain": [
       "<keras.callbacks.callbacks.History at 0x7f37ac193dd8>"
      ]
     },
     "execution_count": 60,
     "metadata": {},
     "output_type": "execute_result"
    }
   ],
   "source": [
    "# build model\n",
    "model = baseline_conv_larger()\n",
    "# fit the model \n",
    "model.fit(X_train, y_train, validation_data=(X_test, y_test), epochs=10, batch_size=200, verbose=2)"
   ]
  },
  {
   "cell_type": "code",
   "execution_count": 61,
   "metadata": {},
   "outputs": [
    {
     "name": "stdout",
     "output_type": "stream",
     "text": [
      "Large CNN Error: 0.89%\n"
     ]
    }
   ],
   "source": [
    "# final evaluation of the model\n",
    "scores = model.evaluate(X_test, y_test, verbose = 0)\n",
    "print('Large CNN Error: %.2f%%' % (100-scores[1]*100))"
   ]
  },
  {
   "cell_type": "code",
   "execution_count": 62,
   "metadata": {},
   "outputs": [
    {
     "name": "stdout",
     "output_type": "stream",
     "text": [
      "Model: \"sequential_6\"\n",
      "_________________________________________________________________\n",
      "Layer (type)                 Output Shape              Param #   \n",
      "=================================================================\n",
      "conv2d_4 (Conv2D)            (None, 24, 24, 30)        780       \n",
      "_________________________________________________________________\n",
      "max_pooling2d_3 (MaxPooling2 (None, 12, 12, 30)        0         \n",
      "_________________________________________________________________\n",
      "conv2d_5 (Conv2D)            (None, 10, 10, 15)        4065      \n",
      "_________________________________________________________________\n",
      "max_pooling2d_4 (MaxPooling2 (None, 5, 5, 15)          0         \n",
      "_________________________________________________________________\n",
      "dropout_3 (Dropout)          (None, 5, 5, 15)          0         \n",
      "_________________________________________________________________\n",
      "flatten_3 (Flatten)          (None, 375)               0         \n",
      "_________________________________________________________________\n",
      "dense_8 (Dense)              (None, 128)               48128     \n",
      "_________________________________________________________________\n",
      "dense_9 (Dense)              (None, 50)                6450      \n",
      "_________________________________________________________________\n",
      "dense_10 (Dense)             (None, 10)                510       \n",
      "=================================================================\n",
      "Total params: 59,933\n",
      "Trainable params: 59,933\n",
      "Non-trainable params: 0\n",
      "_________________________________________________________________\n"
     ]
    }
   ],
   "source": [
    "model.summary()"
   ]
  },
  {
   "cell_type": "markdown",
   "metadata": {},
   "source": [
    "# Chapter 20:\n",
    "    Improve Model Performance with Image Augmentation"
   ]
  },
  {
   "cell_type": "markdown",
   "metadata": {},
   "source": [
    "We'll learn:\n",
    "\n",
    "About the image augmentation API provide by Keras and how to use it with your models.\n",
    "\n",
    "How to perform feature standardization.\n",
    "\n",
    "How to perform ZCA whitening of your images.\n",
    "\n",
    "How to augment data with random rotations, shifts and flips of images.\n",
    "\n",
    "How to save augmented image data to disk."
   ]
  },
  {
   "cell_type": "markdown",
   "metadata": {},
   "source": [
    "### Point of comparison for Image Augmentation"
   ]
  },
  {
   "cell_type": "code",
   "execution_count": null,
   "metadata": {},
   "outputs": [],
   "source": [
    "# Plot of images as baseline for comparison\n",
    "# Import modules\n",
    "from keras.datasets import mnist\n",
    "import matplotlib.pyplot as plt"
   ]
  },
  {
   "cell_type": "code",
   "execution_count": 63,
   "metadata": {},
   "outputs": [],
   "source": [
    "# Load data\n",
    "(X_train, y_train), (X_test, y_test) = mnist.load_data()"
   ]
  },
  {
   "cell_type": "code",
   "execution_count": 80,
   "metadata": {},
   "outputs": [
    {
     "data": {
      "image/png": "[encoded data removed]",
      "text/plain": [
       "<Figure size 432x288 with 9 Axes>"
      ]
     },
     "metadata": {
      "needs_background": "light"
     },
     "output_type": "display_data"
    }
   ],
   "source": [
    "# Create a grid of 3x3 images\n",
    "for i in range(0, 9):\n",
    "    plt.subplot(330 +1+ i)\n",
    "    plt.imshow(X_train[i], cmap=plt.get_cmap('gray'))\n",
    "# Show the plot\n",
    "plt.show()"
   ]
  },
  {
   "cell_type": "markdown",
   "metadata": {},
   "source": [
    "#### Feature Standardization"
   ]
  },
  {
   "cell_type": "code",
   "execution_count": 81,
   "metadata": {},
   "outputs": [],
   "source": [
    "# Standardize image across the dataset, mean = 0, stdev = 1\n",
    "# import imagedatagenerator for image augmentation\n",
    "from keras.preprocessing.image import ImageDataGenerator"
   ]
  },
  {
   "cell_type": "code",
   "execution_count": 94,
   "metadata": {},
   "outputs": [
    {
     "data": {
      "text/plain": [
       "((10000, 1, 28, 28), (60000, 1, 28, 28))"
      ]
     },
     "execution_count": 94,
     "metadata": {},
     "output_type": "execute_result"
    }
   ],
   "source": [
    "# Load data\n",
    "# reshape data\n",
    "X_train = X_train.reshape(X_train.shape[0], 1, X_train.shape[1], X_train.shape[2]).astype('float32')\n",
    "X_test = X_test.reshape(X_test.shape[0],1, X_test.shape[1], X_test.shape[2]).astype('float32')\n",
    "X_test.shape, X_train.shape"
   ]
  },
  {
   "cell_type": "code",
   "execution_count": 95,
   "metadata": {},
   "outputs": [],
   "source": [
    "# Define data preparation\n",
    "datagen = ImageDataGenerator(featurewise_center=True, featurewise_std_normalization=True)"
   ]
  },
  {
   "cell_type": "code",
   "execution_count": 96,
   "metadata": {},
   "outputs": [
    {
     "name": "stderr",
     "output_type": "stream",
     "text": [
      "/home/michael/.local/lib/python3.7/site-packages/keras_preprocessing/image/image_data_generator.py:940: UserWarning: Expected input to be images (as Numpy array) following the data format convention \"channels_last\" (channels on axis 3), i.e. expected either 1, 3 or 4 channels on axis 3. However, it was passed an array with shape (60000, 1, 28, 28) (28 channels).\n",
      "  ' channels).')\n"
     ]
    }
   ],
   "source": [
    "# Fit parameters from data\n",
    "datagen.fit(X_train)"
   ]
  },
  {
   "cell_type": "code",
   "execution_count": 97,
   "metadata": {},
   "outputs": [
    {
     "name": "stderr",
     "output_type": "stream",
     "text": [
      "/home/michael/.local/lib/python3.7/site-packages/keras_preprocessing/image/numpy_array_iterator.py:127: UserWarning: NumpyArrayIterator is set to use the data format convention \"channels_last\" (channels on axis 3), i.e. expected either 1, 3, or 4 channels on axis 3. However, it was passed an array with shape (60000, 1, 28, 28) (28 channels).\n",
      "  str(self.x.shape[channels_axis]) + ' channels).')\n"
     ]
    },
    {
     "data": {
      "image/png": "[encoded data removed]",
      "text/plain": [
       "<Figure size 432x288 with 9 Axes>"
      ]
     },
     "metadata": {
      "needs_background": "light"
     },
     "output_type": "display_data"
    }
   ],
   "source": [
    "# Configure batch size and retrieve one bathc of images\n",
    "for X_batch, y_batch in datagen.flow(X_train, y_train, batch_size=9):\n",
    "    #create a grid of 3 x 3 images\n",
    "    for i in range(0, 9):\n",
    "        plt.subplot(330 + 1 + i)\n",
    "        plt.imshow(X_batch[i].reshape(28, 28), cmap=plt.get_cmap('gray'))\n",
    "    # show the plot\n",
    "    plt.show()\n",
    "    break"
   ]
  },
  {
   "cell_type": "markdown",
   "metadata": {},
   "source": [
    "#### ZCA Whitening"
   ]
  },
  {
   "cell_type": "code",
   "execution_count": 98,
   "metadata": {},
   "outputs": [
    {
     "name": "stderr",
     "output_type": "stream",
     "text": [
      "/home/michael/.local/lib/python3.7/site-packages/keras_preprocessing/image/image_data_generator.py:336: UserWarning: This ImageDataGenerator specifies `zca_whitening`, which overrides setting of `featurewise_center`.\n",
      "  warnings.warn('This ImageDataGenerator specifies '\n"
     ]
    }
   ],
   "source": [
    "# Define data preparation\n",
    "datagen = ImageDataGenerator(zca_whitening=True)"
   ]
  },
  {
   "cell_type": "code",
   "execution_count": 99,
   "metadata": {},
   "outputs": [
    {
     "name": "stderr",
     "output_type": "stream",
     "text": [
      "/home/michael/.local/lib/python3.7/site-packages/keras_preprocessing/image/image_data_generator.py:940: UserWarning: Expected input to be images (as Numpy array) following the data format convention \"channels_last\" (channels on axis 3), i.e. expected either 1, 3 or 4 channels on axis 3. However, it was passed an array with shape (60000, 1, 28, 28) (28 channels).\n",
      "  ' channels).')\n"
     ]
    }
   ],
   "source": [
    "# Fit parameters from data\n",
    "datagen.fit(X_train)"
   ]
  },
  {
   "cell_type": "code",
   "execution_count": 100,
   "metadata": {},
   "outputs": [
    {
     "name": "stderr",
     "output_type": "stream",
     "text": [
      "/home/michael/.local/lib/python3.7/site-packages/keras_preprocessing/image/numpy_array_iterator.py:127: UserWarning: NumpyArrayIterator is set to use the data format convention \"channels_last\" (channels on axis 3), i.e. expected either 1, 3, or 4 channels on axis 3. However, it was passed an array with shape (60000, 1, 28, 28) (28 channels).\n",
      "  str(self.x.shape[channels_axis]) + ' channels).')\n"
     ]
    },
    {
     "data": {
      "image/png": "[encoded data removed]",
      "text/plain": [
       "<Figure size 432x288 with 9 Axes>"
      ]
     },
     "metadata": {
      "needs_background": "light"
     },
     "output_type": "display_data"
    }
   ],
   "source": [
    "# Configure batch size and retrieve one bathc of images\n",
    "for X_batch, y_batch in datagen.flow(X_train, y_train, batch_size=9):\n",
    "    #create a grid of 3 x 3 images\n",
    "    for i in range(0, 9):\n",
    "        plt.subplot(330 + 1 + i)\n",
    "        plt.imshow(X_batch[i].reshape(28, 28), cmap=plt.get_cmap('gray'))\n",
    "    # show the plot\n",
    "    plt.show()\n",
    "    break"
   ]
  },
  {
   "cell_type": "markdown",
   "metadata": {},
   "source": [
    "#### Rotation Rotation"
   ]
  },
  {
   "cell_type": "code",
   "execution_count": 112,
   "metadata": {},
   "outputs": [],
   "source": [
    "# Define data preparation\n",
    "datagen = ImageDataGenerator(rotation_range=180)"
   ]
  },
  {
   "cell_type": "code",
   "execution_count": 113,
   "metadata": {},
   "outputs": [
    {
     "name": "stderr",
     "output_type": "stream",
     "text": [
      "/home/michael/.local/lib/python3.7/site-packages/keras_preprocessing/image/image_data_generator.py:940: UserWarning: Expected input to be images (as Numpy array) following the data format convention \"channels_last\" (channels on axis 3), i.e. expected either 1, 3 or 4 channels on axis 3. However, it was passed an array with shape (60000, 1, 28, 28) (28 channels).\n",
      "  ' channels).')\n"
     ]
    }
   ],
   "source": [
    "# Fit parameters from data\n",
    "datagen.fit(X_train)"
   ]
  },
  {
   "cell_type": "code",
   "execution_count": 117,
   "metadata": {},
   "outputs": [
    {
     "name": "stderr",
     "output_type": "stream",
     "text": [
      "/home/michael/.local/lib/python3.7/site-packages/keras_preprocessing/image/numpy_array_iterator.py:127: UserWarning: NumpyArrayIterator is set to use the data format convention \"channels_last\" (channels on axis 3), i.e. expected either 1, 3, or 4 channels on axis 3. However, it was passed an array with shape (60000, 1, 28, 28) (28 channels).\n",
      "  str(self.x.shape[channels_axis]) + ' channels).')\n"
     ]
    },
    {
     "data": {
      "image/png": "[encoded data removed]",
      "text/plain": [
       "<Figure size 432x288 with 9 Axes>"
      ]
     },
     "metadata": {
      "needs_background": "light"
     },
     "output_type": "display_data"
    }
   ],
   "source": [
    "# Configure batch size and retrieve one bathc of images\n",
    "for X_batch, y_batch in datagen.flow(X_train, y_train, batch_size=9):\n",
    "    #create a grid of 3 x 3 images\n",
    "    for i in range(0, 9):\n",
    "        plt.subplot(330 + 1 + i)\n",
    "        plt.imshow(X_batch[i].reshape(28, 28), cmap=plt.get_cmap('gray'))\n",
    "    # show the plot\n",
    "    plt.show()\n",
    "    break"
   ]
  },
  {
   "cell_type": "markdown",
   "metadata": {},
   "source": [
    "#### Random Shifts"
   ]
  },
  {
   "cell_type": "code",
   "execution_count": 118,
   "metadata": {},
   "outputs": [],
   "source": [
    "# Define data preparation\n",
    "# Specify shift value\n",
    "shift = 0.2\n",
    "datagen = ImageDataGenerator(width_shift_range=shift, height_shift_range=shift)"
   ]
  },
  {
   "cell_type": "code",
   "execution_count": 119,
   "metadata": {},
   "outputs": [
    {
     "name": "stderr",
     "output_type": "stream",
     "text": [
      "/home/michael/.local/lib/python3.7/site-packages/keras_preprocessing/image/image_data_generator.py:940: UserWarning: Expected input to be images (as Numpy array) following the data format convention \"channels_last\" (channels on axis 3), i.e. expected either 1, 3 or 4 channels on axis 3. However, it was passed an array with shape (60000, 1, 28, 28) (28 channels).\n",
      "  ' channels).')\n"
     ]
    }
   ],
   "source": [
    "# Fit parameters from data\n",
    "datagen.fit(X_train)"
   ]
  },
  {
   "cell_type": "code",
   "execution_count": 120,
   "metadata": {},
   "outputs": [
    {
     "name": "stderr",
     "output_type": "stream",
     "text": [
      "/home/michael/.local/lib/python3.7/site-packages/keras_preprocessing/image/numpy_array_iterator.py:127: UserWarning: NumpyArrayIterator is set to use the data format convention \"channels_last\" (channels on axis 3), i.e. expected either 1, 3, or 4 channels on axis 3. However, it was passed an array with shape (60000, 1, 28, 28) (28 channels).\n",
      "  str(self.x.shape[channels_axis]) + ' channels).')\n"
     ]
    },
    {
     "data": {
      "image/png": "[encoded data removed]",
      "text/plain": [
       "<Figure size 432x288 with 9 Axes>"
      ]
     },
     "metadata": {
      "needs_background": "light"
     },
     "output_type": "display_data"
    }
   ],
   "source": [
    "# Configure batch size and retrieve one bathc of images\n",
    "for X_batch, y_batch in datagen.flow(X_train, y_train, batch_size=9):\n",
    "    #create a grid of 3 x 3 images\n",
    "    for i in range(0, 9):\n",
    "        plt.subplot(330 + 1 + i)\n",
    "        plt.imshow(X_batch[i].reshape(28, 28), cmap=plt.get_cmap('gray'))\n",
    "    # show the plot\n",
    "    plt.show()\n",
    "    break"
   ]
  },
  {
   "cell_type": "markdown",
   "metadata": {},
   "source": [
    "#### Random Flips"
   ]
  },
  {
   "cell_type": "code",
   "execution_count": 121,
   "metadata": {},
   "outputs": [],
   "source": [
    "# Define data preparation\n",
    "datagen = ImageDataGenerator(horizontal_flip=True, vertical_flip=True)"
   ]
  },
  {
   "cell_type": "code",
   "execution_count": 122,
   "metadata": {},
   "outputs": [
    {
     "name": "stderr",
     "output_type": "stream",
     "text": [
      "/home/michael/.local/lib/python3.7/site-packages/keras_preprocessing/image/image_data_generator.py:940: UserWarning: Expected input to be images (as Numpy array) following the data format convention \"channels_last\" (channels on axis 3), i.e. expected either 1, 3 or 4 channels on axis 3. However, it was passed an array with shape (60000, 1, 28, 28) (28 channels).\n",
      "  ' channels).')\n"
     ]
    }
   ],
   "source": [
    "# Fit parameters from data\n",
    "datagen.fit(X_train)"
   ]
  },
  {
   "cell_type": "code",
   "execution_count": 123,
   "metadata": {},
   "outputs": [
    {
     "name": "stderr",
     "output_type": "stream",
     "text": [
      "/home/michael/.local/lib/python3.7/site-packages/keras_preprocessing/image/numpy_array_iterator.py:127: UserWarning: NumpyArrayIterator is set to use the data format convention \"channels_last\" (channels on axis 3), i.e. expected either 1, 3, or 4 channels on axis 3. However, it was passed an array with shape (60000, 1, 28, 28) (28 channels).\n",
      "  str(self.x.shape[channels_axis]) + ' channels).')\n"
     ]
    },
    {
     "data": {
      "image/png": "[encoded data removed]",
      "text/plain": [
       "<Figure size 432x288 with 9 Axes>"
      ]
     },
     "metadata": {
      "needs_background": "light"
     },
     "output_type": "display_data"
    }
   ],
   "source": [
    "# Configure batch size and retrieve one bathc of images\n",
    "for X_batch, y_batch in datagen.flow(X_train, y_train, batch_size=9):\n",
    "    #create a grid of 3 x 3 images\n",
    "    for i in range(0, 9):\n",
    "        plt.subplot(330 + 1 + i)\n",
    "        plt.imshow(X_batch[i].reshape(28, 28), cmap=plt.get_cmap('gray'))\n",
    "    # show the plot\n",
    "    plt.show()\n",
    "    break"
   ]
  },
  {
   "cell_type": "markdown",
   "metadata": {},
   "source": [
    "#### Saving augmented files for use"
   ]
  },
  {
   "cell_type": "code",
   "execution_count": 136,
   "metadata": {},
   "outputs": [
    {
     "data": {
      "text/plain": [
       "(60000, 1, 28, 28)"
      ]
     },
     "execution_count": 136,
     "metadata": {},
     "output_type": "execute_result"
    }
   ],
   "source": [
    "X_train.shape"
   ]
  },
  {
   "cell_type": "code",
   "execution_count": 137,
   "metadata": {},
   "outputs": [
    {
     "data": {
      "text/plain": [
       "((60000, 28, 28, 1), (10000, 28, 28, 1))"
      ]
     },
     "execution_count": 137,
     "metadata": {},
     "output_type": "execute_result"
    }
   ],
   "source": [
    "X_train = X_train.reshape(X_train.shape[0], X_train.shape[2], X_train.shape[3], X_train.shape[1])\n",
    "X_test = X_test.reshape(X_test.shape[0], X_test.shape[2], X_test.shape[3], X_test.shape[1])\n",
    "X_train.shape, X_test.shape"
   ]
  },
  {
   "cell_type": "code",
   "execution_count": 124,
   "metadata": {},
   "outputs": [],
   "source": [
    "# Import os for making changes to directories\n",
    "import os"
   ]
  },
  {
   "cell_type": "code",
   "execution_count": 138,
   "metadata": {},
   "outputs": [],
   "source": [
    "# define data preparation\n",
    "datagen = ImageDataGenerator()\n",
    "# fit the parameters from data\n",
    "datagen.fit(X_train)"
   ]
  },
  {
   "cell_type": "code",
   "execution_count": 141,
   "metadata": {},
   "outputs": [
    {
     "data": {
      "image/png": "[encoded data removed]",
      "text/plain": [
       "<Figure size 432x288 with 9 Axes>"
      ]
     },
     "metadata": {
      "needs_background": "light"
     },
     "output_type": "display_data"
    }
   ],
   "source": [
    "# Configure batch size and retrieve one batch of images\n",
    "#os.makedirs('Images_MNIST')\n",
    "# for loop\n",
    "for X_batch, y_batch in datagen.flow(X_train, y_train, batch_size= 9, save_to_dir='Images_MNIST', save_prefix='aug', save_format='png'):\n",
    "    # Create a grid of 3 x 3 images\n",
    "    for i in range(0, 9):\n",
    "        plt.subplot(330 + 1 +i)\n",
    "        plt.imshow(X_batch[i].reshape(28, 28), cmap = plt.get_cmap('gray'))\n",
    "        \n",
    "    # Show the plot\n",
    "    plt.show()\n",
    "    break"
   ]
  },
  {
   "cell_type": "code",
   "execution_count": null,
   "metadata": {},
   "outputs": [],
   "source": []
  },
  {
   "cell_type": "code",
   "execution_count": null,
   "metadata": {},
   "outputs": [],
   "source": []
  },
  {
   "cell_type": "code",
   "execution_count": 143,
   "metadata": {},
   "outputs": [],
   "source": [
    "a = {\n",
    "                \"Cred_turnover\": 34,\n",
    "                \"DTI_average\": 0.3,\n",
    "                \"Deb_turnover\": 0,\n",
    "                \"Income_class\": \"G\",\n",
    "                \"Income_free\": 11.41,\n",
    "                \"Income_nxt_3_mnths\": 0.0,\n",
    "                \"Income_other\": \"Yes\",\n",
    "                \"Income_other_avg\": 11.64,\n",
    "                \"Income_other_no_mnths\": 3,\n",
    "                \"Income_payments\": 0,\n",
    "                \"Income_regular\": 0,\n",
    "                \"Income_stable\": \"Income Not Stable\",\n",
    "                \"Income_trend\": 0,\n",
    "                \"Mnths_with_loan\": 0,\n",
    "                \"Monthly_avg_income\": 0.0,\n",
    "                \"Monthly_med_income\": 0.0,\n",
    "                \"Rep_last_mnth\": \"No\",\n",
    "                \"Salary_day\": 31,\n",
    "                \"Statement_period\": \"September - November\",\n",
    "                \"Tenor\": 3,\n",
    "                \"Tot_salary_earned\": 0.0\n",
    "}"
   ]
  },
  {
   "cell_type": "code",
   "execution_count": 171,
   "metadata": {},
   "outputs": [],
   "source": [
    "a = {'0':{\n",
    "    \"Avg_loan_reps\": 117975.1033333333,\n",
    "    \"Cred_turnover\": 2344354,\n",
    "    \"DTI_average\": 6.9645288988,\n",
    "    \"Deb_turnover\": 2329904,\n",
    "    \"Income_class\": \"D\",\n",
    "    \"Income_free\": 4816.7666666666,\n",
    "    \"Income_nxt_3_mnths\": 50818.27,\n",
    "    \"Income_other\": \"Yes\",\n",
    "    \"Income_other_avg\": 764512.0866666666,\n",
    "    \"Income_other_no_mnths\": 2,\n",
    "    \"Income_payments\": 1,\n",
    "    \"Income_regular\": 0,\n",
    "    \"Income_stable\": \"No\",\n",
    "    \"Income_trend\": 1,\n",
    "    \"Mnths_with_loan\": 1,\n",
    "    \"Monthly_avg_income\": 16939.4233333333,\n",
    "    \"Monthly_med_income\": 0.0,\n",
    "    \"Rep_last_mnth\": \"Yes\",\n",
    "    \"Salary_day\": 23,\n",
    "    \"Statement_period\": \"January - March\",\n",
    "    \"Tenor\": 3,\n",
    "    \"Tot_salary_earned\": 50818.27\n",
    "}}"
   ]
  },
  {
   "cell_type": "code",
   "execution_count": 172,
   "metadata": {},
   "outputs": [
    {
     "data": {
      "text/plain": [
       "{'Avg_loan_reps': 117975.1033333333,\n",
       " 'Cred_turnover': 2344354,\n",
       " 'DTI_average': 6.9645288988,\n",
       " 'Deb_turnover': 2329904,\n",
       " 'Income_class': 'D',\n",
       " 'Income_free': 4816.7666666666,\n",
       " 'Income_nxt_3_mnths': 50818.27,\n",
       " 'Income_other': 'Yes',\n",
       " 'Income_other_avg': 764512.0866666666,\n",
       " 'Income_other_no_mnths': 2,\n",
       " 'Income_payments': 1,\n",
       " 'Income_regular': 0,\n",
       " 'Income_stable': 'No',\n",
       " 'Income_trend': 1,\n",
       " 'Mnths_with_loan': 1,\n",
       " 'Monthly_avg_income': 16939.4233333333,\n",
       " 'Monthly_med_income': 0.0,\n",
       " 'Rep_last_mnth': 'Yes',\n",
       " 'Salary_day': 23,\n",
       " 'Statement_period': 'January - March',\n",
       " 'Tenor': 3,\n",
       " 'Tot_salary_earned': 50818.27,\n",
       " 'Risk_level': None}"
      ]
     },
     "execution_count": 172,
     "metadata": {},
     "output_type": "execute_result"
    }
   ],
   "source": [
    "a['0']['Risk_level'] = risk_lev(a)\n",
    "a['0']"
   ]
  },
  {
   "cell_type": "code",
   "execution_count": 181,
   "metadata": {},
   "outputs": [
    {
     "data": {
      "text/plain": [
       "False"
      ]
     },
     "execution_count": 181,
     "metadata": {},
     "output_type": "execute_result"
    }
   ],
   "source": [
    "a['0']['Rep_last_mnth'] == any(['Yes', 'No'])"
   ]
  },
  {
   "cell_type": "code",
   "execution_count": 178,
   "metadata": {},
   "outputs": [],
   "source": [
    "import numpy as np"
   ]
  },
  {
   "cell_type": "code",
   "execution_count": 147,
   "metadata": {},
   "outputs": [],
   "source": [
    "import pandas as pd"
   ]
  },
  {
   "cell_type": "code",
   "execution_count": 159,
   "metadata": {},
   "outputs": [],
   "source": [
    "dev = pd.DataFrame.from_dict(a)"
   ]
  },
  {
   "cell_type": "code",
   "execution_count": 161,
   "metadata": {},
   "outputs": [
    {
     "data": {
      "text/html": [
       "<div>\n",
       "<style scoped>\n",
       "    .dataframe tbody tr th:only-of-type {\n",
       "        vertical-align: middle;\n",
       "    }\n",
       "\n",
       "    .dataframe tbody tr th {\n",
       "        vertical-align: top;\n",
       "    }\n",
       "\n",
       "    .dataframe thead th {\n",
       "        text-align: right;\n",
       "    }\n",
       "</style>\n",
       "<table border=\"1\" class=\"dataframe\">\n",
       "  <thead>\n",
       "    <tr style=\"text-align: right;\">\n",
       "      <th></th>\n",
       "      <th>0</th>\n",
       "    </tr>\n",
       "  </thead>\n",
       "  <tbody>\n",
       "    <tr>\n",
       "      <th>Cred_turnover</th>\n",
       "      <td>34</td>\n",
       "    </tr>\n",
       "    <tr>\n",
       "      <th>DTI_average</th>\n",
       "      <td>0.3</td>\n",
       "    </tr>\n",
       "    <tr>\n",
       "      <th>Deb_turnover</th>\n",
       "      <td>0</td>\n",
       "    </tr>\n",
       "    <tr>\n",
       "      <th>Income_class</th>\n",
       "      <td>G</td>\n",
       "    </tr>\n",
       "    <tr>\n",
       "      <th>Income_free</th>\n",
       "      <td>11.41</td>\n",
       "    </tr>\n",
       "    <tr>\n",
       "      <th>Income_nxt_3_mnths</th>\n",
       "      <td>0</td>\n",
       "    </tr>\n",
       "    <tr>\n",
       "      <th>Income_other</th>\n",
       "      <td>Yes</td>\n",
       "    </tr>\n",
       "    <tr>\n",
       "      <th>Income_other_avg</th>\n",
       "      <td>11.64</td>\n",
       "    </tr>\n",
       "    <tr>\n",
       "      <th>Income_other_no_mnths</th>\n",
       "      <td>3</td>\n",
       "    </tr>\n",
       "    <tr>\n",
       "      <th>Income_payments</th>\n",
       "      <td>0</td>\n",
       "    </tr>\n",
       "    <tr>\n",
       "      <th>Income_regular</th>\n",
       "      <td>0</td>\n",
       "    </tr>\n",
       "    <tr>\n",
       "      <th>Income_stable</th>\n",
       "      <td>Income Not Stable</td>\n",
       "    </tr>\n",
       "    <tr>\n",
       "      <th>Income_trend</th>\n",
       "      <td>0</td>\n",
       "    </tr>\n",
       "    <tr>\n",
       "      <th>Mnths_with_loan</th>\n",
       "      <td>0</td>\n",
       "    </tr>\n",
       "    <tr>\n",
       "      <th>Monthly_avg_income</th>\n",
       "      <td>0</td>\n",
       "    </tr>\n",
       "    <tr>\n",
       "      <th>Monthly_med_income</th>\n",
       "      <td>0</td>\n",
       "    </tr>\n",
       "    <tr>\n",
       "      <th>Rep_last_mnth</th>\n",
       "      <td>No</td>\n",
       "    </tr>\n",
       "    <tr>\n",
       "      <th>Salary_day</th>\n",
       "      <td>31</td>\n",
       "    </tr>\n",
       "    <tr>\n",
       "      <th>Statement_period</th>\n",
       "      <td>September - November</td>\n",
       "    </tr>\n",
       "    <tr>\n",
       "      <th>Tenor</th>\n",
       "      <td>3</td>\n",
       "    </tr>\n",
       "    <tr>\n",
       "      <th>Tot_salary_earned</th>\n",
       "      <td>0</td>\n",
       "    </tr>\n",
       "  </tbody>\n",
       "</table>\n",
       "</div>"
      ],
      "text/plain": [
       "                                          0\n",
       "Cred_turnover                            34\n",
       "DTI_average                             0.3\n",
       "Deb_turnover                              0\n",
       "Income_class                              G\n",
       "Income_free                           11.41\n",
       "Income_nxt_3_mnths                        0\n",
       "Income_other                            Yes\n",
       "Income_other_avg                      11.64\n",
       "Income_other_no_mnths                     3\n",
       "Income_payments                           0\n",
       "Income_regular                            0\n",
       "Income_stable             Income Not Stable\n",
       "Income_trend                              0\n",
       "Mnths_with_loan                           0\n",
       "Monthly_avg_income                        0\n",
       "Monthly_med_income                        0\n",
       "Rep_last_mnth                            No\n",
       "Salary_day                               31\n",
       "Statement_period       September - November\n",
       "Tenor                                     3\n",
       "Tot_salary_earned                         0"
      ]
     },
     "execution_count": 161,
     "metadata": {},
     "output_type": "execute_result"
    }
   ],
   "source": [
    "dev"
   ]
  },
  {
   "cell_type": "code",
   "execution_count": null,
   "metadata": {},
   "outputs": [],
   "source": []
  },
  {
   "cell_type": "code",
   "execution_count": null,
   "metadata": {},
   "outputs": [],
   "source": []
  },
  {
   "cell_type": "code",
   "execution_count": null,
   "metadata": {},
   "outputs": [],
   "source": []
  },
  {
   "cell_type": "code",
   "execution_count": null,
   "metadata": {},
   "outputs": [],
   "source": [
    "Very High Risk\tLoan repayment in last month\tYes\n",
    "\tCount of months with loan identified\t=3\n",
    "\tIncome trend\t-1\n",
    "\tIncome payment\t<3\n",
    "            Average loan repayments\t>= Salary  # checka\n",
    "\tIncome stability\tNo\n",
    "\tIncome regularity\t0\n",
    "\tIncome class\tG\n",
    "    \n",
    "Loan repayment in last month\tYes\n",
    "Count of months with loan identified\t2\n",
    "Income trend\t0\n",
    "Income payment\t1\n",
    "        Average loan repayments\t>= Salary\n",
    "Income stability\tNo\n",
    "Income regularity\t0.33\n",
    "Income Class\tF\n",
    "\n",
    "Loan repayment in last month\tNo\n",
    "Count of months with loan identified\t2\n",
    "Income trend\t1\n",
    "Income payment\t2\n",
    "Average loan repayments\t< Salary\n",
    "Income stability\tYes\n",
    "Income regularity\t0.67 or 0.33\n",
    "Income Class\tE, D, C\n",
    "\n",
    "\n",
    "Loan repayment in last month\tNo or Yes\n",
    "Count of months with loan identified\t1\n",
    "Income trend\t0\n",
    "Income payment\t2\n",
    "Average loan repayments\t< Salary\n",
    "Income stability\tYes\n",
    "Income regularity\t0.67\n",
    "Income Class\tD, C, B or A\n",
    "\n",
    "Loan repayment in last month\tNo\n",
    "Count of months with loan identified\t0\n",
    "Income trend\t1\n",
    "Income payment\t3\n",
    "        Average loan repayments\t< Salary\n",
    "Income stability\tYes\n",
    "Income regularity\t1\n",
    "Income class\tD, C, B or A"
   ]
  },
  {
   "cell_type": "code",
   "execution_count": 166,
   "metadata": {},
   "outputs": [],
   "source": [
    "\n",
    "def risk_lev(a):\n",
    "    if a['0']['Rep_last_mnth'] == 'Yes' and a['0']['Mnths_with_loan'] == 3 and a['0']['Income_trend'] == -1 and a['0']['Income_payments'] < 3 and a['0']['Avg_loan_reps'] >= a['0']['Monthly_avg_income'] and a['Income_stable'] == 'No' and a['0']['Income_regular'] == 0 and a['0']['Income_class'] == 'G':\n",
    "        return 'VH'\n",
    "    elif a['0']['Rep_last_mnth'] == 'Yes' and a['0']['Mnths_with_loan'] >= 2 and a['0']['Income_trend'] <= 0 and a['0']['Income_payments'] == 1 and a['0']['Avg_loan_reps'] >= a['0']['Monthly_avg_income'] and a['Income_stable'] == 'No' and a['0']['Income_regular'] == 0.33 and a['0']['Income_class'] == 'F':\n",
    "        return 'H'\n",
    "    elif a['0']['Rep_last_mnth'] == 'No' and a['0']['Mnths_with_loan'] == 2 and a['0']['Income_trend'] == 1 and a['0']['Income_payments'] == 2 and a['0']['Avg_loan_reps'] < a['0']['Monthly_avg_income'] and a['Income_stable'] == 'Yes' and a['0']['Income_regular'] >= 0.33 and (a['0']['Income_class'] == 'E' or a['0']['Income_class'] == 'D' or a['0']['Income_class'] == 'C'):\n",
    "        return 'M'\n",
    "    elif (a['0']['Rep_last_mnth'] == 'Yes' or a['0']['Rep_last_mnth'] == 'No')  and a['0']['Mnths_with_loan'] <= 1 and a['0']['Income_trend'] == 0 and a['0']['Income_payments'] == 2 and a['0']['Avg_loan_reps'] < a['Monthly_avg_income'] and a['0']['Income_stable'] == 'Yes' and a['0']['Income_regular'] >= 0.67 and (a['0']['Income_class'] == 'D' or a['0']['Income_class'] == 'C' or a['0']['Income_class'] == 'B' or a['0']['Income_class'] == 'A'):\n",
    "        return 'L'\n",
    "    elif a['0']['Rep_last_mnth'] == 'No' and a['0']['Mnths_with_loan'] == 0 and a['0']['Income_trend'] == 1 and a['0']['Income_payments'] == 3 and a['0']['Avg_loan_reps'] < a['0']['Monthly_avg_income'] and a['Income_stable'] == 'Yes' and a['0']['Income_regular'] == 1 and (a['0']['Income_class'] == 'D' or a['0']['Income_class']== 'C' or a['0']['Income_class'] == 'A'):\n",
    "        return 'VL'\n",
    "    else:\n",
    "        return 'M'\n",
    "    "
   ]
  },
  {
   "cell_type": "code",
   "execution_count": null,
   "metadata": {},
   "outputs": [],
   "source": [
    "a = ['Rep_last_mnth'] == 'Yes'"
   ]
  },
  {
   "cell_type": "code",
   "execution_count": null,
   "metadata": {},
   "outputs": [],
   "source": []
  },
  {
   "cell_type": "code",
   "execution_count": null,
   "metadata": {},
   "outputs": [],
   "source": []
  },
  {
   "cell_type": "code",
   "execution_count": null,
   "metadata": {},
   "outputs": [],
   "source": []
  },
  {
   "cell_type": "code",
   "execution_count": null,
   "metadata": {},
   "outputs": [],
   "source": []
  },
  {
   "cell_type": "code",
   "execution_count": null,
   "metadata": {},
   "outputs": [],
   "source": []
  },
  {
   "cell_type": "code",
   "execution_count": null,
   "metadata": {},
   "outputs": [],
   "source": [
    "1, 2, 3, 4        1, 2, 3\n",
    "1, 2, 3, 4    x   1 ,2 ,3\n",
    "1, 2, 3, 4        1, 2, 3\n",
    "1, 2, 3, 4"
   ]
  },
  {
   "cell_type": "code",
   "execution_count": null,
   "metadata": {},
   "outputs": [],
   "source": [
    "1, 2, 3, 0, 1, 2, 3, 0, 1, 2, 3\n",
    "0, 1, 2, 3, 0, 1, 2, 3, 0, 1, 2 3\n",
    "0, 0, 1, 2, 3, 0, 1, 2, 3, 0, 1, 2, 3\n",
    ".                                            x \n",
    ".\n",
    ".\n",
    "."
   ]
  },
  {
   "cell_type": "code",
   "execution_count": null,
   "metadata": {},
   "outputs": [],
   "source": []
  }
 ],
 "metadata": {
  "kernelspec": {
   "display_name": "Python 3",
   "language": "python",
   "name": "python3"
  },
  "language_info": {
   "codemirror_mode": {
    "name": "ipython",
    "version": 3
   },
   "file_extension": ".py",
   "mimetype": "text/x-python",
   "name": "python",
   "nbconvert_exporter": "python",
   "pygments_lexer": "ipython3",
   "version": "3.7.3"
  }
 },
 "nbformat": 4,
 "nbformat_minor": 2
}
