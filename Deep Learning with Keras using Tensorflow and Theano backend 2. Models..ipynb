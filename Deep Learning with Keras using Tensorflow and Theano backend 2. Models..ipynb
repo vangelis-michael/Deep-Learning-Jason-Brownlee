{
 "cells": [
  {
   "cell_type": "markdown",
   "metadata": {},
   "source": [
    "# Chapter 10.\n",
    "Project: Multiclass Classification of Flower Species"
   ]
  },
  {
   "cell_type": "markdown",
   "metadata": {},
   "source": [
    "Using the Iris dataset with the following features:\n",
    "    \n",
    "    1. Sepal length in centimeters.\n",
    "    2. Sepal width in centimeters.\n",
    "    3. Petal length in centimeters.\n",
    "    4. Petal width in centimeters.\n",
    "    5. Class."
   ]
  },
  {
   "cell_type": "code",
   "execution_count": 1,
   "metadata": {},
   "outputs": [
    {
     "name": "stdout",
     "output_type": "stream",
     "text": [
      "--2020-02-28 18:19:48--  http://archive.ics.uci.edu/ml/machine-learning-databases/iris/iris.data\n",
      "Resolving archive.ics.uci.edu (archive.ics.uci.edu)... 128.195.10.252\n",
      "Connecting to archive.ics.uci.edu (archive.ics.uci.edu)|128.195.10.252|:80... connected.\n",
      "HTTP request sent, awaiting response... 200 OK\n",
      "Length: 4551 (4.4K) [application/x-httpd-php]\n",
      "Saving to: ‘iris.data’\n",
      "\n",
      "iris.data           100%[===================>]   4.44K  --.-KB/s    in 0s      \n",
      "\n",
      "2020-02-28 18:19:49 (186 MB/s) - ‘iris.data’ saved [4551/4551]\n",
      "\n"
     ]
    }
   ],
   "source": [
    "# Download the data from its repository\n",
    "!wget http://archive.ics.uci.edu/ml/machine-learning-databases/iris/iris.data"
   ]
  },
  {
   "cell_type": "code",
   "execution_count": 2,
   "metadata": {},
   "outputs": [
    {
     "name": "stdout",
     "output_type": "stream",
     "text": [
      " AMMI_Models.py\r\n",
      "'Deep Learning using Keras with Tensorflow and Theano backend..ipynb'\r\n",
      "'Deep Learning With Tensorflow, Keras, Theano, Python.ipynb'\r\n",
      " iris.data\r\n",
      "'Linear Algebra and Basics Mathematics..ipynb'\r\n",
      " model_plot.png\r\n",
      " pima-indians-diabetes.data.csv\r\n",
      " __pycache__\r\n"
     ]
    }
   ],
   "source": [
    "# Check working directory for data\n",
    "!ls"
   ]
  },
  {
   "cell_type": "code",
   "execution_count": 3,
   "metadata": {},
   "outputs": [],
   "source": [
    "# Import classes and functions\n",
    "import numpy as np\n",
    "import pandas as pd\n",
    "from keras.wrappers.scikit_learn import KerasClassifier\n",
    "from keras.models import Sequential\n",
    "from keras.layers import Dense\n",
    "from keras.utils.vis_utils import plot_model\n",
    "from keras.utils import np_utils\n",
    "from sklearn.model_selection import cross_val_score, KFold\n",
    "from sklearn.preprocessing import LabelEncoder\n",
    "from sklearn.pipeline import Pipeline"
   ]
  },
  {
   "cell_type": "code",
   "execution_count": 4,
   "metadata": {},
   "outputs": [],
   "source": [
    "# Set random seed for reproducibility\n",
    "seed = 7\n",
    "np.random.seed(seed)"
   ]
  },
  {
   "cell_type": "code",
   "execution_count": 5,
   "metadata": {},
   "outputs": [
    {
     "data": {
      "text/plain": [
       "(150, 5)"
      ]
     },
     "execution_count": 5,
     "metadata": {},
     "output_type": "execute_result"
    }
   ],
   "source": [
    "# Read iris dataset\n",
    "dataframe = pd.read_csv('iris.data', header = None)\n",
    "dataset = dataframe.values\n",
    "dataset.shape"
   ]
  },
  {
   "cell_type": "code",
   "execution_count": 6,
   "metadata": {},
   "outputs": [
    {
     "data": {
      "text/plain": [
       "((150, 4), (150,))"
      ]
     },
     "execution_count": 6,
     "metadata": {},
     "output_type": "execute_result"
    }
   ],
   "source": [
    "# Split into Features and Labels\n",
    "X = dataset[:, :4].astype(float)\n",
    "Y = dataset[:, 4]\n",
    "X.shape, Y.shape"
   ]
  },
  {
   "cell_type": "code",
   "execution_count": null,
   "metadata": {},
   "outputs": [],
   "source": [
    "pd.get_dummies"
   ]
  },
  {
   "cell_type": "code",
   "execution_count": 7,
   "metadata": {},
   "outputs": [
    {
     "data": {
      "text/plain": [
       "(150, 3)"
      ]
     },
     "execution_count": 7,
     "metadata": {},
     "output_type": "execute_result"
    }
   ],
   "source": [
    "# Encode the output variable Y\n",
    "encoder = LabelEncoder()\n",
    "encoder.fit(Y)\n",
    "encoded_Y = encoder.transform(Y)\n",
    "# convert integers to dummy variables (one-hot-encode)\n",
    "dummy_y = np_utils.to_categorical(encoded_Y)\n",
    "dummy_y.shape"
   ]
  },
  {
   "cell_type": "code",
   "execution_count": 8,
   "metadata": {},
   "outputs": [],
   "source": [
    "# Define our baseline neural network\n",
    "def baseline_model():\n",
    "    # Create model\n",
    "    model = Sequential()\n",
    "    model.add(Dense(4, input_dim = 4, kernel_initializer='normal', activation='relu'))\n",
    "    model.add(Dense(3, kernel_initializer='normal', activation = 'sigmoid'))\n",
    "    # Compile model\n",
    "    model.compile(loss='categorical_crossentropy', optimizer = 'adam', metrics = ['accuracy'])\n",
    "    return model"
   ]
  },
  {
   "cell_type": "code",
   "execution_count": 9,
   "metadata": {},
   "outputs": [
    {
     "name": "stdout",
     "output_type": "stream",
     "text": [
      "Model: \"sequential_1\"\n",
      "_________________________________________________________________\n",
      "Layer (type)                 Output Shape              Param #   \n",
      "=================================================================\n",
      "dense_1 (Dense)              (None, 4)                 20        \n",
      "_________________________________________________________________\n",
      "dense_2 (Dense)              (None, 3)                 15        \n",
      "=================================================================\n",
      "Total params: 35\n",
      "Trainable params: 35\n",
      "Non-trainable params: 0\n",
      "_________________________________________________________________\n"
     ]
    }
   ],
   "source": [
    "# Call the model and check the summary.\n",
    "model = baseline_model()\n",
    "model.summary()"
   ]
  },
  {
   "cell_type": "code",
   "execution_count": 10,
   "metadata": {},
   "outputs": [],
   "source": [
    "# Import and time fitting operation\n",
    "import time"
   ]
  },
  {
   "cell_type": "code",
   "execution_count": 11,
   "metadata": {},
   "outputs": [
    {
     "name": "stdout",
     "output_type": "stream",
     "text": [
      "Operation took 0.51% minutes\n",
      "Accuracy: 88.67% (21.09%)\n"
     ]
    }
   ],
   "source": [
    "# Wrap our neural network model using the Keras Wrapper\n",
    "estimator = KerasClassifier(build_fn=baseline_model, epochs=200, batch_size=5, verbose = 0)\n",
    "# Setup our KFold cross validation\n",
    "kfold = KFold(n_splits=10, shuffle=True, random_state=seed)\n",
    "# Evaluate model (estimator) on dataset (X and dummy_y)\n",
    "start = time.time()\n",
    "results = cross_val_score(estimator, X, dummy_y, cv=kfold)\n",
    "end = time.time()\n",
    "print(\"Operation took %.2f%% minutes\"%((end-start)/60))\n",
    "print(\"Accuracy: %.2f%% (%.2f%%)\" %(results.mean()*100, results.std()*100))"
   ]
  },
  {
   "cell_type": "code",
   "execution_count": 12,
   "metadata": {},
   "outputs": [
    {
     "data": {
      "image/png": "[encoded data removed]",
      "text/plain": [
       "<IPython.core.display.Image object>"
      ]
     },
     "execution_count": 12,
     "metadata": {},
     "output_type": "execute_result"
    }
   ],
   "source": [
    "plot_model(model, to_file='baseline_model_plot.png', show_shapes=True, show_layer_names=True)"
   ]
  },
  {
   "cell_type": "code",
   "execution_count": null,
   "metadata": {},
   "outputs": [],
   "source": []
  },
  {
   "cell_type": "markdown",
   "metadata": {},
   "source": [
    "# Chapter 11.\n",
    "Project: Binary Classification of Sonar Returns using the Sonar dataset"
   ]
  },
  {
   "cell_type": "code",
   "execution_count": 13,
   "metadata": {},
   "outputs": [
    {
     "name": "stdout",
     "output_type": "stream",
     "text": [
      "--2020-02-28 18:59:41--  https://archive.ics.uci.edu/ml/machine-learning-databases/undocumented/connectionist-bench/sonar/sonar.all-data\n",
      "Resolving archive.ics.uci.edu (archive.ics.uci.edu)... 128.195.10.252\n",
      "Connecting to archive.ics.uci.edu (archive.ics.uci.edu)|128.195.10.252|:443... connected.\n",
      "HTTP request sent, awaiting response... 200 OK\n",
      "Length: 87776 (86K) [application/x-httpd-php]\n",
      "Saving to: ‘sonar.all-data’\n",
      "\n",
      "sonar.all-data      100%[===================>]  85.72K  93.0KB/s    in 0.9s    \n",
      "\n",
      "2020-02-28 18:59:44 (93.0 KB/s) - ‘sonar.all-data’ saved [87776/87776]\n",
      "\n"
     ]
    }
   ],
   "source": [
    "# Fetch data\n",
    "!wget https://archive.ics.uci.edu/ml/machine-learning-databases/undocumented/connectionist-bench/sonar/sonar.all-data"
   ]
  },
  {
   "cell_type": "code",
   "execution_count": 15,
   "metadata": {},
   "outputs": [
    {
     "name": "stdout",
     "output_type": "stream",
     "text": [
      " AMMI_Models.py\r\n",
      " baseline_model_plot.png\r\n",
      "'Deep Learning using Keras with Tensorflow and Theano backend..ipynb'\r\n",
      "'Deep Learning With Tensorflow, Keras, Theano, Python.ipynb'\r\n",
      " iris.data\r\n",
      "'Linear Algebra and Basics Mathematics..ipynb'\r\n",
      " model_plot.png\r\n",
      " pima-indians-diabetes.data.csv\r\n",
      " __pycache__\r\n",
      " sonar.all-data\r\n"
     ]
    }
   ],
   "source": [
    "!ls"
   ]
  },
  {
   "cell_type": "code",
   "execution_count": 16,
   "metadata": {},
   "outputs": [
    {
     "data": {
      "text/plain": [
       "(208, 61)"
      ]
     },
     "execution_count": 16,
     "metadata": {},
     "output_type": "execute_result"
    }
   ],
   "source": [
    "# Read data to a csv\n",
    "dataframe = pd.read_csv(\"sonar.all-data\", header=None)\n",
    "dataset = dataframe.values\n",
    "dataset.shape"
   ]
  },
  {
   "cell_type": "code",
   "execution_count": 17,
   "metadata": {},
   "outputs": [],
   "source": [
    "# Split data into X and Y variables\n",
    "X = dataset[:,:60].astype(float)\n",
    "Y = dataset[:, 60]"
   ]
  },
  {
   "cell_type": "code",
   "execution_count": 18,
   "metadata": {},
   "outputs": [],
   "source": [
    "# Encode the class values as integers\n",
    "encoder = LabelEncoder()\n",
    "encoder.fit(Y)\n",
    "encoded_Y = encoder.transform(Y)"
   ]
  },
  {
   "cell_type": "code",
   "execution_count": 19,
   "metadata": {},
   "outputs": [],
   "source": [
    "# Create baseline model\n",
    "def create_baseline():\n",
    "    # Create model\n",
    "    model = Sequential()\n",
    "    model.add(Dense(60, input_dim=60, kernel_initializer='normal', activation='relu'))\n",
    "    model.add(Dense(1, kernel_initializer='normal', activation='sigmoid'))\n",
    "    # Compile model\n",
    "    model.compile(loss='binary_crossentropy', optimizer='adam', metrics=['accuracy'])\n",
    "    return model"
   ]
  },
  {
   "cell_type": "code",
   "execution_count": 20,
   "metadata": {},
   "outputs": [
    {
     "name": "stdout",
     "output_type": "stream",
     "text": [
      "Model: \"sequential_12\"\n",
      "_________________________________________________________________\n",
      "Layer (type)                 Output Shape              Param #   \n",
      "=================================================================\n",
      "dense_23 (Dense)             (None, 60)                3660      \n",
      "_________________________________________________________________\n",
      "dense_24 (Dense)             (None, 1)                 61        \n",
      "=================================================================\n",
      "Total params: 3,721\n",
      "Trainable params: 3,721\n",
      "Non-trainable params: 0\n",
      "_________________________________________________________________\n"
     ]
    }
   ],
   "source": [
    "model = create_baseline()\n",
    "model.summary()"
   ]
  },
  {
   "cell_type": "code",
   "execution_count": 22,
   "metadata": {},
   "outputs": [
    {
     "name": "stdout",
     "output_type": "stream",
     "text": [
      "Operation completed in 0.55% minutes\n",
      "Baseline: 80.80% (6.37%)\n"
     ]
    }
   ],
   "source": [
    "# Import stratified kfold for binary classification.\n",
    "from sklearn.model_selection import StratifiedKFold\n",
    "# Build keras wrapper\n",
    "estimator = KerasClassifier(build_fn=create_baseline, epochs=100, batch_size=5, verbose = 0)\n",
    "kfold = StratifiedKFold(n_splits=10, shuffle = True, random_state = seed)\n",
    "start = time.time()\n",
    "results = cross_val_score(estimator, X, encoded_Y, cv=kfold)\n",
    "end = time.time()\n",
    "print(\"Operation completed in %.2f%% minutes\" %((end-start)/60))\n",
    "print(\"Baseline: %.2f%% (%.2f%%)\" %(results.mean()*100, results.std()*100))"
   ]
  },
  {
   "cell_type": "markdown",
   "metadata": {},
   "source": [
    "We see the accuracy a simple baseline model gives us. We can attempt to improve this performance by doing data preparation."
   ]
  },
  {
   "cell_type": "markdown",
   "metadata": {},
   "source": [
    "#### Improve network by scaling data"
   ]
  },
  {
   "cell_type": "code",
   "execution_count": 23,
   "metadata": {},
   "outputs": [],
   "source": [
    "# Let's standard scale our data and pass this in a pipeline class to avoid data leakage.\n",
    "from sklearn.preprocessing import StandardScaler\n",
    "from sklearn.pipeline import Pipeline"
   ]
  },
  {
   "cell_type": "code",
   "execution_count": 24,
   "metadata": {},
   "outputs": [
    {
     "name": "stdout",
     "output_type": "stream",
     "text": [
      "Operation completed in 24.63% seconds\n",
      "Standardized: 84.59% (7.44%)\n"
     ]
    }
   ],
   "source": [
    "# Evaluate baseline model with standardized dataset.\n",
    "estimators = [] # Create empty list.\n",
    "estimators.append(('standardize', StandardScaler())) # Call the standard scaler class and append to list.\n",
    "# Wrap the model using the keras wrapper and append to the list.\n",
    "estimators.append(('mlp', KerasClassifier(build_fn=create_baseline, epochs=100, batch_size= 5, verbose=0)))\n",
    "# Set the pipeline to the created list with the operations in order.\n",
    "pipeline = Pipeline(estimators)\n",
    "# Create a stratified kfold split.\n",
    "kfold = StratifiedKFold(n_splits=10, shuffle=True, random_state=seed)\n",
    "# run the model\n",
    "start = time.time()\n",
    "results = cross_val_score(pipeline, X, encoded_Y, cv=kfold)\n",
    "end = time.time()\n",
    "print('Operation completed in %.2f%% seconds'%(end-start))\n",
    "print('Standardized: %.2f%% (%.2f%%)' % (results.mean()*100, results.std()*100))"
   ]
  },
  {
   "cell_type": "markdown",
   "metadata": {},
   "source": [
    "#### Improve network by tuning layers and neurons in the model"
   ]
  },
  {
   "cell_type": "markdown",
   "metadata": {},
   "source": [
    "There are many things to tune on a neural network, such as the weight initialization, activation\n",
    "functions, optimization procedure and so on. \n",
    "\n",
    "One aspect that may have an outsized effect is the structure of the network itself called the network topology. \n",
    "\n",
    "In this section we take a look at two experiments on the structure of the network: \n",
    "    making it smaller and making it larger. \n",
    "    \n",
    "These are good experiments to perform when tuning a neural network on your problem."
   ]
  },
  {
   "cell_type": "markdown",
   "metadata": {},
   "source": [
    "##### Smaller Network"
   ]
  },
  {
   "cell_type": "code",
   "execution_count": 25,
   "metadata": {},
   "outputs": [],
   "source": [
    "def smaller_baseline():\n",
    "    model = Sequential()\n",
    "    model.add(Dense(30, input_dim = 60, kernel_initializer='normal', activation='relu'))\n",
    "    model.add(Dense(1, kernel_initializer='normal', activation= 'sigmoid'))\n",
    "    #compile model\n",
    "    model.compile(loss ='binary_crossentropy', optimizer='adam', metrics = ['accuracy'])\n",
    "    return model"
   ]
  },
  {
   "cell_type": "code",
   "execution_count": 27,
   "metadata": {},
   "outputs": [
    {
     "name": "stdout",
     "output_type": "stream",
     "text": [
      "Time taken: 30.33% seconds\n",
      "Smaller network: 84.11% (7.51%)\n"
     ]
    }
   ],
   "source": [
    "# Using the smaller model and standardizing the dataset\n",
    "estimators = []\n",
    "estimators.append(('standardize', StandardScaler()))\n",
    "estimators.append(('mlp', KerasClassifier(build_fn=smaller_baseline, epochs = 100, \n",
    "                                          batch_size = 5, verbose = 0)))\n",
    "pipeline = Pipeline(estimators)\n",
    "kfold = StratifiedKFold(n_splits=10, shuffle=True, random_state = seed)\n",
    "start = time.time()\n",
    "results = cross_val_score(pipeline, X, encoded_Y, cv=kfold)\n",
    "end = time.time()\n",
    "print('Time taken: %.2f seconds'%(end-start))\n",
    "print(\"Smaller network: %.2f%% (%.2f%%)\" %(results.mean()*100, results.std()*100))"
   ]
  },
  {
   "cell_type": "markdown",
   "metadata": {},
   "source": [
    "##### Larger Network"
   ]
  },
  {
   "cell_type": "code",
   "execution_count": 28,
   "metadata": {},
   "outputs": [],
   "source": [
    "def larger_baseline():\n",
    "    model = Sequential()\n",
    "    model.add(Dense(60, input_dim = 60, kernel_initializer='normal', activation = 'relu'))\n",
    "    model.add(Dense(30, kernel_initializer='normal', activation = 'relu'))\n",
    "    model.add(Dense(1, kernel_initializer='normal', activation='sigmoid'))\n",
    "    # compile model\n",
    "    model.compile(loss = 'binary_crossentropy', optimizer='adam', metrics = ['accuracy'])\n",
    "    return model"
   ]
  },
  {
   "cell_type": "code",
   "execution_count": 29,
   "metadata": {},
   "outputs": [
    {
     "name": "stdout",
     "output_type": "stream",
     "text": [
      "Time taken: 30.54% seconds\n",
      "Larger network: 82.64% (7.88%)\n"
     ]
    }
   ],
   "source": [
    "estimators = []\n",
    "estimators.append(('standardize', StandardScaler()))\n",
    "estimators.append(('mlp', KerasClassifier(build_fn=larger_baseline, epochs = 100, \n",
    "                                          batch_size = 5, verbose =0)))\n",
    "pipeline = Pipeline(estimators)\n",
    "kfold = StratifiedKFold(n_splits=10, shuffle=True, random_state=seed)\n",
    "start = time.time()\n",
    "results = cross_val_score(pipeline, X, encoded_Y, cv=kfold)\n",
    "end = time.time()\n",
    "print('Time taken: %.2f%% seconds'%(end-start))\n",
    "print('Larger network: %.2f%% (%.2f%%)' %(results.mean()*100, results.std()*100))"
   ]
  },
  {
   "cell_type": "markdown",
   "metadata": {},
   "source": [
    "Turns out it became worse, however these are techniques one can use in lifting the performance of a model.\n",
    "\n",
    "We can attempt changing the choice of optimization algorithm and the number of training epochs and verify what these tunes will give us."
   ]
  },
  {
   "cell_type": "markdown",
   "metadata": {},
   "source": [
    "Summary:\n",
    "We have seen how to:\n",
    "    1. How to create a baseline neural network model.\n",
    "    2. How to evaluate a Keras model using scikit-learn and stratified k-fold cross validation.\n",
    "    3. How data preparation schemes can lift the performance of your models.\n",
    "    4. How experiments adjusting the network topology can lift model performance."
   ]
  },
  {
   "cell_type": "markdown",
   "metadata": {},
   "source": [
    "# Chapter 12:\n",
    "    Project: Regression of Boston House Prices."
   ]
  },
  {
   "cell_type": "markdown",
   "metadata": {},
   "source": [
    "We will skip this (probably come back later), you can go ahead and build the code for this project. It basically is a regression task.\n",
    "\n",
    "We will take the chapter on saving your models for later with Serialization"
   ]
  },
  {
   "cell_type": "markdown",
   "metadata": {},
   "source": [
    "# Chapter 13:\n",
    "    Saving models for later with Serialization"
   ]
  },
  {
   "cell_type": "markdown",
   "metadata": {},
   "source": [
    "Objectives:\n",
    "    1. How to save and load Keras model weights to HDF5 formatted files.\n",
    "    2. How to save and load Keras model structure to JSON files.\n",
    "    3. How to save and load Keras model structure to YAML files."
   ]
  },
  {
   "cell_type": "markdown",
   "metadata": {},
   "source": [
    "HDF5 Format:\n",
    "\n",
    "    Model weights are saved to HDF5 format. This is a grid format that is ideal for storing multi-dimensional arrays of numbers.\n",
    "    \n",
    "    HDF5 = Heirarchical Data Format.\n",
    "    \n",
    "    A flexible data storage format and is convenient for storing large arrays of real values, as we have in the weights of neural networks.\n",
    "    \n",
    "    Model structure is converted to a JSON format and written to model.json.\n",
    "    Network weights are written to model.h5 in the local directory."
   ]
  },
  {
   "cell_type": "code",
   "execution_count": 30,
   "metadata": {},
   "outputs": [
    {
     "name": "stdout",
     "output_type": "stream",
     "text": [
      "Defaulting to user installation because normal site-packages is not writeable\n",
      "Requirement already satisfied: h5py in /usr/lib/python3/dist-packages (2.8.0)\n"
     ]
    }
   ],
   "source": [
    "!pip3 install h5py"
   ]
  },
  {
   "cell_type": "code",
   "execution_count": 32,
   "metadata": {},
   "outputs": [
    {
     "name": "stdout",
     "output_type": "stream",
     "text": [
      "accuracy: 100.00%\n"
     ]
    }
   ],
   "source": [
    "#Build a simple model to save.\n",
    "\n",
    "# Split data into X and Y variables\n",
    "# Encode Y variable.\n",
    "\n",
    "# Create model\n",
    "model = Sequential()\n",
    "model.add(Dense(60, input_dim = 60, kernel_initializer='normal', activation = 'relu'))\n",
    "model.add(Dense(30, kernel_initializer='normal', activation = 'relu'))\n",
    "model.add(Dense(1, kernel_initializer='normal', activation='sigmoid'))\n",
    "# compile model\n",
    "model.compile(loss = 'binary_crossentropy', optimizer='adam', metrics = ['accuracy'])\n",
    "# fit the model\n",
    "model.fit(X, encoded_Y, epochs = 150, batch_size=5, verbose=0)\n",
    "# Evaluate the model\n",
    "scores = model.evaluate(X, encoded_Y, verbose = 0)\n",
    "print('%s: %.2f%%' % (model.metrics_names[1], scores[1]*100))"
   ]
  },
  {
   "cell_type": "code",
   "execution_count": null,
   "metadata": {},
   "outputs": [],
   "source": []
  },
  {
   "cell_type": "code",
   "execution_count": 33,
   "metadata": {},
   "outputs": [],
   "source": [
    "# Saving a neural network model to json (Using the last model for the Sonar dataset)\n",
    "# Import libraries for saving models\n",
    "from keras.models import model_from_json # to load models\n",
    "import os # to make changes to local directory\n",
    "# Serialize model to json\n",
    "model_json = model.to_json()\n",
    "with open('Models/model_sonar.json', 'w') as json_file:\n",
    "    json_file.write(model_json)"
   ]
  },
  {
   "cell_type": "code",
   "execution_count": 34,
   "metadata": {},
   "outputs": [
    {
     "name": "stdout",
     "output_type": "stream",
     "text": [
      "Saved model to disk...\n"
     ]
    }
   ],
   "source": [
    "# Serialize weights to HDF5\n",
    "model.save_weights('Weights/model_sonar.h5')\n",
    "print('Saved model to disk...')"
   ]
  },
  {
   "cell_type": "markdown",
   "metadata": {},
   "source": [
    "###### Reuse your saved model"
   ]
  },
  {
   "cell_type": "code",
   "execution_count": 35,
   "metadata": {},
   "outputs": [],
   "source": [
    "# Load json and create model\n",
    "json_file = open('Models/model_sonar.json', 'r')\n",
    "# Read the json file\n",
    "loaded_model_json = json_file.read()\n",
    "# Close the read operation\n",
    "json_file.close()\n",
    "# Load the model from json\n",
    "loaded_model = model_from_json(loaded_model_json)"
   ]
  },
  {
   "cell_type": "code",
   "execution_count": 36,
   "metadata": {},
   "outputs": [
    {
     "name": "stdout",
     "output_type": "stream",
     "text": [
      "Loaded model from disk...\n"
     ]
    }
   ],
   "source": [
    "# Load weights into new model\n",
    "loaded_model.load_weights('Weights/model_sonar.h5')\n",
    "print('Loaded model from disk...')"
   ]
  },
  {
   "cell_type": "code",
   "execution_count": 38,
   "metadata": {},
   "outputs": [
    {
     "name": "stdout",
     "output_type": "stream",
     "text": [
      "accuracy: 100.00%\n"
     ]
    }
   ],
   "source": [
    "# Compile loaded model\n",
    "loaded_model.compile(loss = 'binary_crossentropy', optimizer = 'adam', metrics = ['accuracy'])\n",
    "# Evaluate loaded model on test data\n",
    "score = loaded_model.evaluate(X, encoded_Y, verbose= 0)\n",
    "print('%s: %.2f%%' % (loaded_model.metrics_names[1], score[1]*100))"
   ]
  },
  {
   "cell_type": "code",
   "execution_count": null,
   "metadata": {},
   "outputs": [],
   "source": []
  },
  {
   "cell_type": "markdown",
   "metadata": {},
   "source": [
    "YAML Format:\n",
    "    \n",
    "    Same as to json just with a different format YAML.\n",
    "    \n",
    "    The model specification is saved to a .YAML file and we can load this back later."
   ]
  },
  {
   "cell_type": "code",
   "execution_count": 39,
   "metadata": {},
   "outputs": [
    {
     "name": "stdout",
     "output_type": "stream",
     "text": [
      "Saved model and weights to disk ...\n"
     ]
    }
   ],
   "source": [
    "# Import modules for saving to yaml\n",
    "from keras.models import model_from_yaml\n",
    "\n",
    "# With same data and model as before\n",
    "\n",
    "# Serialize model to YAML\n",
    "model_yaml = model.to_yaml()\n",
    "with open('Models/model_sonar.yaml', 'w') as yaml_file:\n",
    "    yaml_file.write(model_yaml)\n",
    "    \n",
    "# Serialize weights to HDF5\n",
    "model.save_weights('Weights/model_sonar2.h5')\n",
    "print('Saved model and weights to disk ...')"
   ]
  },
  {
   "cell_type": "markdown",
   "metadata": {},
   "source": [
    "##### Reuse saved YAML model"
   ]
  },
  {
   "cell_type": "code",
   "execution_count": 40,
   "metadata": {},
   "outputs": [
    {
     "name": "stdout",
     "output_type": "stream",
     "text": [
      "Loaded model from disk...\n"
     ]
    }
   ],
   "source": [
    "# Load YAML and create model\n",
    "yaml_file = open('Models/model_sonar.yaml', 'r')\n",
    "loaded_model_yaml = yaml_file.read()\n",
    "yaml_file.close()\n",
    "loaded_model = model_from_yaml(loaded_model_yaml)\n",
    "# Load weights into model\n",
    "loaded_model.load_weights('Weights/model_sonar2.h5')\n",
    "print('Loaded model from disk...')"
   ]
  },
  {
   "cell_type": "code",
   "execution_count": 41,
   "metadata": {},
   "outputs": [
    {
     "name": "stdout",
     "output_type": "stream",
     "text": [
      "accuracy: 100.00%\n"
     ]
    }
   ],
   "source": [
    "# Evaluate loaded model on teest data\n",
    "loaded_model.compile(loss = 'binary_crossentropy', optimizer='adam', metrics=['accuracy'])\n",
    "score = loaded_model.evaluate(X, encoded_Y, verbose=0)\n",
    "print('%s: %.2f%%' % (loaded_model.metrics_names[1], score[1]*100))"
   ]
  },
  {
   "cell_type": "code",
   "execution_count": 43,
   "metadata": {},
   "outputs": [],
   "source": [
    "import keras\n",
    "keras.backend.clear_session()"
   ]
  },
  {
   "cell_type": "code",
   "execution_count": null,
   "metadata": {},
   "outputs": [],
   "source": []
  },
  {
   "cell_type": "markdown",
   "metadata": {},
   "source": [
    "# Chapter 14:\n",
    "    Keeping the best Models during Training with Checkpointing."
   ]
  },
  {
   "cell_type": "code",
   "execution_count": null,
   "metadata": {},
   "outputs": [],
   "source": []
  }
 ],
 "metadata": {
  "kernelspec": {
   "display_name": "Python 3",
   "language": "python",
   "name": "python3"
  },
  "language_info": {
   "codemirror_mode": {
    "name": "ipython",
    "version": 3
   },
   "file_extension": ".py",
   "mimetype": "text/x-python",
   "name": "python",
   "nbconvert_exporter": "python",
   "pygments_lexer": "ipython3",
   "version": "3.7.3"
  }
 },
 "nbformat": 4,
 "nbformat_minor": 2
}
